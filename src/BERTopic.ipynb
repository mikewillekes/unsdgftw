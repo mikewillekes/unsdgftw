{
 "cells": [
  {
   "cell_type": "code",
   "execution_count": 1,
   "metadata": {},
   "outputs": [
    {
     "name": "stdout",
     "output_type": "stream",
     "text": [
      "Using GPU: True\n"
     ]
    }
   ],
   "source": [
    "import re\n",
    "import time\n",
    "\n",
    "from bertopic import BERTopic\n",
    "from sentence_transformers import SentenceTransformer,util\n",
    "import torch\n",
    "\n",
    "# Local application imports\n",
    "from metadata.document_metadata import *\n",
    "from metadata.paragraph_metadata import *\n",
    "from metadata.nlp_metadata import *\n",
    "from config import config\n",
    "from sdgs.sustainable_development_goals import *\n",
    "from clean.clean_text import normalize_unicode"
   ]
  },
  {
   "cell_type": "code",
   "execution_count": 29,
   "metadata": {},
   "outputs": [],
   "source": [
    "model = BERTopic(embedding_model='all-MiniLM-L6-v2')\n",
    "\n",
    "paragraph_corpus = []\n",
    "\n",
    "def process_document(document_collection_name, document):\n",
    "    # Build a collection of tuples (document, paragraph)\n",
    "    return list(build_paragraph_corpus(document_collection_name, document))\n",
    "\n",
    "\n",
    "def build_paragraph_corpus(document_collection_name, document):\n",
    "    paragraph_metadata_filename = config.get_paragraph_metadata_filename(document_collection_name, document.local_filename)\n",
    "    paragraphs = load_paragraph_metadata(paragraph_metadata_filename)\n",
    "\n",
    "    for paragraph in paragraphs:\n",
    "        yield (document, paragraph)\n",
    "\n",
    "def process_document_collections(document_collections):\n",
    "    \n",
    "    #\n",
    "    # Unlike the SDG --> Sentence semantic similarity, in this case\n",
    "    # we need to process all the docs at once\n",
    "    #\n",
    "    for document_collection_name in document_collections:\n",
    "\n",
    "        print(f'{document_collection_name}')\n",
    "        document_metadata_filename = config.get_document_metadata_filename(document_collection_name)\n",
    "        documents = load_document_metadata(document_metadata_filename)\n",
    "        \n",
    "        for document in documents:\n",
    "            print(f'{document.local_filename}')\n",
    "            \n",
    "            # Process document retuns a list of tuples of (document, paragraph)\n",
    "            paragraph_corpus.extend(process_document(document_collection_name, document))\n",
    "            print(f'{len(paragraph_corpus)} total paragraphs')\n",
    "    \n",
    "    # Build embeddings\n",
    "    print(f'Topic Modelling {len(paragraph_corpus)} paragraphs; Please wait...')"
   ]
  },
  {
   "cell_type": "code",
   "execution_count": 30,
   "metadata": {},
   "outputs": [
    {
     "name": "stdout",
     "output_type": "stream",
     "text": [
      "IPBES\n",
      "ipbes_assessment_report_ldra_EN.pdf\n",
      "2533 total paragraphs\n",
      "202111_2020 IPBES GLOBAL REPORT_FULL_DIGITAL_NOV 2021.pdf\n",
      "5004 total paragraphs\n",
      "IPCC\n",
      "IPCC_AR6_WGI_Full_Report.pdf\n",
      "7374 total paragraphs\n",
      "IUCN\n",
      "RL-267-001-En.pdf\n",
      "7532 total paragraphs\n",
      "2021-043-En.pdf\n",
      "7794 total paragraphs\n",
      "2021-034-En.pdf\n",
      "7929 total paragraphs\n",
      "2021-035-En.pdf\n",
      "8226 total paragraphs\n",
      "2020-002-En-Summ.pdf\n",
      "8402 total paragraphs\n",
      "2021-042-En.pdf\n",
      "8902 total paragraphs\n",
      "2021-036-En.pdf\n",
      "10243 total paragraphs\n",
      "MA\n",
      "document.429.aspx.pdf\n",
      "10423 total paragraphs\n",
      "document.356.aspx.pdf\n",
      "11084 total paragraphs\n",
      "document.354.aspx.pdf\n",
      "11587 total paragraphs\n",
      "document.282.aspx.pdf\n",
      "11855 total paragraphs\n",
      "OKR\n",
      "9781464818127.pdf\n",
      "13497 total paragraphs\n",
      "9781464818172.pdf\n",
      "14065 total paragraphs\n",
      "UNICEF\n",
      "State-of-the-Worlds-Hand-Hygiene-report-2021.pdf\n",
      "14418 total paragraphs\n",
      "jmp-2021-wash-households_3.pdf\n",
      "15413 total paragraphs\n",
      "Topic Modelling 15413 paragraphs; Please wait...\n",
      "huggingface/tokenizers: The current process just got forked, after parallelism has already been used. Disabling parallelism to avoid deadlocks...\n",
      "To disable this warning, you can either:\n",
      "\t- Avoid using `tokenizers` before the fork if possible\n",
      "\t- Explicitly set the environment variable TOKENIZERS_PARALLELISM=(true | false)\n"
     ]
    }
   ],
   "source": [
    "process_document_collections(['IPBES', 'IPCC', 'IUCN', 'MA', 'OKR', 'UNICEF'])\n",
    "#process_document_collections(['OKR', 'UNICEF'])\n",
    "\n",
    "topics, probs = model.fit_transform([p[1].clean_text for p in paragraph_corpus])"
   ]
  },
  {
   "cell_type": "code",
   "execution_count": 31,
   "metadata": {},
   "outputs": [
    {
     "data": {
      "application/vnd.plotly.v1+json": {
       "config": {
        "plotlyServerURL": "https://plot.ly"
       },
       "data": [
        {
         "marker": {
          "color": "#D55E00"
         },
         "orientation": "h",
         "type": "bar",
         "x": [
          0.014717182092796969,
          0.016344155567688437,
          0.01684462392397764,
          0.01835890466187066,
          0.02971718652939302
         ],
         "xaxis": "x",
         "y": [
          "facilities  ",
          "handwashing  ",
          "basic  ",
          "hand  ",
          "hygiene  "
         ],
         "yaxis": "y"
        },
        {
         "marker": {
          "color": "#0072B2"
         },
         "orientation": "h",
         "type": "bar",
         "x": [
          0.01068397342377369,
          0.010987246539380723,
          0.01767049272144473,
          0.01950243986003049,
          0.019893683368286785
         ],
         "xaxis": "x2",
         "y": [
          "plan  ",
          "spaces  ",
          "urban  ",
          "city  ",
          "green  "
         ],
         "yaxis": "y2"
        },
        {
         "marker": {
          "color": "#CC79A7"
         },
         "orientation": "h",
         "type": "bar",
         "x": [
          0.016991745596509608,
          0.017066668427391254,
          0.017355812465317685,
          0.024877406778115677,
          0.026560503401115675
         ],
         "xaxis": "x3",
         "y": [
          "score  ",
          "legal  ",
          "laws  ",
          "law  ",
          "women  "
         ],
         "yaxis": "y3"
        },
        {
         "marker": {
          "color": "#E69F00"
         },
         "orientation": "h",
         "type": "bar",
         "x": [
          0.008916708403975002,
          0.009409563751998208,
          0.012060051298409947,
          0.017011761533165734,
          0.02440735294382908
         ],
         "xaxis": "x4",
         "y": [
          "state  ",
          "degraded  ",
          "restoration  ",
          "land  ",
          "degradation  "
         ],
         "yaxis": "y4"
        },
        {
         "marker": {
          "color": "#56B4E9"
         },
         "orientation": "h",
         "type": "bar",
         "x": [
          0.013520383111406737,
          0.013807009900387765,
          0.013908518192197973,
          0.019828129007568234,
          0.03088716200002312
         ],
         "xaxis": "x5",
         "y": [
          "ecosystems  ",
          "list  ",
          "red  ",
          "ecosystem  ",
          "restoration  "
         ],
         "yaxis": "y5"
        },
        {
         "marker": {
          "color": "#009E73"
         },
         "orientation": "h",
         "type": "bar",
         "x": [
          0.013801780961771528,
          0.019684152976435252,
          0.02051065683965236,
          0.02751724852928677,
          0.03004269737551816
         ],
         "xaxis": "x6",
         "y": [
          "circular  ",
          "plastics  ",
          "recycling  ",
          "plastic  ",
          "waste  "
         ],
         "yaxis": "y6"
        },
        {
         "marker": {
          "color": "#F0E442"
         },
         "orientation": "h",
         "type": "bar",
         "x": [
          0.019676256162247545,
          0.01984504000226717,
          0.02244010924874233,
          0.028318665296628957,
          0.05997461094522878
         ],
         "xaxis": "x7",
         "y": [
          "ndc  ",
          "responsive  ",
          "women  ",
          "ndcs  ",
          "gender  "
         ],
         "yaxis": "y7"
        },
        {
         "marker": {
          "color": "#D55E00"
         },
         "orientation": "h",
         "type": "bar",
         "x": [
          0.014056696824665,
          0.017242867789858896,
          0.02393820100557849,
          0.030363366338389264,
          0.03340197345995514
         ],
         "xaxis": "x8",
         "y": [
          "stocks  ",
          "aquaculture  ",
          "fishing  ",
          "fish  ",
          "fisheries  "
         ],
         "yaxis": "y8"
        }
       ],
       "layout": {
        "annotations": [
         {
          "font": {
           "size": 16
          },
          "showarrow": false,
          "text": "Topic 0",
          "x": 0.0875,
          "xanchor": "center",
          "xref": "paper",
          "y": 1,
          "yanchor": "bottom",
          "yref": "paper"
         },
         {
          "font": {
           "size": 16
          },
          "showarrow": false,
          "text": "Topic 1",
          "x": 0.36250000000000004,
          "xanchor": "center",
          "xref": "paper",
          "y": 1,
          "yanchor": "bottom",
          "yref": "paper"
         },
         {
          "font": {
           "size": 16
          },
          "showarrow": false,
          "text": "Topic 2",
          "x": 0.6375000000000001,
          "xanchor": "center",
          "xref": "paper",
          "y": 1,
          "yanchor": "bottom",
          "yref": "paper"
         },
         {
          "font": {
           "size": 16
          },
          "showarrow": false,
          "text": "Topic 3",
          "x": 0.9125,
          "xanchor": "center",
          "xref": "paper",
          "y": 1,
          "yanchor": "bottom",
          "yref": "paper"
         },
         {
          "font": {
           "size": 16
          },
          "showarrow": false,
          "text": "Topic 4",
          "x": 0.0875,
          "xanchor": "center",
          "xref": "paper",
          "y": 0.4,
          "yanchor": "bottom",
          "yref": "paper"
         },
         {
          "font": {
           "size": 16
          },
          "showarrow": false,
          "text": "Topic 5",
          "x": 0.36250000000000004,
          "xanchor": "center",
          "xref": "paper",
          "y": 0.4,
          "yanchor": "bottom",
          "yref": "paper"
         },
         {
          "font": {
           "size": 16
          },
          "showarrow": false,
          "text": "Topic 6",
          "x": 0.6375000000000001,
          "xanchor": "center",
          "xref": "paper",
          "y": 0.4,
          "yanchor": "bottom",
          "yref": "paper"
         },
         {
          "font": {
           "size": 16
          },
          "showarrow": false,
          "text": "Topic 7",
          "x": 0.9125,
          "xanchor": "center",
          "xref": "paper",
          "y": 0.4,
          "yanchor": "bottom",
          "yref": "paper"
         }
        ],
        "height": 500,
        "hoverlabel": {
         "bgcolor": "white",
         "font": {
          "family": "Rockwell",
          "size": 16
         }
        },
        "showlegend": false,
        "template": {
         "data": {
          "bar": [
           {
            "error_x": {
             "color": "#2a3f5f"
            },
            "error_y": {
             "color": "#2a3f5f"
            },
            "marker": {
             "line": {
              "color": "white",
              "width": 0.5
             },
             "pattern": {
              "fillmode": "overlay",
              "size": 10,
              "solidity": 0.2
             }
            },
            "type": "bar"
           }
          ],
          "barpolar": [
           {
            "marker": {
             "line": {
              "color": "white",
              "width": 0.5
             },
             "pattern": {
              "fillmode": "overlay",
              "size": 10,
              "solidity": 0.2
             }
            },
            "type": "barpolar"
           }
          ],
          "carpet": [
           {
            "aaxis": {
             "endlinecolor": "#2a3f5f",
             "gridcolor": "#C8D4E3",
             "linecolor": "#C8D4E3",
             "minorgridcolor": "#C8D4E3",
             "startlinecolor": "#2a3f5f"
            },
            "baxis": {
             "endlinecolor": "#2a3f5f",
             "gridcolor": "#C8D4E3",
             "linecolor": "#C8D4E3",
             "minorgridcolor": "#C8D4E3",
             "startlinecolor": "#2a3f5f"
            },
            "type": "carpet"
           }
          ],
          "choropleth": [
           {
            "colorbar": {
             "outlinewidth": 0,
             "ticks": ""
            },
            "type": "choropleth"
           }
          ],
          "contour": [
           {
            "colorbar": {
             "outlinewidth": 0,
             "ticks": ""
            },
            "colorscale": [
             [
              0,
              "#0d0887"
             ],
             [
              0.1111111111111111,
              "#46039f"
             ],
             [
              0.2222222222222222,
              "#7201a8"
             ],
             [
              0.3333333333333333,
              "#9c179e"
             ],
             [
              0.4444444444444444,
              "#bd3786"
             ],
             [
              0.5555555555555556,
              "#d8576b"
             ],
             [
              0.6666666666666666,
              "#ed7953"
             ],
             [
              0.7777777777777778,
              "#fb9f3a"
             ],
             [
              0.8888888888888888,
              "#fdca26"
             ],
             [
              1,
              "#f0f921"
             ]
            ],
            "type": "contour"
           }
          ],
          "contourcarpet": [
           {
            "colorbar": {
             "outlinewidth": 0,
             "ticks": ""
            },
            "type": "contourcarpet"
           }
          ],
          "heatmap": [
           {
            "colorbar": {
             "outlinewidth": 0,
             "ticks": ""
            },
            "colorscale": [
             [
              0,
              "#0d0887"
             ],
             [
              0.1111111111111111,
              "#46039f"
             ],
             [
              0.2222222222222222,
              "#7201a8"
             ],
             [
              0.3333333333333333,
              "#9c179e"
             ],
             [
              0.4444444444444444,
              "#bd3786"
             ],
             [
              0.5555555555555556,
              "#d8576b"
             ],
             [
              0.6666666666666666,
              "#ed7953"
             ],
             [
              0.7777777777777778,
              "#fb9f3a"
             ],
             [
              0.8888888888888888,
              "#fdca26"
             ],
             [
              1,
              "#f0f921"
             ]
            ],
            "type": "heatmap"
           }
          ],
          "heatmapgl": [
           {
            "colorbar": {
             "outlinewidth": 0,
             "ticks": ""
            },
            "colorscale": [
             [
              0,
              "#0d0887"
             ],
             [
              0.1111111111111111,
              "#46039f"
             ],
             [
              0.2222222222222222,
              "#7201a8"
             ],
             [
              0.3333333333333333,
              "#9c179e"
             ],
             [
              0.4444444444444444,
              "#bd3786"
             ],
             [
              0.5555555555555556,
              "#d8576b"
             ],
             [
              0.6666666666666666,
              "#ed7953"
             ],
             [
              0.7777777777777778,
              "#fb9f3a"
             ],
             [
              0.8888888888888888,
              "#fdca26"
             ],
             [
              1,
              "#f0f921"
             ]
            ],
            "type": "heatmapgl"
           }
          ],
          "histogram": [
           {
            "marker": {
             "pattern": {
              "fillmode": "overlay",
              "size": 10,
              "solidity": 0.2
             }
            },
            "type": "histogram"
           }
          ],
          "histogram2d": [
           {
            "colorbar": {
             "outlinewidth": 0,
             "ticks": ""
            },
            "colorscale": [
             [
              0,
              "#0d0887"
             ],
             [
              0.1111111111111111,
              "#46039f"
             ],
             [
              0.2222222222222222,
              "#7201a8"
             ],
             [
              0.3333333333333333,
              "#9c179e"
             ],
             [
              0.4444444444444444,
              "#bd3786"
             ],
             [
              0.5555555555555556,
              "#d8576b"
             ],
             [
              0.6666666666666666,
              "#ed7953"
             ],
             [
              0.7777777777777778,
              "#fb9f3a"
             ],
             [
              0.8888888888888888,
              "#fdca26"
             ],
             [
              1,
              "#f0f921"
             ]
            ],
            "type": "histogram2d"
           }
          ],
          "histogram2dcontour": [
           {
            "colorbar": {
             "outlinewidth": 0,
             "ticks": ""
            },
            "colorscale": [
             [
              0,
              "#0d0887"
             ],
             [
              0.1111111111111111,
              "#46039f"
             ],
             [
              0.2222222222222222,
              "#7201a8"
             ],
             [
              0.3333333333333333,
              "#9c179e"
             ],
             [
              0.4444444444444444,
              "#bd3786"
             ],
             [
              0.5555555555555556,
              "#d8576b"
             ],
             [
              0.6666666666666666,
              "#ed7953"
             ],
             [
              0.7777777777777778,
              "#fb9f3a"
             ],
             [
              0.8888888888888888,
              "#fdca26"
             ],
             [
              1,
              "#f0f921"
             ]
            ],
            "type": "histogram2dcontour"
           }
          ],
          "mesh3d": [
           {
            "colorbar": {
             "outlinewidth": 0,
             "ticks": ""
            },
            "type": "mesh3d"
           }
          ],
          "parcoords": [
           {
            "line": {
             "colorbar": {
              "outlinewidth": 0,
              "ticks": ""
             }
            },
            "type": "parcoords"
           }
          ],
          "pie": [
           {
            "automargin": true,
            "type": "pie"
           }
          ],
          "scatter": [
           {
            "marker": {
             "colorbar": {
              "outlinewidth": 0,
              "ticks": ""
             }
            },
            "type": "scatter"
           }
          ],
          "scatter3d": [
           {
            "line": {
             "colorbar": {
              "outlinewidth": 0,
              "ticks": ""
             }
            },
            "marker": {
             "colorbar": {
              "outlinewidth": 0,
              "ticks": ""
             }
            },
            "type": "scatter3d"
           }
          ],
          "scattercarpet": [
           {
            "marker": {
             "colorbar": {
              "outlinewidth": 0,
              "ticks": ""
             }
            },
            "type": "scattercarpet"
           }
          ],
          "scattergeo": [
           {
            "marker": {
             "colorbar": {
              "outlinewidth": 0,
              "ticks": ""
             }
            },
            "type": "scattergeo"
           }
          ],
          "scattergl": [
           {
            "marker": {
             "colorbar": {
              "outlinewidth": 0,
              "ticks": ""
             }
            },
            "type": "scattergl"
           }
          ],
          "scattermapbox": [
           {
            "marker": {
             "colorbar": {
              "outlinewidth": 0,
              "ticks": ""
             }
            },
            "type": "scattermapbox"
           }
          ],
          "scatterpolar": [
           {
            "marker": {
             "colorbar": {
              "outlinewidth": 0,
              "ticks": ""
             }
            },
            "type": "scatterpolar"
           }
          ],
          "scatterpolargl": [
           {
            "marker": {
             "colorbar": {
              "outlinewidth": 0,
              "ticks": ""
             }
            },
            "type": "scatterpolargl"
           }
          ],
          "scatterternary": [
           {
            "marker": {
             "colorbar": {
              "outlinewidth": 0,
              "ticks": ""
             }
            },
            "type": "scatterternary"
           }
          ],
          "surface": [
           {
            "colorbar": {
             "outlinewidth": 0,
             "ticks": ""
            },
            "colorscale": [
             [
              0,
              "#0d0887"
             ],
             [
              0.1111111111111111,
              "#46039f"
             ],
             [
              0.2222222222222222,
              "#7201a8"
             ],
             [
              0.3333333333333333,
              "#9c179e"
             ],
             [
              0.4444444444444444,
              "#bd3786"
             ],
             [
              0.5555555555555556,
              "#d8576b"
             ],
             [
              0.6666666666666666,
              "#ed7953"
             ],
             [
              0.7777777777777778,
              "#fb9f3a"
             ],
             [
              0.8888888888888888,
              "#fdca26"
             ],
             [
              1,
              "#f0f921"
             ]
            ],
            "type": "surface"
           }
          ],
          "table": [
           {
            "cells": {
             "fill": {
              "color": "#EBF0F8"
             },
             "line": {
              "color": "white"
             }
            },
            "header": {
             "fill": {
              "color": "#C8D4E3"
             },
             "line": {
              "color": "white"
             }
            },
            "type": "table"
           }
          ]
         },
         "layout": {
          "annotationdefaults": {
           "arrowcolor": "#2a3f5f",
           "arrowhead": 0,
           "arrowwidth": 1
          },
          "autotypenumbers": "strict",
          "coloraxis": {
           "colorbar": {
            "outlinewidth": 0,
            "ticks": ""
           }
          },
          "colorscale": {
           "diverging": [
            [
             0,
             "#8e0152"
            ],
            [
             0.1,
             "#c51b7d"
            ],
            [
             0.2,
             "#de77ae"
            ],
            [
             0.3,
             "#f1b6da"
            ],
            [
             0.4,
             "#fde0ef"
            ],
            [
             0.5,
             "#f7f7f7"
            ],
            [
             0.6,
             "#e6f5d0"
            ],
            [
             0.7,
             "#b8e186"
            ],
            [
             0.8,
             "#7fbc41"
            ],
            [
             0.9,
             "#4d9221"
            ],
            [
             1,
             "#276419"
            ]
           ],
           "sequential": [
            [
             0,
             "#0d0887"
            ],
            [
             0.1111111111111111,
             "#46039f"
            ],
            [
             0.2222222222222222,
             "#7201a8"
            ],
            [
             0.3333333333333333,
             "#9c179e"
            ],
            [
             0.4444444444444444,
             "#bd3786"
            ],
            [
             0.5555555555555556,
             "#d8576b"
            ],
            [
             0.6666666666666666,
             "#ed7953"
            ],
            [
             0.7777777777777778,
             "#fb9f3a"
            ],
            [
             0.8888888888888888,
             "#fdca26"
            ],
            [
             1,
             "#f0f921"
            ]
           ],
           "sequentialminus": [
            [
             0,
             "#0d0887"
            ],
            [
             0.1111111111111111,
             "#46039f"
            ],
            [
             0.2222222222222222,
             "#7201a8"
            ],
            [
             0.3333333333333333,
             "#9c179e"
            ],
            [
             0.4444444444444444,
             "#bd3786"
            ],
            [
             0.5555555555555556,
             "#d8576b"
            ],
            [
             0.6666666666666666,
             "#ed7953"
            ],
            [
             0.7777777777777778,
             "#fb9f3a"
            ],
            [
             0.8888888888888888,
             "#fdca26"
            ],
            [
             1,
             "#f0f921"
            ]
           ]
          },
          "colorway": [
           "#636efa",
           "#EF553B",
           "#00cc96",
           "#ab63fa",
           "#FFA15A",
           "#19d3f3",
           "#FF6692",
           "#B6E880",
           "#FF97FF",
           "#FECB52"
          ],
          "font": {
           "color": "#2a3f5f"
          },
          "geo": {
           "bgcolor": "white",
           "lakecolor": "white",
           "landcolor": "white",
           "showlakes": true,
           "showland": true,
           "subunitcolor": "#C8D4E3"
          },
          "hoverlabel": {
           "align": "left"
          },
          "hovermode": "closest",
          "mapbox": {
           "style": "light"
          },
          "paper_bgcolor": "white",
          "plot_bgcolor": "white",
          "polar": {
           "angularaxis": {
            "gridcolor": "#EBF0F8",
            "linecolor": "#EBF0F8",
            "ticks": ""
           },
           "bgcolor": "white",
           "radialaxis": {
            "gridcolor": "#EBF0F8",
            "linecolor": "#EBF0F8",
            "ticks": ""
           }
          },
          "scene": {
           "xaxis": {
            "backgroundcolor": "white",
            "gridcolor": "#DFE8F3",
            "gridwidth": 2,
            "linecolor": "#EBF0F8",
            "showbackground": true,
            "ticks": "",
            "zerolinecolor": "#EBF0F8"
           },
           "yaxis": {
            "backgroundcolor": "white",
            "gridcolor": "#DFE8F3",
            "gridwidth": 2,
            "linecolor": "#EBF0F8",
            "showbackground": true,
            "ticks": "",
            "zerolinecolor": "#EBF0F8"
           },
           "zaxis": {
            "backgroundcolor": "white",
            "gridcolor": "#DFE8F3",
            "gridwidth": 2,
            "linecolor": "#EBF0F8",
            "showbackground": true,
            "ticks": "",
            "zerolinecolor": "#EBF0F8"
           }
          },
          "shapedefaults": {
           "line": {
            "color": "#2a3f5f"
           }
          },
          "ternary": {
           "aaxis": {
            "gridcolor": "#DFE8F3",
            "linecolor": "#A2B1C6",
            "ticks": ""
           },
           "baxis": {
            "gridcolor": "#DFE8F3",
            "linecolor": "#A2B1C6",
            "ticks": ""
           },
           "bgcolor": "white",
           "caxis": {
            "gridcolor": "#DFE8F3",
            "linecolor": "#A2B1C6",
            "ticks": ""
           }
          },
          "title": {
           "x": 0.05
          },
          "xaxis": {
           "automargin": true,
           "gridcolor": "#EBF0F8",
           "linecolor": "#EBF0F8",
           "ticks": "",
           "title": {
            "standoff": 15
           },
           "zerolinecolor": "#EBF0F8",
           "zerolinewidth": 2
          },
          "yaxis": {
           "automargin": true,
           "gridcolor": "#EBF0F8",
           "linecolor": "#EBF0F8",
           "ticks": "",
           "title": {
            "standoff": 15
           },
           "zerolinecolor": "#EBF0F8",
           "zerolinewidth": 2
          }
         }
        },
        "title": {
         "font": {
          "color": "Black",
          "size": 22
         },
         "text": "<b>Topic Word Scores",
         "x": 0.5,
         "xanchor": "center",
         "yanchor": "top"
        },
        "width": 1000,
        "xaxis": {
         "anchor": "y",
         "domain": [
          0,
          0.175
         ],
         "showgrid": true
        },
        "xaxis2": {
         "anchor": "y2",
         "domain": [
          0.275,
          0.45
         ],
         "showgrid": true
        },
        "xaxis3": {
         "anchor": "y3",
         "domain": [
          0.55,
          0.7250000000000001
         ],
         "showgrid": true
        },
        "xaxis4": {
         "anchor": "y4",
         "domain": [
          0.825,
          1
         ],
         "showgrid": true
        },
        "xaxis5": {
         "anchor": "y5",
         "domain": [
          0,
          0.175
         ],
         "showgrid": true
        },
        "xaxis6": {
         "anchor": "y6",
         "domain": [
          0.275,
          0.45
         ],
         "showgrid": true
        },
        "xaxis7": {
         "anchor": "y7",
         "domain": [
          0.55,
          0.7250000000000001
         ],
         "showgrid": true
        },
        "xaxis8": {
         "anchor": "y8",
         "domain": [
          0.825,
          1
         ],
         "showgrid": true
        },
        "yaxis": {
         "anchor": "x",
         "domain": [
          0.6000000000000001,
          1
         ],
         "showgrid": true
        },
        "yaxis2": {
         "anchor": "x2",
         "domain": [
          0.6000000000000001,
          1
         ],
         "showgrid": true
        },
        "yaxis3": {
         "anchor": "x3",
         "domain": [
          0.6000000000000001,
          1
         ],
         "showgrid": true
        },
        "yaxis4": {
         "anchor": "x4",
         "domain": [
          0.6000000000000001,
          1
         ],
         "showgrid": true
        },
        "yaxis5": {
         "anchor": "x5",
         "domain": [
          0,
          0.4
         ],
         "showgrid": true
        },
        "yaxis6": {
         "anchor": "x6",
         "domain": [
          0,
          0.4
         ],
         "showgrid": true
        },
        "yaxis7": {
         "anchor": "x7",
         "domain": [
          0,
          0.4
         ],
         "showgrid": true
        },
        "yaxis8": {
         "anchor": "x8",
         "domain": [
          0,
          0.4
         ],
         "showgrid": true
        }
       }
      },
      "text/html": [
       "<div>                            <div id=\"d57f8d75-3ea6-495d-bc5e-59b4ea17acf3\" class=\"plotly-graph-div\" style=\"height:500px; width:1000px;\"></div>            <script type=\"text/javascript\">                require([\"plotly\"], function(Plotly) {                    window.PLOTLYENV=window.PLOTLYENV || {};                                    if (document.getElementById(\"d57f8d75-3ea6-495d-bc5e-59b4ea17acf3\")) {                    Plotly.newPlot(                        \"d57f8d75-3ea6-495d-bc5e-59b4ea17acf3\",                        [{\"marker\":{\"color\":\"#D55E00\"},\"orientation\":\"h\",\"x\":[0.014717182092796969,0.016344155567688437,0.01684462392397764,0.01835890466187066,0.02971718652939302],\"y\":[\"facilities  \",\"handwashing  \",\"basic  \",\"hand  \",\"hygiene  \"],\"type\":\"bar\",\"xaxis\":\"x\",\"yaxis\":\"y\"},{\"marker\":{\"color\":\"#0072B2\"},\"orientation\":\"h\",\"x\":[0.01068397342377369,0.010987246539380723,0.01767049272144473,0.01950243986003049,0.019893683368286785],\"y\":[\"plan  \",\"spaces  \",\"urban  \",\"city  \",\"green  \"],\"type\":\"bar\",\"xaxis\":\"x2\",\"yaxis\":\"y2\"},{\"marker\":{\"color\":\"#CC79A7\"},\"orientation\":\"h\",\"x\":[0.016991745596509608,0.017066668427391254,0.017355812465317685,0.024877406778115677,0.026560503401115675],\"y\":[\"score  \",\"legal  \",\"laws  \",\"law  \",\"women  \"],\"type\":\"bar\",\"xaxis\":\"x3\",\"yaxis\":\"y3\"},{\"marker\":{\"color\":\"#E69F00\"},\"orientation\":\"h\",\"x\":[0.008916708403975002,0.009409563751998208,0.012060051298409947,0.017011761533165734,0.02440735294382908],\"y\":[\"state  \",\"degraded  \",\"restoration  \",\"land  \",\"degradation  \"],\"type\":\"bar\",\"xaxis\":\"x4\",\"yaxis\":\"y4\"},{\"marker\":{\"color\":\"#56B4E9\"},\"orientation\":\"h\",\"x\":[0.013520383111406737,0.013807009900387765,0.013908518192197973,0.019828129007568234,0.03088716200002312],\"y\":[\"ecosystems  \",\"list  \",\"red  \",\"ecosystem  \",\"restoration  \"],\"type\":\"bar\",\"xaxis\":\"x5\",\"yaxis\":\"y5\"},{\"marker\":{\"color\":\"#009E73\"},\"orientation\":\"h\",\"x\":[0.013801780961771528,0.019684152976435252,0.02051065683965236,0.02751724852928677,0.03004269737551816],\"y\":[\"circular  \",\"plastics  \",\"recycling  \",\"plastic  \",\"waste  \"],\"type\":\"bar\",\"xaxis\":\"x6\",\"yaxis\":\"y6\"},{\"marker\":{\"color\":\"#F0E442\"},\"orientation\":\"h\",\"x\":[0.019676256162247545,0.01984504000226717,0.02244010924874233,0.028318665296628957,0.05997461094522878],\"y\":[\"ndc  \",\"responsive  \",\"women  \",\"ndcs  \",\"gender  \"],\"type\":\"bar\",\"xaxis\":\"x7\",\"yaxis\":\"y7\"},{\"marker\":{\"color\":\"#D55E00\"},\"orientation\":\"h\",\"x\":[0.014056696824665,0.017242867789858896,0.02393820100557849,0.030363366338389264,0.03340197345995514],\"y\":[\"stocks  \",\"aquaculture  \",\"fishing  \",\"fish  \",\"fisheries  \"],\"type\":\"bar\",\"xaxis\":\"x8\",\"yaxis\":\"y8\"}],                        {\"template\":{\"data\":{\"barpolar\":[{\"marker\":{\"line\":{\"color\":\"white\",\"width\":0.5},\"pattern\":{\"fillmode\":\"overlay\",\"size\":10,\"solidity\":0.2}},\"type\":\"barpolar\"}],\"bar\":[{\"error_x\":{\"color\":\"#2a3f5f\"},\"error_y\":{\"color\":\"#2a3f5f\"},\"marker\":{\"line\":{\"color\":\"white\",\"width\":0.5},\"pattern\":{\"fillmode\":\"overlay\",\"size\":10,\"solidity\":0.2}},\"type\":\"bar\"}],\"carpet\":[{\"aaxis\":{\"endlinecolor\":\"#2a3f5f\",\"gridcolor\":\"#C8D4E3\",\"linecolor\":\"#C8D4E3\",\"minorgridcolor\":\"#C8D4E3\",\"startlinecolor\":\"#2a3f5f\"},\"baxis\":{\"endlinecolor\":\"#2a3f5f\",\"gridcolor\":\"#C8D4E3\",\"linecolor\":\"#C8D4E3\",\"minorgridcolor\":\"#C8D4E3\",\"startlinecolor\":\"#2a3f5f\"},\"type\":\"carpet\"}],\"choropleth\":[{\"colorbar\":{\"outlinewidth\":0,\"ticks\":\"\"},\"type\":\"choropleth\"}],\"contourcarpet\":[{\"colorbar\":{\"outlinewidth\":0,\"ticks\":\"\"},\"type\":\"contourcarpet\"}],\"contour\":[{\"colorbar\":{\"outlinewidth\":0,\"ticks\":\"\"},\"colorscale\":[[0.0,\"#0d0887\"],[0.1111111111111111,\"#46039f\"],[0.2222222222222222,\"#7201a8\"],[0.3333333333333333,\"#9c179e\"],[0.4444444444444444,\"#bd3786\"],[0.5555555555555556,\"#d8576b\"],[0.6666666666666666,\"#ed7953\"],[0.7777777777777778,\"#fb9f3a\"],[0.8888888888888888,\"#fdca26\"],[1.0,\"#f0f921\"]],\"type\":\"contour\"}],\"heatmapgl\":[{\"colorbar\":{\"outlinewidth\":0,\"ticks\":\"\"},\"colorscale\":[[0.0,\"#0d0887\"],[0.1111111111111111,\"#46039f\"],[0.2222222222222222,\"#7201a8\"],[0.3333333333333333,\"#9c179e\"],[0.4444444444444444,\"#bd3786\"],[0.5555555555555556,\"#d8576b\"],[0.6666666666666666,\"#ed7953\"],[0.7777777777777778,\"#fb9f3a\"],[0.8888888888888888,\"#fdca26\"],[1.0,\"#f0f921\"]],\"type\":\"heatmapgl\"}],\"heatmap\":[{\"colorbar\":{\"outlinewidth\":0,\"ticks\":\"\"},\"colorscale\":[[0.0,\"#0d0887\"],[0.1111111111111111,\"#46039f\"],[0.2222222222222222,\"#7201a8\"],[0.3333333333333333,\"#9c179e\"],[0.4444444444444444,\"#bd3786\"],[0.5555555555555556,\"#d8576b\"],[0.6666666666666666,\"#ed7953\"],[0.7777777777777778,\"#fb9f3a\"],[0.8888888888888888,\"#fdca26\"],[1.0,\"#f0f921\"]],\"type\":\"heatmap\"}],\"histogram2dcontour\":[{\"colorbar\":{\"outlinewidth\":0,\"ticks\":\"\"},\"colorscale\":[[0.0,\"#0d0887\"],[0.1111111111111111,\"#46039f\"],[0.2222222222222222,\"#7201a8\"],[0.3333333333333333,\"#9c179e\"],[0.4444444444444444,\"#bd3786\"],[0.5555555555555556,\"#d8576b\"],[0.6666666666666666,\"#ed7953\"],[0.7777777777777778,\"#fb9f3a\"],[0.8888888888888888,\"#fdca26\"],[1.0,\"#f0f921\"]],\"type\":\"histogram2dcontour\"}],\"histogram2d\":[{\"colorbar\":{\"outlinewidth\":0,\"ticks\":\"\"},\"colorscale\":[[0.0,\"#0d0887\"],[0.1111111111111111,\"#46039f\"],[0.2222222222222222,\"#7201a8\"],[0.3333333333333333,\"#9c179e\"],[0.4444444444444444,\"#bd3786\"],[0.5555555555555556,\"#d8576b\"],[0.6666666666666666,\"#ed7953\"],[0.7777777777777778,\"#fb9f3a\"],[0.8888888888888888,\"#fdca26\"],[1.0,\"#f0f921\"]],\"type\":\"histogram2d\"}],\"histogram\":[{\"marker\":{\"pattern\":{\"fillmode\":\"overlay\",\"size\":10,\"solidity\":0.2}},\"type\":\"histogram\"}],\"mesh3d\":[{\"colorbar\":{\"outlinewidth\":0,\"ticks\":\"\"},\"type\":\"mesh3d\"}],\"parcoords\":[{\"line\":{\"colorbar\":{\"outlinewidth\":0,\"ticks\":\"\"}},\"type\":\"parcoords\"}],\"pie\":[{\"automargin\":true,\"type\":\"pie\"}],\"scatter3d\":[{\"line\":{\"colorbar\":{\"outlinewidth\":0,\"ticks\":\"\"}},\"marker\":{\"colorbar\":{\"outlinewidth\":0,\"ticks\":\"\"}},\"type\":\"scatter3d\"}],\"scattercarpet\":[{\"marker\":{\"colorbar\":{\"outlinewidth\":0,\"ticks\":\"\"}},\"type\":\"scattercarpet\"}],\"scattergeo\":[{\"marker\":{\"colorbar\":{\"outlinewidth\":0,\"ticks\":\"\"}},\"type\":\"scattergeo\"}],\"scattergl\":[{\"marker\":{\"colorbar\":{\"outlinewidth\":0,\"ticks\":\"\"}},\"type\":\"scattergl\"}],\"scattermapbox\":[{\"marker\":{\"colorbar\":{\"outlinewidth\":0,\"ticks\":\"\"}},\"type\":\"scattermapbox\"}],\"scatterpolargl\":[{\"marker\":{\"colorbar\":{\"outlinewidth\":0,\"ticks\":\"\"}},\"type\":\"scatterpolargl\"}],\"scatterpolar\":[{\"marker\":{\"colorbar\":{\"outlinewidth\":0,\"ticks\":\"\"}},\"type\":\"scatterpolar\"}],\"scatter\":[{\"marker\":{\"colorbar\":{\"outlinewidth\":0,\"ticks\":\"\"}},\"type\":\"scatter\"}],\"scatterternary\":[{\"marker\":{\"colorbar\":{\"outlinewidth\":0,\"ticks\":\"\"}},\"type\":\"scatterternary\"}],\"surface\":[{\"colorbar\":{\"outlinewidth\":0,\"ticks\":\"\"},\"colorscale\":[[0.0,\"#0d0887\"],[0.1111111111111111,\"#46039f\"],[0.2222222222222222,\"#7201a8\"],[0.3333333333333333,\"#9c179e\"],[0.4444444444444444,\"#bd3786\"],[0.5555555555555556,\"#d8576b\"],[0.6666666666666666,\"#ed7953\"],[0.7777777777777778,\"#fb9f3a\"],[0.8888888888888888,\"#fdca26\"],[1.0,\"#f0f921\"]],\"type\":\"surface\"}],\"table\":[{\"cells\":{\"fill\":{\"color\":\"#EBF0F8\"},\"line\":{\"color\":\"white\"}},\"header\":{\"fill\":{\"color\":\"#C8D4E3\"},\"line\":{\"color\":\"white\"}},\"type\":\"table\"}]},\"layout\":{\"annotationdefaults\":{\"arrowcolor\":\"#2a3f5f\",\"arrowhead\":0,\"arrowwidth\":1},\"autotypenumbers\":\"strict\",\"coloraxis\":{\"colorbar\":{\"outlinewidth\":0,\"ticks\":\"\"}},\"colorscale\":{\"diverging\":[[0,\"#8e0152\"],[0.1,\"#c51b7d\"],[0.2,\"#de77ae\"],[0.3,\"#f1b6da\"],[0.4,\"#fde0ef\"],[0.5,\"#f7f7f7\"],[0.6,\"#e6f5d0\"],[0.7,\"#b8e186\"],[0.8,\"#7fbc41\"],[0.9,\"#4d9221\"],[1,\"#276419\"]],\"sequential\":[[0.0,\"#0d0887\"],[0.1111111111111111,\"#46039f\"],[0.2222222222222222,\"#7201a8\"],[0.3333333333333333,\"#9c179e\"],[0.4444444444444444,\"#bd3786\"],[0.5555555555555556,\"#d8576b\"],[0.6666666666666666,\"#ed7953\"],[0.7777777777777778,\"#fb9f3a\"],[0.8888888888888888,\"#fdca26\"],[1.0,\"#f0f921\"]],\"sequentialminus\":[[0.0,\"#0d0887\"],[0.1111111111111111,\"#46039f\"],[0.2222222222222222,\"#7201a8\"],[0.3333333333333333,\"#9c179e\"],[0.4444444444444444,\"#bd3786\"],[0.5555555555555556,\"#d8576b\"],[0.6666666666666666,\"#ed7953\"],[0.7777777777777778,\"#fb9f3a\"],[0.8888888888888888,\"#fdca26\"],[1.0,\"#f0f921\"]]},\"colorway\":[\"#636efa\",\"#EF553B\",\"#00cc96\",\"#ab63fa\",\"#FFA15A\",\"#19d3f3\",\"#FF6692\",\"#B6E880\",\"#FF97FF\",\"#FECB52\"],\"font\":{\"color\":\"#2a3f5f\"},\"geo\":{\"bgcolor\":\"white\",\"lakecolor\":\"white\",\"landcolor\":\"white\",\"showlakes\":true,\"showland\":true,\"subunitcolor\":\"#C8D4E3\"},\"hoverlabel\":{\"align\":\"left\"},\"hovermode\":\"closest\",\"mapbox\":{\"style\":\"light\"},\"paper_bgcolor\":\"white\",\"plot_bgcolor\":\"white\",\"polar\":{\"angularaxis\":{\"gridcolor\":\"#EBF0F8\",\"linecolor\":\"#EBF0F8\",\"ticks\":\"\"},\"bgcolor\":\"white\",\"radialaxis\":{\"gridcolor\":\"#EBF0F8\",\"linecolor\":\"#EBF0F8\",\"ticks\":\"\"}},\"scene\":{\"xaxis\":{\"backgroundcolor\":\"white\",\"gridcolor\":\"#DFE8F3\",\"gridwidth\":2,\"linecolor\":\"#EBF0F8\",\"showbackground\":true,\"ticks\":\"\",\"zerolinecolor\":\"#EBF0F8\"},\"yaxis\":{\"backgroundcolor\":\"white\",\"gridcolor\":\"#DFE8F3\",\"gridwidth\":2,\"linecolor\":\"#EBF0F8\",\"showbackground\":true,\"ticks\":\"\",\"zerolinecolor\":\"#EBF0F8\"},\"zaxis\":{\"backgroundcolor\":\"white\",\"gridcolor\":\"#DFE8F3\",\"gridwidth\":2,\"linecolor\":\"#EBF0F8\",\"showbackground\":true,\"ticks\":\"\",\"zerolinecolor\":\"#EBF0F8\"}},\"shapedefaults\":{\"line\":{\"color\":\"#2a3f5f\"}},\"ternary\":{\"aaxis\":{\"gridcolor\":\"#DFE8F3\",\"linecolor\":\"#A2B1C6\",\"ticks\":\"\"},\"baxis\":{\"gridcolor\":\"#DFE8F3\",\"linecolor\":\"#A2B1C6\",\"ticks\":\"\"},\"bgcolor\":\"white\",\"caxis\":{\"gridcolor\":\"#DFE8F3\",\"linecolor\":\"#A2B1C6\",\"ticks\":\"\"}},\"title\":{\"x\":0.05},\"xaxis\":{\"automargin\":true,\"gridcolor\":\"#EBF0F8\",\"linecolor\":\"#EBF0F8\",\"ticks\":\"\",\"title\":{\"standoff\":15},\"zerolinecolor\":\"#EBF0F8\",\"zerolinewidth\":2},\"yaxis\":{\"automargin\":true,\"gridcolor\":\"#EBF0F8\",\"linecolor\":\"#EBF0F8\",\"ticks\":\"\",\"title\":{\"standoff\":15},\"zerolinecolor\":\"#EBF0F8\",\"zerolinewidth\":2}}},\"xaxis\":{\"anchor\":\"y\",\"domain\":[0.0,0.175],\"showgrid\":true},\"yaxis\":{\"anchor\":\"x\",\"domain\":[0.6000000000000001,1.0],\"showgrid\":true},\"xaxis2\":{\"anchor\":\"y2\",\"domain\":[0.275,0.45],\"showgrid\":true},\"yaxis2\":{\"anchor\":\"x2\",\"domain\":[0.6000000000000001,1.0],\"showgrid\":true},\"xaxis3\":{\"anchor\":\"y3\",\"domain\":[0.55,0.7250000000000001],\"showgrid\":true},\"yaxis3\":{\"anchor\":\"x3\",\"domain\":[0.6000000000000001,1.0],\"showgrid\":true},\"xaxis4\":{\"anchor\":\"y4\",\"domain\":[0.825,1.0],\"showgrid\":true},\"yaxis4\":{\"anchor\":\"x4\",\"domain\":[0.6000000000000001,1.0],\"showgrid\":true},\"xaxis5\":{\"anchor\":\"y5\",\"domain\":[0.0,0.175],\"showgrid\":true},\"yaxis5\":{\"anchor\":\"x5\",\"domain\":[0.0,0.4],\"showgrid\":true},\"xaxis6\":{\"anchor\":\"y6\",\"domain\":[0.275,0.45],\"showgrid\":true},\"yaxis6\":{\"anchor\":\"x6\",\"domain\":[0.0,0.4],\"showgrid\":true},\"xaxis7\":{\"anchor\":\"y7\",\"domain\":[0.55,0.7250000000000001],\"showgrid\":true},\"yaxis7\":{\"anchor\":\"x7\",\"domain\":[0.0,0.4],\"showgrid\":true},\"xaxis8\":{\"anchor\":\"y8\",\"domain\":[0.825,1.0],\"showgrid\":true},\"yaxis8\":{\"anchor\":\"x8\",\"domain\":[0.0,0.4],\"showgrid\":true},\"annotations\":[{\"font\":{\"size\":16},\"showarrow\":false,\"text\":\"Topic 0\",\"x\":0.0875,\"xanchor\":\"center\",\"xref\":\"paper\",\"y\":1.0,\"yanchor\":\"bottom\",\"yref\":\"paper\"},{\"font\":{\"size\":16},\"showarrow\":false,\"text\":\"Topic 1\",\"x\":0.36250000000000004,\"xanchor\":\"center\",\"xref\":\"paper\",\"y\":1.0,\"yanchor\":\"bottom\",\"yref\":\"paper\"},{\"font\":{\"size\":16},\"showarrow\":false,\"text\":\"Topic 2\",\"x\":0.6375000000000001,\"xanchor\":\"center\",\"xref\":\"paper\",\"y\":1.0,\"yanchor\":\"bottom\",\"yref\":\"paper\"},{\"font\":{\"size\":16},\"showarrow\":false,\"text\":\"Topic 3\",\"x\":0.9125,\"xanchor\":\"center\",\"xref\":\"paper\",\"y\":1.0,\"yanchor\":\"bottom\",\"yref\":\"paper\"},{\"font\":{\"size\":16},\"showarrow\":false,\"text\":\"Topic 4\",\"x\":0.0875,\"xanchor\":\"center\",\"xref\":\"paper\",\"y\":0.4,\"yanchor\":\"bottom\",\"yref\":\"paper\"},{\"font\":{\"size\":16},\"showarrow\":false,\"text\":\"Topic 5\",\"x\":0.36250000000000004,\"xanchor\":\"center\",\"xref\":\"paper\",\"y\":0.4,\"yanchor\":\"bottom\",\"yref\":\"paper\"},{\"font\":{\"size\":16},\"showarrow\":false,\"text\":\"Topic 6\",\"x\":0.6375000000000001,\"xanchor\":\"center\",\"xref\":\"paper\",\"y\":0.4,\"yanchor\":\"bottom\",\"yref\":\"paper\"},{\"font\":{\"size\":16},\"showarrow\":false,\"text\":\"Topic 7\",\"x\":0.9125,\"xanchor\":\"center\",\"xref\":\"paper\",\"y\":0.4,\"yanchor\":\"bottom\",\"yref\":\"paper\"}],\"title\":{\"font\":{\"size\":22,\"color\":\"Black\"},\"text\":\"<b>Topic Word Scores\",\"x\":0.5,\"xanchor\":\"center\",\"yanchor\":\"top\"},\"hoverlabel\":{\"font\":{\"size\":16,\"family\":\"Rockwell\"},\"bgcolor\":\"white\"},\"showlegend\":false,\"width\":1000,\"height\":500},                        {\"responsive\": true}                    ).then(function(){\n",
       "                            \n",
       "var gd = document.getElementById('d57f8d75-3ea6-495d-bc5e-59b4ea17acf3');\n",
       "var x = new MutationObserver(function (mutations, observer) {{\n",
       "        var display = window.getComputedStyle(gd).display;\n",
       "        if (!display || display === 'none') {{\n",
       "            console.log([gd, 'removed!']);\n",
       "            Plotly.purge(gd);\n",
       "            observer.disconnect();\n",
       "        }}\n",
       "}});\n",
       "\n",
       "// Listen for the removal of the full notebook cells\n",
       "var notebookContainer = gd.closest('#notebook-container');\n",
       "if (notebookContainer) {{\n",
       "    x.observe(notebookContainer, {childList: true});\n",
       "}}\n",
       "\n",
       "// Listen for the clearing of the current output cell\n",
       "var outputEl = gd.closest('.output');\n",
       "if (outputEl) {{\n",
       "    x.observe(outputEl, {childList: true});\n",
       "}}\n",
       "\n",
       "                        })                };                });            </script>        </div>"
      ]
     },
     "metadata": {},
     "output_type": "display_data"
    }
   ],
   "source": [
    "model.visualize_barchart()"
   ]
  },
  {
   "cell_type": "code",
   "execution_count": 32,
   "metadata": {},
   "outputs": [
    {
     "data": {
      "application/vnd.plotly.v1+json": {
       "config": {
        "plotlyServerURL": "https://plot.ly"
       },
       "data": [
        {
         "hoverinfo": "text",
         "hovertext": [
          "<b>Topic 0</b><br>Words: sanitation, hygiene, masks, basic, medical",
          "<b>Topic 0</b><br>Words: correct, errors, adjusted, catch, reported",
          "<b>Topic 0</b><br>Words: incidence, settings, data, mortality, gaps",
          "<b>Topic 0</b><br>Words: basic, hygiene, sanitation, coverage, drinking",
          "<b>Topic 0</b><br>Words: cleancookstoves, 478, html, base, systematic",
          "<b>Topic 0</b><br>Words: sanitation, facilities, retrieved, water, access",
          "<b>Topic 0</b><br>Words: modernising, sewerage, sensors, installation, real",
          "<b>Topic 0</b><br>Words: hygiene, hand, handwashing, facilities, soap",
          "<b>Topic 0</b><br>Words: wrap, uk, the_uk_, household_food_and_drink_waste_in_, banbury",
          "<b>Topic 0</b><br>Words: diarrhea, latrine, contaminated, connection, correct",
          "<b>Topic 0</b><br>Words: readiness, safer, healthier, ensures, promotes"
         ],
         "marker": {
          "color": "#E69F00"
         },
         "name": "0_hygiene_hand_basic_handwashing",
         "orientation": "h",
         "type": "bar",
         "visible": true,
         "x": [
          13,
          1,
          1,
          315,
          1,
          7,
          1,
          301,
          3,
          6,
          5
         ],
         "y": [
          "Blue Skies, Blue Seas : Air Pollution, Marine Plastics, and Coastal Erosion in the Middle East and North Africa",
          "Ecosystems and Human Well-being: Biodiversity Synthesis",
          "Acting on ocean risk : Documenting economic, social and environmental impacts on coastal communities",
          "Progress on household drinking water, sanitation and hygiene, 2000-2020",
          "Gender-based violence and environment linkages : summary for policy makers",
          "Global assessment report on biodiversity and ecosystem services of the Intergovernmental Science-Policy Platform on Biodiversity and Ecosystem Services",
          "Planning and delivering Nature-based Solutions in Mediterranean cities : First assessment of the IUCN NbS Global Standard in Mediterranean urban areas",
          "State of the World's Hand Hygiene",
          "The IPBES assessment report on land degradation and restoration",
          "Ecosystems and Human Well-being: General Synthesis",
          "Women, Business and the Law 2022"
         ]
        },
        {
         "hoverinfo": "text",
         "hovertext": [
          "<b>Topic 1</b><br>Words: green, spaces, space, greening, city",
          "<b>Topic 1</b><br>Words: drr, repeatedly, standardised, cca, aggregation",
          "<b>Topic 1</b><br>Words: ou, dans, des, decantation, quelles",
          "<b>Topic 1</b><br>Words: mathekga, ranger, rangers, dealing, assist",
          "<b>Topic 1</b><br>Words: 20macedonia, 20north, macedonian, 20enhanced, 20of",
          "<b>Topic 1</b><br>Words: urban, infrastructure, green, promoting, planning",
          "<b>Topic 1</b><br>Words: city, green, urban, plan, spaces",
          "<b>Topic 1</b><br>Words: urban, green, planning, de, infrastructure",
          "<b>Topic 1</b><br>Words: placement, todays, housing, settlement, institutions"
         ],
         "marker": {
          "color": "#56B4E9"
         },
         "name": "1_green_city_urban_spaces",
         "orientation": "h",
         "type": "bar",
         "visible": "legendonly",
         "x": [
          13,
          2,
          1,
          1,
          1,
          9,
          350,
          11,
          2
         ],
         "y": [
          "Blue Skies, Blue Seas : Air Pollution, Marine Plastics, and Coastal Erosion in the Middle East and North Africa",
          "Acting on ocean risk : Documenting economic, social and environmental impacts on coastal communities",
          "Progress on household drinking water, sanitation and hygiene, 2000-2020",
          "Gender-based violence and environment linkages : summary for policy makers",
          "Gender and national climate planning",
          "Global assessment report on biodiversity and ecosystem services of the Intergovernmental Science-Policy Platform on Biodiversity and Ecosystem Services",
          "Planning and delivering Nature-based Solutions in Mediterranean cities : First assessment of the IUCN NbS Global Standard in Mediterranean urban areas",
          "The IPBES assessment report on land degradation and restoration",
          "Ecosystems and Human Well-being: General Synthesis"
         ]
        },
        {
         "hoverinfo": "text",
         "hovertext": [
          "<b>Topic 2</b><br>Words: female, literacy, women, economies, inclusion",
          "<b>Topic 2</b><br>Words: women, 20office, robleto, ccdrr_130317, 58th",
          "<b>Topic 2</b><br>Words: labour, force, formal, noteworthy, void",
          "<b>Topic 2</b><br>Words: wipf, forset, evangelical, discourses, encoding",
          "<b>Topic 2</b><br>Words: tecnalias, searching, intelligence, professional, department",
          "<b>Topic 2</b><br>Words: ageing, welfare, moving, voluntary, family",
          "<b>Topic 2</b><br>Words: women, law, laws, legal, score"
         ],
         "marker": {
          "color": "#009E73"
         },
         "name": "2_women_law_laws_legal",
         "orientation": "h",
         "type": "bar",
         "visible": "legendonly",
         "x": [
          2,
          4,
          2,
          4,
          1,
          1,
          335
         ],
         "y": [
          "Blue Skies, Blue Seas : Air Pollution, Marine Plastics, and Coastal Erosion in the Middle East and North Africa",
          "Gender-based violence and environment linkages : summary for policy makers",
          "Gender and national climate planning",
          "Global assessment report on biodiversity and ecosystem services of the Intergovernmental Science-Policy Platform on Biodiversity and Ecosystem Services",
          "Planning and delivering Nature-based Solutions in Mediterranean cities : First assessment of the IUCN NbS Global Standard in Mediterranean urban areas",
          "The IPBES assessment report on land degradation and restoration",
          "Women, Business and the Law 2022"
         ]
        },
        {
         "hoverinfo": "text",
         "hovertext": [
          "<b>Topic 3</b><br>Words: spnl, fighting, recommendations, lebanon, degradation",
          "<b>Topic 3</b><br>Words: roam, restoration, landscape, database, degradation",
          "<b>Topic 3</b><br>Words: degradation, land, arid, manner, fulfils",
          "<b>Topic 3</b><br>Words: complaints, seems, experiencing, constant, fragile",
          "<b>Topic 3</b><br>Words: degradation, land, restoration, degraded, state",
          "<b>Topic 3</b><br>Words: condition, information, land, accurate, degradation"
         ],
         "marker": {
          "color": "#F0E442"
         },
         "name": "3_degradation_land_restoration_degraded",
         "orientation": "h",
         "type": "bar",
         "visible": "legendonly",
         "x": [
          3,
          5,
          11,
          2,
          322,
          2
         ],
         "y": [
          "Blue Skies, Blue Seas : Air Pollution, Marine Plastics, and Coastal Erosion in the Middle East and North Africa",
          "Using ecosystem risk assessment science in ecosystem restoration : a guide to applying the Red List of Ecosystems to ecosystem restoration",
          "Global assessment report on biodiversity and ecosystem services of the Intergovernmental Science-Policy Platform on Biodiversity and Ecosystem Services",
          "Planning and delivering Nature-based Solutions in Mediterranean cities : First assessment of the IUCN NbS Global Standard in Mediterranean urban areas",
          "The IPBES assessment report on land degradation and restoration",
          "Ecosystems and Human Well-being: General Synthesis"
         ]
        },
        {
         "hoverinfo": "text",
         "hovertext": [
          "<b>Topic 4</b><br>Words: riparian, tamarisk, restoration, goalreduction, habitats",
          "<b>Topic 4</b><br>Words: restoration, ecosystem, red, list, ecosystems",
          "<b>Topic 4</b><br>Words: restoration, ecosystems, ecosystem, passive, recovery",
          "<b>Topic 4</b><br>Words: monitored, hydraulic, monitoring, restoration, stations",
          "<b>Topic 4</b><br>Words: restoration, ecosystem, ecological, success, ecosystems",
          "<b>Topic 4</b><br>Words: technologies, restoration, energy, restored, s98"
         ],
         "marker": {
          "color": "#D55E00"
         },
         "name": "4_restoration_ecosystem_red_list",
         "orientation": "h",
         "type": "bar",
         "visible": "legendonly",
         "x": [
          2,
          278,
          14,
          4,
          41,
          1
         ],
         "y": [
          "Ecosystems and Human Well-being: Biodiversity Synthesis",
          "Using ecosystem risk assessment science in ecosystem restoration : a guide to applying the Red List of Ecosystems to ecosystem restoration",
          "Global assessment report on biodiversity and ecosystem services of the Intergovernmental Science-Policy Platform on Biodiversity and Ecosystem Services",
          "Planning and delivering Nature-based Solutions in Mediterranean cities : First assessment of the IUCN NbS Global Standard in Mediterranean urban areas",
          "The IPBES assessment report on land degradation and restoration",
          "Ecosystems and Human Well-being: General Synthesis"
         ]
        },
        {
         "hoverinfo": "text",
         "hovertext": [
          "<b>Topic 5</b><br>Words: waste, plastic, recycling, plastics, circular",
          "<b>Topic 5</b><br>Words: detoxification, regulation, infectious, hazards, processing",
          "<b>Topic 5</b><br>Words: plastic, guidance, pollution, hotspotting, refund",
          "<b>Topic 5</b><br>Words: bushes, faeces, open, fields, disposal",
          "<b>Topic 5</b><br>Words: policyfor, preempt, wasteful, pioneer, minimizing",
          "<b>Topic 5</b><br>Words: waste, solid, wastes, macarthur, ellen",
          "<b>Topic 5</b><br>Words: reuse, waste, circular, recycling, materials",
          "<b>Topic 5</b><br>Words: paper, chlorinefree, print, recycled, bleached"
         ],
         "marker": {
          "color": "#0072B2"
         },
         "name": "5_waste_plastic_recycling_plastics",
         "orientation": "h",
         "type": "bar",
         "visible": "legendonly",
         "x": [
          272,
          1,
          1,
          1,
          1,
          4,
          1,
          2
         ],
         "y": [
          "Blue Skies, Blue Seas : Air Pollution, Marine Plastics, and Coastal Erosion in the Middle East and North Africa",
          "Ecosystems and Human Well-being: Biodiversity Synthesis",
          "Acting on ocean risk : Documenting economic, social and environmental impacts on coastal communities",
          "Progress on household drinking water, sanitation and hygiene, 2000-2020",
          "Living Beyond Our Means: Natural Assets and Human Well-being",
          "Global assessment report on biodiversity and ecosystem services of the Intergovernmental Science-Policy Platform on Biodiversity and Ecosystem Services",
          "The IPBES assessment report on land degradation and restoration",
          "Women, Business and the Law 2022"
         ]
        },
        {
         "hoverinfo": "text",
         "hovertext": [
          "<b>Topic 6</b><br>Words: gender, oxfam, rangers, tea, women",
          "<b>Topic 6</b><br>Words: gender, ndcs, women, responsive, ndc",
          "<b>Topic 6</b><br>Words: agarwal, 27852799, nussbaum, gender, 025",
          "<b>Topic 6</b><br>Words: gender, stereotypes, co, toolkit, inclusive",
          "<b>Topic 6</b><br>Words: gender, foraging, women, amount, sendzimir",
          "<b>Topic 6</b><br>Words: gender, empower, security, explicit, recognition",
          "<b>Topic 6</b><br>Words: bhatkal, tanvi, overseas, want, london"
         ],
         "marker": {
          "color": "#CC79A7"
         },
         "name": "6_gender_ndcs_women_responsive",
         "orientation": "h",
         "type": "bar",
         "visible": "legendonly",
         "x": [
          7,
          206,
          4,
          3,
          2,
          1,
          1
         ],
         "y": [
          "Gender-based violence and environment linkages : summary for policy makers",
          "Gender and national climate planning",
          "Global assessment report on biodiversity and ecosystem services of the Intergovernmental Science-Policy Platform on Biodiversity and Ecosystem Services",
          "Planning and delivering Nature-based Solutions in Mediterranean cities : First assessment of the IUCN NbS Global Standard in Mediterranean urban areas",
          "The IPBES assessment report on land degradation and restoration",
          "Ecosystems and Human Well-being: General Synthesis",
          "Women, Business and the Law 2022"
         ]
        },
        {
         "hoverinfo": "text",
         "hovertext": [
          "<b>Topic 7</b><br>Words: fishing, gear, fisheries, catch, marine",
          "<b>Topic 7</b><br>Words: fish, fisheries, fishing, aquaculture, trophic",
          "<b>Topic 7</b><br>Words: fisheries, fish, fishing, aquaculture, catch",
          "<b>Topic 7</b><br>Words: fish, stocks, fisheries, fishing, weight",
          "<b>Topic 7</b><br>Words: fisheries, fish, fishing, aquaculture, stocks",
          "<b>Topic 7</b><br>Words: fisheries, trawling, industrial, indian, fishery",
          "<b>Topic 7</b><br>Words: aquaponics, fish, camera, soilless, zagrebs",
          "<b>Topic 7</b><br>Words: dlc, fisheries, fish, dlib, 10535",
          "<b>Topic 7</b><br>Words: fisheries, fish, fishing, fishery, aquaculture"
         ],
         "marker": {
          "color": "#E69F00"
         },
         "name": "7_fisheries_fish_fishing_aquaculture",
         "orientation": "h",
         "type": "bar",
         "visible": "legendonly",
         "x": [
          5,
          12,
          27,
          13,
          89,
          3,
          2,
          6,
          24
         ],
         "y": [
          "Blue Skies, Blue Seas : Air Pollution, Marine Plastics, and Coastal Erosion in the Middle East and North Africa",
          "Ecosystems and Human Well-being: Biodiversity Synthesis",
          "Acting on ocean risk : Documenting economic, social and environmental impacts on coastal communities",
          "Living Beyond Our Means: Natural Assets and Human Well-being",
          "Global assessment report on biodiversity and ecosystem services of the Intergovernmental Science-Policy Platform on Biodiversity and Ecosystem Services",
          "The conservation status of marine biodiversity of the Western Indian Ocean",
          "Planning and delivering Nature-based Solutions in Mediterranean cities : First assessment of the IUCN NbS Global Standard in Mediterranean urban areas",
          "The IPBES assessment report on land degradation and restoration",
          "Ecosystems and Human Well-being: General Synthesis"
         ]
        },
        {
         "hoverinfo": "text",
         "hovertext": [
          "<b>Topic 8</b><br>Words: water, withdrawals, desalination, management, desalinated",
          "<b>Topic 8</b><br>Words: water, withdrawals, freshwater, groundwater, fresh",
          "<b>Topic 8</b><br>Words: berktay, chem, environ, eng, desalination",
          "<b>Topic 8</b><br>Words: water, un, vulnerability, briefs, waters",
          "<b>Topic 8</b><br>Words: 378, transpiration, page, drought, rainfall",
          "<b>Topic 8</b><br>Words: water, rivers, supplies, fresh, dams",
          "<b>Topic 8</b><br>Words: water, freshwater, groundwater, rivers, flow",
          "<b>Topic 8</b><br>Words: water, rainwater, lake, ornamental, separated",
          "<b>Topic 8</b><br>Words: water, groundwater, freshwater, supplies, irrigation",
          "<b>Topic 8</b><br>Words: water, fresh, freshwater, withdrawals, runoff"
         ],
         "marker": {
          "color": "#56B4E9"
         },
         "name": "8_water_freshwater_groundwater_withdrawa...",
         "orientation": "h",
         "type": "bar",
         "visible": "legendonly",
         "x": [
          10,
          9,
          1,
          8,
          1,
          10,
          33,
          5,
          41,
          23
         ],
         "y": [
          "Blue Skies, Blue Seas : Air Pollution, Marine Plastics, and Coastal Erosion in the Middle East and North Africa",
          "Ecosystems and Human Well-being: Biodiversity Synthesis",
          "Acting on ocean risk : Documenting economic, social and environmental impacts on coastal communities",
          "Progress on household drinking water, sanitation and hygiene, 2000-2020",
          "Global Assessment Reports: Volume 1: Current State & Trends; Chapter 13. Air Quality and Climate",
          "Living Beyond Our Means: Natural Assets and Human Well-being",
          "Global assessment report on biodiversity and ecosystem services of the Intergovernmental Science-Policy Platform on Biodiversity and Ecosystem Services",
          "Planning and delivering Nature-based Solutions in Mediterranean cities : First assessment of the IUCN NbS Global Standard in Mediterranean urban areas",
          "The IPBES assessment report on land degradation and restoration",
          "Ecosystems and Human Well-being: General Synthesis"
         ]
        },
        {
         "hoverinfo": "text",
         "hovertext": [
          "<b>Topic 9</b><br>Words: erosion, coastal, beach, sand, sediment",
          "<b>Topic 9</b><br>Words: cvandyke, shutterstock, fencing, carolina, outer",
          "<b>Topic 9</b><br>Words: remediation, part, determining, transport, bagnolicoroglio"
         ],
         "marker": {
          "color": "#009E73"
         },
         "name": "9_erosion_coastal_beach_sand",
         "orientation": "h",
         "type": "bar",
         "visible": "legendonly",
         "x": [
          135,
          1,
          1
         ],
         "y": [
          "Blue Skies, Blue Seas : Air Pollution, Marine Plastics, and Coastal Erosion in the Middle East and North Africa",
          "Using ecosystem risk assessment science in ecosystem restoration : a guide to applying the Red List of Ecosystems to ecosystem restoration",
          "Planning and delivering Nature-based Solutions in Mediterranean cities : First assessment of the IUCN NbS Global Standard in Mediterranean urban areas"
         ]
        },
        {
         "hoverinfo": "text",
         "hovertext": [
          "<b>Topic 10</b><br>Words: s41893, 722724, 0191, lemos, produce",
          "<b>Topic 10</b><br>Words: ncp, life, quality, good, realized",
          "<b>Topic 10</b><br>Words: ncp, life, padel, conceive, numerically"
         ],
         "marker": {
          "color": "#F0E442"
         },
         "name": "10_ncp_life_quality_good",
         "orientation": "h",
         "type": "bar",
         "visible": "legendonly",
         "x": [
          1,
          132,
          3
         ],
         "y": [
          "Climate Change 2021 The Physical Science Basis",
          "Global assessment report on biodiversity and ecosystem services of the Intergovernmental Science-Policy Platform on Biodiversity and Ecosystem Services",
          "The IPBES assessment report on land degradation and restoration"
         ]
        },
        {
         "hoverinfo": "text",
         "hovertext": [
          "<b>Topic 11</b><br>Words: plastic, microplastics, marine, plastics, debris",
          "<b>Topic 11</b><br>Words: plastic, microplastics, marine, debris, mps",
          "<b>Topic 11</b><br>Words: plastic, debris, marine, oceans, pollution"
         ],
         "marker": {
          "color": "#D55E00"
         },
         "name": "11_plastic_microplastics_marine_debris",
         "orientation": "h",
         "type": "bar",
         "visible": "legendonly",
         "x": [
          114,
          7,
          9
         ],
         "y": [
          "Blue Skies, Blue Seas : Air Pollution, Marine Plastics, and Coastal Erosion in the Middle East and North Africa",
          "Acting on ocean risk : Documenting economic, social and environmental impacts on coastal communities",
          "Global assessment report on biodiversity and ecosystem services of the Intergovernmental Science-Policy Platform on Biodiversity and Ecosystem Services"
         ]
        },
        {
         "hoverinfo": "text",
         "hovertext": [
          "<b>Topic 12</b><br>Words: simenel, adults, taxa, give, attention",
          "<b>Topic 12</b><br>Words: childcare, parents, private, provision, children"
         ],
         "marker": {
          "color": "#0072B2"
         },
         "name": "12_childcare_parents_private_provision",
         "orientation": "h",
         "type": "bar",
         "visible": "legendonly",
         "x": [
          1,
          121
         ],
         "y": [
          "Global assessment report on biodiversity and ecosystem services of the Intergovernmental Science-Policy Platform on Biodiversity and Ecosystem Services",
          "Women, Business and the Law 2022"
         ]
        },
        {
         "hoverinfo": "text",
         "hovertext": [
          "<b>Topic 13</b><br>Words: fire, pasture, minutiflora, earthworm, negativeincreases",
          "<b>Topic 13</b><br>Words: fire, doi, chuwah, atmosenv, chuvieco",
          "<b>Topic 13</b><br>Words: fires, fire, burning, biomass, vegetation",
          "<b>Topic 13</b><br>Words: wildfires, fire, fires, intense, baikal",
          "<b>Topic 13</b><br>Words: fire, fires, colonization, wildfires, vegetation",
          "<b>Topic 13</b><br>Words: fire, fires, regimes, burned, suppression"
         ],
         "marker": {
          "color": "#CC79A7"
         },
         "name": "13_fire_fires_regimes_wildfires",
         "orientation": "h",
         "type": "bar",
         "visible": "legendonly",
         "x": [
          1,
          2,
          21,
          9,
          11,
          70
         ],
         "y": [
          "Ecosystems and Human Well-being: Biodiversity Synthesis",
          "Climate Change 2021 The Physical Science Basis",
          "Global Assessment Reports: Volume 1: Current State & Trends; Chapter 13. Air Quality and Climate",
          "World Heritage forests : Carbon sinks under pressure",
          "Global assessment report on biodiversity and ecosystem services of the Intergovernmental Science-Policy Platform on Biodiversity and Ecosystem Services",
          "The IPBES assessment report on land degradation and restoration"
         ]
        },
        {
         "hoverinfo": "text",
         "hovertext": [
          "<b>Topic 14</b><br>Words: ice, antarctic, mass, arctic, sea",
          "<b>Topic 14</b><br>Words: msqkm, ice, cryosphere, arctic, gleick",
          "<b>Topic 14</b><br>Words: pressure, estimates, free, ice, degraded"
         ],
         "marker": {
          "color": "#E69F00"
         },
         "name": "14_ice_antarctic_mass_arctic",
         "orientation": "h",
         "type": "bar",
         "visible": "legendonly",
         "x": [
          108,
          2,
          1
         ],
         "y": [
          "Climate Change 2021 The Physical Science Basis",
          "Global assessment report on biodiversity and ecosystem services of the Intergovernmental Science-Policy Platform on Biodiversity and Ecosystem Services",
          "The IPBES assessment report on land degradation and restoration"
         ]
        },
        {
         "hoverinfo": "text",
         "hovertext": [
          "<b>Topic 15</b><br>Words: gbv, violence, gender, women, sexual",
          "<b>Topic 15</b><br>Words: minds, defences, men, wars, peace",
          "<b>Topic 15</b><br>Words: gbv, violence, sexual, intimate, women"
         ],
         "marker": {
          "color": "#56B4E9"
         },
         "name": "15_gbv_violence_gender_women",
         "orientation": "h",
         "type": "bar",
         "visible": "legendonly",
         "x": [
          95,
          1,
          3
         ],
         "y": [
          "Gender-based violence and environment linkages : summary for policy makers",
          "World Heritage forests : Carbon sinks under pressure",
          "Gender and national climate planning"
         ]
        },
        {
         "hoverinfo": "text",
         "hovertext": [
          "<b>Topic 16</b><br>Words: mics, 99, 98, 91, 2018"
         ],
         "marker": {
          "color": "#009E73"
         },
         "name": "16_mics_99_98_91",
         "orientation": "h",
         "type": "bar",
         "visible": "legendonly",
         "x": [
          93
         ],
         "y": [
          "Progress on household drinking water, sanitation and hygiene, 2000-2020"
         ]
        },
        {
         "hoverinfo": "text",
         "hovertext": [
          "<b>Topic 17</b><br>Words: unep, sand, geneva, finding, sustainability",
          "<b>Topic 17</b><br>Words: establish, agreements, responses, agreement, financial",
          "<b>Topic 17</b><br>Words: ambitions, believe, negotiations, treaties, urgency",
          "<b>Topic 17</b><br>Words: institutions, governance, collective, commons, common",
          "<b>Topic 17</b><br>Words: government, governance, unbending, agile, powers",
          "<b>Topic 17</b><br>Words: international, common, solidarity, collective, institutions",
          "<b>Topic 17</b><br>Words: agreements, institutions, coordination, international, multilateral",
          "<b>Topic 17</b><br>Words: desired, lacking, norms, alone, systematic"
         ],
         "marker": {
          "color": "#F0E442"
         },
         "name": "17_institutions_governance_collective_in...",
         "orientation": "h",
         "type": "bar",
         "visible": "legendonly",
         "x": [
          1,
          2,
          2,
          45,
          4,
          32,
          6,
          1
         ],
         "y": [
          "Blue Skies, Blue Seas : Air Pollution, Marine Plastics, and Coastal Erosion in the Middle East and North Africa",
          "Ecosystems and Human Well-being: Biodiversity Synthesis",
          "Living Beyond Our Means: Natural Assets and Human Well-being",
          "Global assessment report on biodiversity and ecosystem services of the Intergovernmental Science-Policy Platform on Biodiversity and Ecosystem Services",
          "Planning and delivering Nature-based Solutions in Mediterranean cities : First assessment of the IUCN NbS Global Standard in Mediterranean urban areas",
          "The IPBES assessment report on land degradation and restoration",
          "Ecosystems and Human Well-being: General Synthesis",
          "Women, Business and the Law 2022"
         ]
        },
        {
         "hoverinfo": "text",
         "hovertext": [
          "<b>Topic 18</b><br>Words: target, genetic, resources, parties, transferred",
          "<b>Topic 18</b><br>Words: aichi, target, targets, iplcs, progress",
          "<b>Topic 18</b><br>Words: target, aichi, choice, case, achievement"
         ],
         "marker": {
          "color": "#D55E00"
         },
         "name": "18_aichi_target_targets_iplcs",
         "orientation": "h",
         "type": "bar",
         "visible": "legendonly",
         "x": [
          12,
          77,
          3
         ],
         "y": [
          "Ecosystems and Human Well-being: Biodiversity Synthesis",
          "Global assessment report on biodiversity and ecosystem services of the Intergovernmental Science-Policy Platform on Biodiversity and Ecosystem Services",
          "The IPBES assessment report on land degradation and restoration"
         ]
        },
        {
         "hoverinfo": "text",
         "hovertext": [
          "<b>Topic 19</b><br>Words: deltares, 10986, 2168, giardino, openknowledge",
          "<b>Topic 19</b><br>Words: swedish, funding, publication, ministry, possible",
          "<b>Topic 19</b><br>Words: ilo, ed_norm, relconf, thegef, en_gef",
          "<b>Topic 19</b><br>Words: cp, wiley, 1002, agupubs, downlo",
          "<b>Topic 19</b><br>Words: retrieved, http, pdf, org, environmentalevidence",
          "<b>Topic 19</b><br>Words: final_lr, 100resilientcities, 170515, amman_english, 100rc",
          "<b>Topic 19</b><br>Words: retrieved, http, org, com, pdf"
         ],
         "marker": {
          "color": "#0072B2"
         },
         "name": "19_http_retrieved_org_pdf",
         "orientation": "h",
         "type": "bar",
         "visible": "legendonly",
         "x": [
          3,
          1,
          2,
          8,
          10,
          1,
          59
         ],
         "y": [
          "Blue Skies, Blue Seas : Air Pollution, Marine Plastics, and Coastal Erosion in the Middle East and North Africa",
          "Acting on ocean risk : Documenting economic, social and environmental impacts on coastal communities",
          "Gender-based violence and environment linkages : summary for policy makers",
          "Climate Change 2021 The Physical Science Basis",
          "Global assessment report on biodiversity and ecosystem services of the Intergovernmental Science-Policy Platform on Biodiversity and Ecosystem Services",
          "Planning and delivering Nature-based Solutions in Mediterranean cities : First assessment of the IUCN NbS Global Standard in Mediterranean urban areas",
          "The IPBES assessment report on land degradation and restoration"
         ]
        },
        {
         "hoverinfo": "text",
         "hovertext": [
          "<b>Topic 20</b><br>Words: applying, guide, restoration, ecosystem, list"
         ],
         "marker": {
          "color": "#CC79A7"
         },
         "name": "20_applying_guide_restoration_ecosystem",
         "orientation": "h",
         "type": "bar",
         "visible": "legendonly",
         "x": [
          83
         ],
         "y": [
          "Using ecosystem risk assessment science in ecosystem restoration : a guide to applying the Red List of Ecosystems to ecosystem restoration"
         ]
        },
        {
         "hoverinfo": "text",
         "hovertext": [
          "<b>Topic 21</b><br>Words: bo, t1356, idb, cambridge, 2007",
          "<b>Topic 21</b><br>Words: dyszynski, watkiss, excell, butterfield, droogers",
          "<b>Topic 21</b><br>Words: srhr, my, arrow, scoping, connection",
          "<b>Topic 21</b><br>Words: cambridge, ipcc, pp, intergovernmental, climate",
          "<b>Topic 21</b><br>Words: cambridge, pp, ipcc, press, 2001",
          "<b>Topic 21</b><br>Words: osipova, whc, 20202030, wettropics, schmidt",
          "<b>Topic 21</b><br>Words: intergovernmental, ipcc, panel, cambridge, science",
          "<b>Topic 21</b><br>Words: garcia, blanco, pilar, karmele, igone",
          "<b>Topic 21</b><br>Words: cambridge, intergovernmental, group, climate, panel"
         ],
         "marker": {
          "color": "#E69F00"
         },
         "name": "21_cambridge_ipcc_intergovernmental_pp",
         "orientation": "h",
         "type": "bar",
         "visible": "legendonly",
         "x": [
          2,
          2,
          1,
          55,
          6,
          1,
          5,
          1,
          10
         ],
         "y": [
          "Blue Skies, Blue Seas : Air Pollution, Marine Plastics, and Coastal Erosion in the Middle East and North Africa",
          "Acting on ocean risk : Documenting economic, social and environmental impacts on coastal communities",
          "Gender-based violence and environment linkages : summary for policy makers",
          "Climate Change 2021 The Physical Science Basis",
          "Global Assessment Reports: Volume 1: Current State & Trends; Chapter 13. Air Quality and Climate",
          "World Heritage forests : Carbon sinks under pressure",
          "Global assessment report on biodiversity and ecosystem services of the Intergovernmental Science-Policy Platform on Biodiversity and Ecosystem Services",
          "Planning and delivering Nature-based Solutions in Mediterranean cities : First assessment of the IUCN NbS Global Standard in Mediterranean urban areas",
          "The IPBES assessment report on land degradation and restoration"
         ]
        },
        {
         "hoverinfo": "text",
         "hovertext": [
          "<b>Topic 22</b><br>Words: livestock, cattle, exotic, growth, goalexplosive",
          "<b>Topic 22</b><br>Words: rangelands, livestock, grasslike, grazed, forbs",
          "<b>Topic 22</b><br>Words: leaf, intercept, evergreen, denser, bred",
          "<b>Topic 22</b><br>Words: livestock, grazing, intensification, lands, production",
          "<b>Topic 22</b><br>Words: grazing, livestock, animal, lands, intensification",
          "<b>Topic 22</b><br>Words: livestock, cropland, c8, pasture, grazing"
         ],
         "marker": {
          "color": "#56B4E9"
         },
         "name": "22_grazing_livestock_intensification_lan...",
         "orientation": "h",
         "type": "bar",
         "visible": "legendonly",
         "x": [
          4,
          1,
          1,
          13,
          59,
          4
         ],
         "y": [
          "Ecosystems and Human Well-being: Biodiversity Synthesis",
          "Using ecosystem risk assessment science in ecosystem restoration : a guide to applying the Red List of Ecosystems to ecosystem restoration",
          "Global Assessment Reports: Volume 1: Current State & Trends; Chapter 13. Air Quality and Climate",
          "Global assessment report on biodiversity and ecosystem services of the Intergovernmental Science-Policy Platform on Biodiversity and Ecosystem Services",
          "The IPBES assessment report on land degradation and restoration",
          "Ecosystems and Human Well-being: General Synthesis"
         ]
        },
        {
         "hoverinfo": "text",
         "hovertext": [
          "<b>Topic 23</b><br>Words: menstrual, menstruation, materials, girls, women",
          "<b>Topic 23</b><br>Words: installs, wow, mom, caregivers, baby"
         ],
         "marker": {
          "color": "#009E73"
         },
         "name": "23_menstrual_menstruation_materials_girl...",
         "orientation": "h",
         "type": "bar",
         "visible": "legendonly",
         "x": [
          75,
          1
         ],
         "y": [
          "Progress on household drinking water, sanitation and hygiene, 2000-2020",
          "State of the World's Hand Hygiene"
         ]
        },
        {
         "hoverinfo": "text",
         "hovertext": [
          "<b>Topic 24</b><br>Words: done, 53, what, can, be",
          "<b>Topic 24</b><br>Words: xiii, vii, acronyms, abbreviations, executive",
          "<b>Topic 24</b><br>Words: references, ts, introduction, box, executive",
          "<b>Topic 24</b><br>Words: ix, findings, vii, acronyms, contents",
          "<b>Topic 24</b><br>Words: references, 18, 441, cluster, 136",
          "<b>Topic 24</b><br>Words: acknowledgements, references, vii, acronyms, executive",
          "<b>Topic 24</b><br>Words: references, 232, success, 300, 299"
         ],
         "marker": {
          "color": "#F0E442"
         },
         "name": "24_references_232_introduction_ts",
         "orientation": "h",
         "type": "bar",
         "visible": "legendonly",
         "x": [
          1,
          3,
          30,
          1,
          20,
          6,
          15
         ],
         "y": [
          "Acting on ocean risk : Documenting economic, social and environmental impacts on coastal communities",
          "Using ecosystem risk assessment science in ecosystem restoration : a guide to applying the Red List of Ecosystems to ecosystem restoration",
          "Climate Change 2021 The Physical Science Basis",
          "Gender and national climate planning",
          "Global assessment report on biodiversity and ecosystem services of the Intergovernmental Science-Policy Platform on Biodiversity and Ecosystem Services",
          "The conservation status of marine biodiversity of the Western Indian Ocean",
          "The IPBES assessment report on land degradation and restoration"
         ]
        },
        {
         "hoverinfo": "text",
         "hovertext": [
          "<b>Topic 25</b><br>Words: wood, c9, fuel, energy, silk",
          "<b>Topic 25</b><br>Words: charcoal, illegal, favours, male, necessity",
          "<b>Topic 25</b><br>Words: hemp, declining, silk, fibers, others",
          "<b>Topic 25</b><br>Words: fuelwood, biomass, energy, wood, timber",
          "<b>Topic 25</b><br>Words: fuelwood, charcoal, wood, biomass, energy",
          "<b>Topic 25</b><br>Words: fuelwood, wood, timber, silk, cotton"
         ],
         "marker": {
          "color": "#D55E00"
         },
         "name": "25_fuelwood_wood_biomass_energy",
         "orientation": "h",
         "type": "bar",
         "visible": "legendonly",
         "x": [
          4,
          1,
          1,
          21,
          37,
          12
         ],
         "y": [
          "Ecosystems and Human Well-being: Biodiversity Synthesis",
          "Gender-based violence and environment linkages : summary for policy makers",
          "Living Beyond Our Means: Natural Assets and Human Well-being",
          "Global assessment report on biodiversity and ecosystem services of the Intergovernmental Science-Policy Platform on Biodiversity and Ecosystem Services",
          "The IPBES assessment report on land degradation and restoration",
          "Ecosystems and Human Well-being: General Synthesis"
         ]
        },
        {
         "hoverinfo": "text",
         "hovertext": [
          "<b>Topic 26</b><br>Words: tax, fuel, subsidies, prices, taxes",
          "<b>Topic 26</b><br>Words: taxes, subsidies, regressive, tax, expenditures"
         ],
         "marker": {
          "color": "#0072B2"
         },
         "name": "26_tax_fuel_subsidies_taxes",
         "orientation": "h",
         "type": "bar",
         "visible": "legendonly",
         "x": [
          65,
          9
         ],
         "y": [
          "Blue Skies, Blue Seas : Air Pollution, Marine Plastics, and Coastal Erosion in the Middle East and North Africa",
          "Global assessment report on biodiversity and ecosystem services of the Intergovernmental Science-Policy Platform on Biodiversity and Ecosystem Services"
         ]
        },
        {
         "hoverinfo": "text",
         "hovertext": [
          "<b>Topic 27</b><br>Words: deposits, percent, reserves, coal, remain",
          "<b>Topic 27</b><br>Words: emissions, co2, zero, net, cumulative",
          "<b>Topic 27</b><br>Words: popause, 359, radiative, explanations, absorbing"
         ],
         "marker": {
          "color": "#CC79A7"
         },
         "name": "27_emissions_co2_zero_net",
         "orientation": "h",
         "type": "bar",
         "visible": "legendonly",
         "x": [
          1,
          71,
          1
         ],
         "y": [
          "Blue Skies, Blue Seas : Air Pollution, Marine Plastics, and Coastal Erosion in the Middle East and North Africa",
          "Climate Change 2021 The Physical Science Basis",
          "Global Assessment Reports: Volume 1: Current State & Trends; Chapter 13. Air Quality and Climate"
         ]
        },
        {
         "hoverinfo": "text",
         "hovertext": [
          "<b>Topic 28</b><br>Words: ts, climate, box, variability, halogenated"
         ],
         "marker": {
          "color": "#E69F00"
         },
         "name": "28_ts_climate_box_variability",
         "orientation": "h",
         "type": "bar",
         "visible": "legendonly",
         "x": [
          66
         ],
         "y": [
          "Climate Change 2021 The Physical Science Basis"
         ]
        },
        {
         "hoverinfo": "text",
         "hovertext": [
          "<b>Topic 29</b><br>Words: conservation, biodiversity, incentives, payments, benefits",
          "<b>Topic 29</b><br>Words: conservation, incentives, businesses, ecotourism, cleaner",
          "<b>Topic 29</b><br>Words: incentives, pes, conservation, private, actors",
          "<b>Topic 29</b><br>Words: attainable, divert, lagoons, biodiversity, valuing",
          "<b>Topic 29</b><br>Words: incentives, payment, economic, perverse, successful",
          "<b>Topic 29</b><br>Words: markets, conservation, services, market, mechanisms"
         ],
         "marker": {
          "color": "#56B4E9"
         },
         "name": "29_incentives_conservation_biodiversity_...",
         "orientation": "h",
         "type": "bar",
         "visible": "legendonly",
         "x": [
          20,
          9,
          23,
          2,
          3,
          9
         ],
         "y": [
          "Ecosystems and Human Well-being: Biodiversity Synthesis",
          "Living Beyond Our Means: Natural Assets and Human Well-being",
          "Global assessment report on biodiversity and ecosystem services of the Intergovernmental Science-Policy Platform on Biodiversity and Ecosystem Services",
          "The conservation status of marine biodiversity of the Western Indian Ocean",
          "The IPBES assessment report on land degradation and restoration",
          "Ecosystems and Human Well-being: General Synthesis"
         ]
        },
        {
         "hoverinfo": "text",
         "hovertext": [
          "<b>Topic 30</b><br>Words: being, well, ma, human, ecosystems",
          "<b>Topic 30</b><br>Words: 384, halides, pounds, aldehydes, 245",
          "<b>Topic 30</b><br>Words: millennium, institute, united, being, well",
          "<b>Topic 30</b><br>Words: ma, being, millennium, well, board",
          "<b>Topic 30</b><br>Words: being, judicious, attractiveness, well, services",
          "<b>Topic 30</b><br>Words: yokohama, institute, safriel, niemeijer, adeel",
          "<b>Topic 30</b><br>Words: being, well, human, ecosystem, ma"
         ],
         "marker": {
          "color": "#009E73"
         },
         "name": "30_being_well_human_ma",
         "orientation": "h",
         "type": "bar",
         "visible": "legendonly",
         "x": [
          25,
          2,
          5,
          4,
          1,
          2,
          26
         ],
         "y": [
          "Ecosystems and Human Well-being: Biodiversity Synthesis",
          "Global Assessment Reports: Volume 1: Current State & Trends; Chapter 13. Air Quality and Climate",
          "Living Beyond Our Means: Natural Assets and Human Well-being",
          "Global assessment report on biodiversity and ecosystem services of the Intergovernmental Science-Policy Platform on Biodiversity and Ecosystem Services",
          "Planning and delivering Nature-based Solutions in Mediterranean cities : First assessment of the IUCN NbS Global Standard in Mediterranean urban areas",
          "The IPBES assessment report on land degradation and restoration",
          "Ecosystems and Human Well-being: General Synthesis"
         ]
        },
        {
         "hoverinfo": "text",
         "hovertext": [
          "<b>Topic 31</b><br>Words: precipitation, projected, america, over, increase",
          "<b>Topic 31</b><br>Words: precipitation, geomorph, geomorphology, janowiak, luino"
         ],
         "marker": {
          "color": "#F0E442"
         },
         "name": "31_precipitation_projected_america_over",
         "orientation": "h",
         "type": "bar",
         "visible": "legendonly",
         "x": [
          59,
          6
         ],
         "y": [
          "Climate Change 2021 The Physical Science Basis",
          "The IPBES assessment report on land degradation and restoration"
         ]
        },
        {
         "hoverinfo": "text",
         "hovertext": [
          "<b>Topic 32</b><br>Words: infectious, diseases, wildlife, disease, pathogens",
          "<b>Topic 32</b><br>Words: interference, suffering, sudden, emergence, pests",
          "<b>Topic 32</b><br>Words: diseases, disease, vector, infectious, borne",
          "<b>Topic 32</b><br>Words: disease, diseases, pathogens, infectious, vector",
          "<b>Topic 32</b><br>Words: disease, diseases, infectious, vector, pathogens"
         ],
         "marker": {
          "color": "#D55E00"
         },
         "name": "32_disease_diseases_infectious_pathogens",
         "orientation": "h",
         "type": "bar",
         "visible": "legendonly",
         "x": [
          3,
          1,
          18,
          30,
          13
         ],
         "y": [
          "Ecosystems and Human Well-being: Biodiversity Synthesis",
          "Living Beyond Our Means: Natural Assets and Human Well-being",
          "Global assessment report on biodiversity and ecosystem services of the Intergovernmental Science-Policy Platform on Biodiversity and Ecosystem Services",
          "The IPBES assessment report on land degradation and restoration",
          "Ecosystems and Human Well-being: General Synthesis"
         ]
        },
        {
         "hoverinfo": "text",
         "hovertext": [
          "<b>Topic 33</b><br>Words: invasive, species, alien, native, invasion",
          "<b>Topic 33</b><br>Words: biodiversityfor, mesquite, texas, invasions, encroachment",
          "<b>Topic 33</b><br>Words: baltic, lakes, native, creatures, third",
          "<b>Topic 33</b><br>Words: alien, invasive, species, ias, native",
          "<b>Topic 33</b><br>Words: missing, seem, endemic, encouraging, occurrence",
          "<b>Topic 33</b><br>Words: invasive, invasion, species, alien, native",
          "<b>Topic 33</b><br>Words: ruiz, biological, siguan, ribera, carlton"
         ],
         "marker": {
          "color": "#0072B2"
         },
         "name": "33_invasive_alien_invasion_species",
         "orientation": "h",
         "type": "bar",
         "visible": "legendonly",
         "x": [
          6,
          1,
          1,
          24,
          1,
          26,
          2
         ],
         "y": [
          "Ecosystems and Human Well-being: Biodiversity Synthesis",
          "Global Assessment Reports: Volume 1: Current State & Trends; Chapter 13. Air Quality and Climate",
          "Living Beyond Our Means: Natural Assets and Human Well-being",
          "Global assessment report on biodiversity and ecosystem services of the Intergovernmental Science-Policy Platform on Biodiversity and Ecosystem Services",
          "Planning and delivering Nature-based Solutions in Mediterranean cities : First assessment of the IUCN NbS Global Standard in Mediterranean urban areas",
          "The IPBES assessment report on land degradation and restoration",
          "Ecosystems and Human Well-being: General Synthesis"
         ]
        },
        {
         "hoverinfo": "text",
         "hovertext": [
          "<b>Topic 34</b><br>Words: rise, sea, mediterranean, 19932020, noncontinuous",
          "<b>Topic 34</b><br>Words: rise, gmsl, sea, level, mean",
          "<b>Topic 34</b><br>Words: rise, imo, sea, publication, slr",
          "<b>Topic 34</b><br>Words: glottolog, levelcurrently, 2050the, hammarstrom, forkel"
         ],
         "marker": {
          "color": "#CC79A7"
         },
         "name": "34_rise_gmsl_sea_level",
         "orientation": "h",
         "type": "bar",
         "visible": "legendonly",
         "x": [
          3,
          54,
          2,
          1
         ],
         "y": [
          "Blue Skies, Blue Seas : Air Pollution, Marine Plastics, and Coastal Erosion in the Middle East and North Africa",
          "Climate Change 2021 The Physical Science Basis",
          "Global assessment report on biodiversity and ecosystem services of the Intergovernmental Science-Policy Platform on Biodiversity and Ecosystem Services",
          "The IPBES assessment report on land degradation and restoration"
         ]
        },
        {
         "hoverinfo": "text",
         "hovertext": [
          "<b>Topic 35</b><br>Words: karger, muller, fmars, 00211, 3389",
          "<b>Topic 35</b><br>Words: hotspots, diatoms, endemism, species, oceans",
          "<b>Topic 35</b><br>Words: indian, wio, western, marine, species",
          "<b>Topic 35</b><br>Words: date, record, records, native, invertebrate"
         ],
         "marker": {
          "color": "#E69F00"
         },
         "name": "35_indian_wio_marine_species",
         "orientation": "h",
         "type": "bar",
         "visible": "legendonly",
         "x": [
          1,
          11,
          44,
          1
         ],
         "y": [
          "Climate Change 2021 The Physical Science Basis",
          "Global assessment report on biodiversity and ecosystem services of the Intergovernmental Science-Policy Platform on Biodiversity and Ecosystem Services",
          "The conservation status of marine biodiversity of the Western Indian Ocean",
          "Ecosystems and Human Well-being: General Synthesis"
         ]
        },
        {
         "hoverinfo": "text",
         "hovertext": [
          "<b>Topic 36</b><br>Words: organizado, crimen, globalinitiative, mined, gold",
          "<b>Topic 36</b><br>Words: mining, gold, mercury, minerals, mineral",
          "<b>Topic 36</b><br>Words: mining, mercury, gold, extractive, mine"
         ],
         "marker": {
          "color": "#56B4E9"
         },
         "name": "36_mining_mercury_gold_minerals",
         "orientation": "h",
         "type": "bar",
         "visible": "legendonly",
         "x": [
          1,
          9,
          47
         ],
         "y": [
          "Gender-based violence and environment linkages : summary for policy makers",
          "Global assessment report on biodiversity and ecosystem services of the Intergovernmental Science-Policy Platform on Biodiversity and Ecosystem Services",
          "The IPBES assessment report on land degradation and restoration"
         ]
        },
        {
         "hoverinfo": "text",
         "hovertext": [
          "<b>Topic 37</b><br>Words: tap, decisionmaking, involvement, protecting, ways",
          "<b>Topic 37</b><br>Words: indigenous, equity, inclusiveness, commits, intergenerational",
          "<b>Topic 37</b><br>Words: indigenous, knowledge, local, peoples, communities",
          "<b>Topic 37</b><br>Words: indigenous, knowledge, local, peoples, communities",
          "<b>Topic 37</b><br>Words: knowledge, indigenous, local, contextualize, compensating"
         ],
         "marker": {
          "color": "#009E73"
         },
         "name": "37_indigenous_knowledge_local_peoples",
         "orientation": "h",
         "type": "bar",
         "visible": "legendonly",
         "x": [
          1,
          1,
          30,
          23,
          2
         ],
         "y": [
          "Living Beyond Our Means: Natural Assets and Human Well-being",
          "Gender and national climate planning",
          "Global assessment report on biodiversity and ecosystem services of the Intergovernmental Science-Policy Platform on Biodiversity and Ecosystem Services",
          "The IPBES assessment report on land degradation and restoration",
          "Ecosystems and Human Well-being: General Synthesis"
         ]
        },
        {
         "hoverinfo": "text",
         "hovertext": [
          "<b>Topic 38</b><br>Words: erf, aerosol, hfc, ppt, 2011"
         ],
         "marker": {
          "color": "#F0E442"
         },
         "name": "38_erf_aerosol_hfc_ppt",
         "orientation": "h",
         "type": "bar",
         "visible": "legendonly",
         "x": [
          57
         ],
         "y": [
          "Climate Change 2021 The Physical Science Basis"
         ]
        },
        {
         "hoverinfo": "text",
         "hovertext": [
          "<b>Topic 39</b><br>Words: ppb, ppm, co2, n2o, ch4",
          "<b>Topic 39</b><br>Words: ppb, preindustrial, ppm, 1990s, yr"
         ],
         "marker": {
          "color": "#D55E00"
         },
         "name": "39_ppb_ppm_co2_n2o",
         "orientation": "h",
         "type": "bar",
         "visible": "legendonly",
         "x": [
          52,
          5
         ],
         "y": [
          "Climate Change 2021 The Physical Science Basis",
          "Global Assessment Reports: Volume 1: Current State & Trends; Chapter 13. Air Quality and Climate"
         ]
        },
        {
         "hoverinfo": "text",
         "hovertext": [
          "<b>Topic 40</b><br>Words: cmip6, models, cmip5, resolution, mean"
         ],
         "marker": {
          "color": "#0072B2"
         },
         "name": "40_cmip6_models_cmip5_resolution",
         "orientation": "h",
         "type": "bar",
         "visible": "legendonly",
         "x": [
          55
         ],
         "y": [
          "Climate Change 2021 The Physical Science Basis"
         ]
        },
        {
         "hoverinfo": "text",
         "hovertext": [
          "<b>Topic 41</b><br>Words: damage, environment, feelings, healthy, spiritual",
          "<b>Topic 41</b><br>Words: nature, identity, cultural, spiritual, mental",
          "<b>Topic 41</b><br>Words: enjoyment, references, explicit, point, heritage",
          "<b>Topic 41</b><br>Words: sense, landscapes, mental, nature, place",
          "<b>Topic 41</b><br>Words: spiritual, aesthetic, tourism, values, religious"
         ],
         "marker": {
          "color": "#CC79A7"
         },
         "name": "41_nature_spiritual_sense_mental",
         "orientation": "h",
         "type": "bar",
         "visible": "legendonly",
         "x": [
          3,
          28,
          1,
          17,
          5
         ],
         "y": [
          "Ecosystems and Human Well-being: Biodiversity Synthesis",
          "Global assessment report on biodiversity and ecosystem services of the Intergovernmental Science-Policy Platform on Biodiversity and Ecosystem Services",
          "Planning and delivering Nature-based Solutions in Mediterranean cities : First assessment of the IUCN NbS Global Standard in Mediterranean urban areas",
          "The IPBES assessment report on land degradation and restoration",
          "Ecosystems and Human Well-being: General Synthesis"
         ]
        },
        {
         "hoverinfo": "text",
         "hovertext": [
          "<b>Topic 42</b><br>Words: cci, landcover, esas, esa, website",
          "<b>Topic 42</b><br>Words: inferred, taxa, 300, ago, fraction",
          "<b>Topic 42</b><br>Words: synergy, suitability, mitigation, deforestation, low",
          "<b>Topic 42</b><br>Words: predominant, land, fraction, hurtt, cover",
          "<b>Topic 42</b><br>Words: 698700, trenberth, dickinson, cambridge, modeling",
          "<b>Topic 42</b><br>Words: cover, land, bioenergy, cci, afforestation",
          "<b>Topic 42</b><br>Words: explicit, expansion, patterns, four, markedly",
          "<b>Topic 42</b><br>Words: cover, land, built, mod500, 2000",
          "<b>Topic 42</b><br>Words: cover, opinion, expert, 19802000, unspecified"
         ],
         "marker": {
          "color": "#E69F00"
         },
         "name": "42_cover_land_built_use",
         "orientation": "h",
         "type": "bar",
         "visible": "legendonly",
         "x": [
          1,
          1,
          2,
          9,
          1,
          9,
          1,
          25,
          4
         ],
         "y": [
          "Blue Skies, Blue Seas : Air Pollution, Marine Plastics, and Coastal Erosion in the Middle East and North Africa",
          "Ecosystems and Human Well-being: Biodiversity Synthesis",
          "Using ecosystem risk assessment science in ecosystem restoration : a guide to applying the Red List of Ecosystems to ecosystem restoration",
          "Climate Change 2021 The Physical Science Basis",
          "Global Assessment Reports: Volume 1: Current State & Trends; Chapter 13. Air Quality and Climate",
          "Global assessment report on biodiversity and ecosystem services of the Intergovernmental Science-Policy Platform on Biodiversity and Ecosystem Services",
          "Planning and delivering Nature-based Solutions in Mediterranean cities : First assessment of the IUCN NbS Global Standard in Mediterranean urban areas",
          "The IPBES assessment report on land degradation and restoration",
          "Ecosystems and Human Well-being: General Synthesis"
         ]
        },
        {
         "hoverinfo": "text",
         "hovertext": [
          "<b>Topic 43</b><br>Words: protected, areas, protection, lnd, ptld",
          "<b>Topic 43</b><br>Words: protected, areas, pas, conservation, situ",
          "<b>Topic 43</b><br>Words: protected, conservation, recognising, gaining, integrated",
          "<b>Topic 43</b><br>Words: cornered, brief_rri_june, rightsandresources, pas, 2018",
          "<b>Topic 43</b><br>Words: co2e, tonnes, protected, ha, yr",
          "<b>Topic 43</b><br>Words: protected, areas, marine, pas, area",
          "<b>Topic 43</b><br>Words: protected, kbas, marine, areas, mpas",
          "<b>Topic 43</b><br>Words: protected, areas, rica, costa, saura",
          "<b>Topic 43</b><br>Words: pas, protected, strictly, representativeness, areas"
         ],
         "marker": {
          "color": "#56B4E9"
         },
         "name": "43_protected_areas_marine_pas",
         "orientation": "h",
         "type": "bar",
         "visible": "legendonly",
         "x": [
          2,
          7,
          1,
          1,
          1,
          30,
          5,
          3,
          3
         ],
         "y": [
          "Blue Skies, Blue Seas : Air Pollution, Marine Plastics, and Coastal Erosion in the Middle East and North Africa",
          "Ecosystems and Human Well-being: Biodiversity Synthesis",
          "Acting on ocean risk : Documenting economic, social and environmental impacts on coastal communities",
          "Gender-based violence and environment linkages : summary for policy makers",
          "World Heritage forests : Carbon sinks under pressure",
          "Global assessment report on biodiversity and ecosystem services of the Intergovernmental Science-Policy Platform on Biodiversity and Ecosystem Services",
          "The conservation status of marine biodiversity of the Western Indian Ocean",
          "The IPBES assessment report on land degradation and restoration",
          "Ecosystems and Human Well-being: General Synthesis"
         ]
        },
        {
         "hoverinfo": "text",
         "hovertext": [
          "<b>Topic 44</b><br>Words: erosion, soil, c26, tillage, america",
          "<b>Topic 44</b><br>Words: rice, banos, 417430, cheng, paddy",
          "<b>Topic 44</b><br>Words: soil, erosion, tillage, productivity, extent",
          "<b>Topic 44</b><br>Words: puddle, slope, laid, kept, gradients",
          "<b>Topic 44</b><br>Words: soil, erosion, tillage, fallow, bare",
          "<b>Topic 44</b><br>Words: soil, erosion, formation, c26, vegetative"
         ],
         "marker": {
          "color": "#009E73"
         },
         "name": "44_soil_erosion_tillage_fallow",
         "orientation": "h",
         "type": "bar",
         "visible": "legendonly",
         "x": [
          1,
          1,
          8,
          1,
          39,
          3
         ],
         "y": [
          "Ecosystems and Human Well-being: Biodiversity Synthesis",
          "Global Assessment Reports: Volume 1: Current State & Trends; Chapter 13. Air Quality and Climate",
          "Global assessment report on biodiversity and ecosystem services of the Intergovernmental Science-Policy Platform on Biodiversity and Ecosystem Services",
          "Planning and delivering Nature-based Solutions in Mediterranean cities : First assessment of the IUCN NbS Global Standard in Mediterranean urban areas",
          "The IPBES assessment report on land degradation and restoration",
          "Ecosystems and Human Well-being: General Synthesis"
         ]
        },
        {
         "hoverinfo": "text",
         "hovertext": [
          "<b>Topic 45</b><br>Words: megagrams, hectare, per, agroforestry, year",
          "<b>Topic 45</b><br>Words: ____________________________________________________________________, tree, vicinity, wcmc, maximize",
          "<b>Topic 45</b><br>Words: forest, forests, ha, area, cover",
          "<b>Topic 45</b><br>Words: forest, logging, forests, area, tropical",
          "<b>Topic 45</b><br>Words: forest, woodland, glc2000, area, forests"
         ],
         "marker": {
          "color": "#F0E442"
         },
         "name": "45_forest_forests_logging_area",
         "orientation": "h",
         "type": "bar",
         "visible": "legendonly",
         "x": [
          1,
          2,
          18,
          30,
          2
         ],
         "y": [
          "Global Assessment Reports: Volume 1: Current State & Trends; Chapter 13. Air Quality and Climate",
          "World Heritage forests : Carbon sinks under pressure",
          "Global assessment report on biodiversity and ecosystem services of the Intergovernmental Science-Policy Platform on Biodiversity and Ecosystem Services",
          "The IPBES assessment report on land degradation and restoration",
          "Ecosystems and Human Well-being: General Synthesis"
         ]
        },
        {
         "hoverinfo": "text",
         "hovertext": [
          "<b>Topic 46</b><br>Words: species, habitat, kelp, loss, homogenization",
          "<b>Topic 46</b><br>Words: outcome, whole, variety, planet, significantly",
          "<b>Topic 46</b><br>Words: assemblages, species, traits, diversity, habitat",
          "<b>Topic 46</b><br>Words: patches, habitat, species, fragmentation, patch",
          "<b>Topic 46</b><br>Words: species, homogenous, native, diversity, extinction"
         ],
         "marker": {
          "color": "#D55E00"
         },
         "name": "46_species_habitat_patches_assemblages",
         "orientation": "h",
         "type": "bar",
         "visible": "legendonly",
         "x": [
          10,
          1,
          25,
          13,
          4
         ],
         "y": [
          "Ecosystems and Human Well-being: Biodiversity Synthesis",
          "Living Beyond Our Means: Natural Assets and Human Well-being",
          "Global assessment report on biodiversity and ecosystem services of the Intergovernmental Science-Policy Platform on Biodiversity and Ecosystem Services",
          "The IPBES assessment report on land degradation and restoration",
          "Ecosystems and Human Well-being: General Synthesis"
         ]
        },
        {
         "hoverinfo": "text",
         "hovertext": [
          "<b>Topic 47</b><br>Words: wind, extratropical, poleward, cyclones, tracks"
         ],
         "marker": {
          "color": "#0072B2"
         },
         "name": "47_wind_extratropical_poleward_cyclones",
         "orientation": "h",
         "type": "bar",
         "visible": "legendonly",
         "x": [
          53
         ],
         "y": [
          "Climate Change 2021 The Physical Science Basis"
         ]
        },
        {
         "hoverinfo": "text",
         "hovertext": [
          "<b>Topic 48</b><br>Words: 2020, 96, 98, 97, 94"
         ],
         "marker": {
          "color": "#CC79A7"
         },
         "name": "48_2020_96_98_97",
         "orientation": "h",
         "type": "bar",
         "visible": "legendonly",
         "x": [
          52
         ],
         "y": [
          "Progress on household drinking water, sanitation and hygiene, 2000-2020"
         ]
        },
        {
         "hoverinfo": "text",
         "hovertext": [
          "<b>Topic 49</b><br>Words: extinction, extinctions, species, extinct, certainty",
          "<b>Topic 49</b><br>Words: extinction, rate, leap, history, extinctions",
          "<b>Topic 49</b><br>Words: extinction, species, extinctions, threatened, extinct",
          "<b>Topic 49</b><br>Words: extinction, species, extinct, trigger, extinctions",
          "<b>Topic 49</b><br>Words: extinction, extinctions, species, extinct, bound"
         ],
         "marker": {
          "color": "#E69F00"
         },
         "name": "49_extinction_species_extinctions_extinc...",
         "orientation": "h",
         "type": "bar",
         "visible": "legendonly",
         "x": [
          10,
          3,
          28,
          5,
          5
         ],
         "y": [
          "Ecosystems and Human Well-being: Biodiversity Synthesis",
          "Living Beyond Our Means: Natural Assets and Human Well-being",
          "Global assessment report on biodiversity and ecosystem services of the Intergovernmental Science-Policy Platform on Biodiversity and Ecosystem Services",
          "The IPBES assessment report on land degradation and restoration",
          "Ecosystems and Human Well-being: General Synthesis"
         ]
        }
       ],
       "layout": {
        "height": 900,
        "hoverlabel": {
         "bgcolor": "white",
         "font": {
          "family": "Rockwell",
          "size": 16
         }
        },
        "legend": {
         "title": {
          "text": "<b>Global Topic Representation"
         }
        },
        "template": {
         "data": {
          "bar": [
           {
            "error_x": {
             "color": "rgb(36,36,36)"
            },
            "error_y": {
             "color": "rgb(36,36,36)"
            },
            "marker": {
             "line": {
              "color": "white",
              "width": 0.5
             },
             "pattern": {
              "fillmode": "overlay",
              "size": 10,
              "solidity": 0.2
             }
            },
            "type": "bar"
           }
          ],
          "barpolar": [
           {
            "marker": {
             "line": {
              "color": "white",
              "width": 0.5
             },
             "pattern": {
              "fillmode": "overlay",
              "size": 10,
              "solidity": 0.2
             }
            },
            "type": "barpolar"
           }
          ],
          "carpet": [
           {
            "aaxis": {
             "endlinecolor": "rgb(36,36,36)",
             "gridcolor": "white",
             "linecolor": "white",
             "minorgridcolor": "white",
             "startlinecolor": "rgb(36,36,36)"
            },
            "baxis": {
             "endlinecolor": "rgb(36,36,36)",
             "gridcolor": "white",
             "linecolor": "white",
             "minorgridcolor": "white",
             "startlinecolor": "rgb(36,36,36)"
            },
            "type": "carpet"
           }
          ],
          "choropleth": [
           {
            "colorbar": {
             "outlinewidth": 1,
             "tickcolor": "rgb(36,36,36)",
             "ticks": "outside"
            },
            "type": "choropleth"
           }
          ],
          "contour": [
           {
            "colorbar": {
             "outlinewidth": 1,
             "tickcolor": "rgb(36,36,36)",
             "ticks": "outside"
            },
            "colorscale": [
             [
              0,
              "#440154"
             ],
             [
              0.1111111111111111,
              "#482878"
             ],
             [
              0.2222222222222222,
              "#3e4989"
             ],
             [
              0.3333333333333333,
              "#31688e"
             ],
             [
              0.4444444444444444,
              "#26828e"
             ],
             [
              0.5555555555555556,
              "#1f9e89"
             ],
             [
              0.6666666666666666,
              "#35b779"
             ],
             [
              0.7777777777777778,
              "#6ece58"
             ],
             [
              0.8888888888888888,
              "#b5de2b"
             ],
             [
              1,
              "#fde725"
             ]
            ],
            "type": "contour"
           }
          ],
          "contourcarpet": [
           {
            "colorbar": {
             "outlinewidth": 1,
             "tickcolor": "rgb(36,36,36)",
             "ticks": "outside"
            },
            "type": "contourcarpet"
           }
          ],
          "heatmap": [
           {
            "colorbar": {
             "outlinewidth": 1,
             "tickcolor": "rgb(36,36,36)",
             "ticks": "outside"
            },
            "colorscale": [
             [
              0,
              "#440154"
             ],
             [
              0.1111111111111111,
              "#482878"
             ],
             [
              0.2222222222222222,
              "#3e4989"
             ],
             [
              0.3333333333333333,
              "#31688e"
             ],
             [
              0.4444444444444444,
              "#26828e"
             ],
             [
              0.5555555555555556,
              "#1f9e89"
             ],
             [
              0.6666666666666666,
              "#35b779"
             ],
             [
              0.7777777777777778,
              "#6ece58"
             ],
             [
              0.8888888888888888,
              "#b5de2b"
             ],
             [
              1,
              "#fde725"
             ]
            ],
            "type": "heatmap"
           }
          ],
          "heatmapgl": [
           {
            "colorbar": {
             "outlinewidth": 1,
             "tickcolor": "rgb(36,36,36)",
             "ticks": "outside"
            },
            "colorscale": [
             [
              0,
              "#440154"
             ],
             [
              0.1111111111111111,
              "#482878"
             ],
             [
              0.2222222222222222,
              "#3e4989"
             ],
             [
              0.3333333333333333,
              "#31688e"
             ],
             [
              0.4444444444444444,
              "#26828e"
             ],
             [
              0.5555555555555556,
              "#1f9e89"
             ],
             [
              0.6666666666666666,
              "#35b779"
             ],
             [
              0.7777777777777778,
              "#6ece58"
             ],
             [
              0.8888888888888888,
              "#b5de2b"
             ],
             [
              1,
              "#fde725"
             ]
            ],
            "type": "heatmapgl"
           }
          ],
          "histogram": [
           {
            "marker": {
             "line": {
              "color": "white",
              "width": 0.6
             }
            },
            "type": "histogram"
           }
          ],
          "histogram2d": [
           {
            "colorbar": {
             "outlinewidth": 1,
             "tickcolor": "rgb(36,36,36)",
             "ticks": "outside"
            },
            "colorscale": [
             [
              0,
              "#440154"
             ],
             [
              0.1111111111111111,
              "#482878"
             ],
             [
              0.2222222222222222,
              "#3e4989"
             ],
             [
              0.3333333333333333,
              "#31688e"
             ],
             [
              0.4444444444444444,
              "#26828e"
             ],
             [
              0.5555555555555556,
              "#1f9e89"
             ],
             [
              0.6666666666666666,
              "#35b779"
             ],
             [
              0.7777777777777778,
              "#6ece58"
             ],
             [
              0.8888888888888888,
              "#b5de2b"
             ],
             [
              1,
              "#fde725"
             ]
            ],
            "type": "histogram2d"
           }
          ],
          "histogram2dcontour": [
           {
            "colorbar": {
             "outlinewidth": 1,
             "tickcolor": "rgb(36,36,36)",
             "ticks": "outside"
            },
            "colorscale": [
             [
              0,
              "#440154"
             ],
             [
              0.1111111111111111,
              "#482878"
             ],
             [
              0.2222222222222222,
              "#3e4989"
             ],
             [
              0.3333333333333333,
              "#31688e"
             ],
             [
              0.4444444444444444,
              "#26828e"
             ],
             [
              0.5555555555555556,
              "#1f9e89"
             ],
             [
              0.6666666666666666,
              "#35b779"
             ],
             [
              0.7777777777777778,
              "#6ece58"
             ],
             [
              0.8888888888888888,
              "#b5de2b"
             ],
             [
              1,
              "#fde725"
             ]
            ],
            "type": "histogram2dcontour"
           }
          ],
          "mesh3d": [
           {
            "colorbar": {
             "outlinewidth": 1,
             "tickcolor": "rgb(36,36,36)",
             "ticks": "outside"
            },
            "type": "mesh3d"
           }
          ],
          "parcoords": [
           {
            "line": {
             "colorbar": {
              "outlinewidth": 1,
              "tickcolor": "rgb(36,36,36)",
              "ticks": "outside"
             }
            },
            "type": "parcoords"
           }
          ],
          "pie": [
           {
            "automargin": true,
            "type": "pie"
           }
          ],
          "scatter": [
           {
            "marker": {
             "colorbar": {
              "outlinewidth": 1,
              "tickcolor": "rgb(36,36,36)",
              "ticks": "outside"
             }
            },
            "type": "scatter"
           }
          ],
          "scatter3d": [
           {
            "line": {
             "colorbar": {
              "outlinewidth": 1,
              "tickcolor": "rgb(36,36,36)",
              "ticks": "outside"
             }
            },
            "marker": {
             "colorbar": {
              "outlinewidth": 1,
              "tickcolor": "rgb(36,36,36)",
              "ticks": "outside"
             }
            },
            "type": "scatter3d"
           }
          ],
          "scattercarpet": [
           {
            "marker": {
             "colorbar": {
              "outlinewidth": 1,
              "tickcolor": "rgb(36,36,36)",
              "ticks": "outside"
             }
            },
            "type": "scattercarpet"
           }
          ],
          "scattergeo": [
           {
            "marker": {
             "colorbar": {
              "outlinewidth": 1,
              "tickcolor": "rgb(36,36,36)",
              "ticks": "outside"
             }
            },
            "type": "scattergeo"
           }
          ],
          "scattergl": [
           {
            "marker": {
             "colorbar": {
              "outlinewidth": 1,
              "tickcolor": "rgb(36,36,36)",
              "ticks": "outside"
             }
            },
            "type": "scattergl"
           }
          ],
          "scattermapbox": [
           {
            "marker": {
             "colorbar": {
              "outlinewidth": 1,
              "tickcolor": "rgb(36,36,36)",
              "ticks": "outside"
             }
            },
            "type": "scattermapbox"
           }
          ],
          "scatterpolar": [
           {
            "marker": {
             "colorbar": {
              "outlinewidth": 1,
              "tickcolor": "rgb(36,36,36)",
              "ticks": "outside"
             }
            },
            "type": "scatterpolar"
           }
          ],
          "scatterpolargl": [
           {
            "marker": {
             "colorbar": {
              "outlinewidth": 1,
              "tickcolor": "rgb(36,36,36)",
              "ticks": "outside"
             }
            },
            "type": "scatterpolargl"
           }
          ],
          "scatterternary": [
           {
            "marker": {
             "colorbar": {
              "outlinewidth": 1,
              "tickcolor": "rgb(36,36,36)",
              "ticks": "outside"
             }
            },
            "type": "scatterternary"
           }
          ],
          "surface": [
           {
            "colorbar": {
             "outlinewidth": 1,
             "tickcolor": "rgb(36,36,36)",
             "ticks": "outside"
            },
            "colorscale": [
             [
              0,
              "#440154"
             ],
             [
              0.1111111111111111,
              "#482878"
             ],
             [
              0.2222222222222222,
              "#3e4989"
             ],
             [
              0.3333333333333333,
              "#31688e"
             ],
             [
              0.4444444444444444,
              "#26828e"
             ],
             [
              0.5555555555555556,
              "#1f9e89"
             ],
             [
              0.6666666666666666,
              "#35b779"
             ],
             [
              0.7777777777777778,
              "#6ece58"
             ],
             [
              0.8888888888888888,
              "#b5de2b"
             ],
             [
              1,
              "#fde725"
             ]
            ],
            "type": "surface"
           }
          ],
          "table": [
           {
            "cells": {
             "fill": {
              "color": "rgb(237,237,237)"
             },
             "line": {
              "color": "white"
             }
            },
            "header": {
             "fill": {
              "color": "rgb(217,217,217)"
             },
             "line": {
              "color": "white"
             }
            },
            "type": "table"
           }
          ]
         },
         "layout": {
          "annotationdefaults": {
           "arrowhead": 0,
           "arrowwidth": 1
          },
          "autotypenumbers": "strict",
          "coloraxis": {
           "colorbar": {
            "outlinewidth": 1,
            "tickcolor": "rgb(36,36,36)",
            "ticks": "outside"
           }
          },
          "colorscale": {
           "diverging": [
            [
             0,
             "rgb(103,0,31)"
            ],
            [
             0.1,
             "rgb(178,24,43)"
            ],
            [
             0.2,
             "rgb(214,96,77)"
            ],
            [
             0.3,
             "rgb(244,165,130)"
            ],
            [
             0.4,
             "rgb(253,219,199)"
            ],
            [
             0.5,
             "rgb(247,247,247)"
            ],
            [
             0.6,
             "rgb(209,229,240)"
            ],
            [
             0.7,
             "rgb(146,197,222)"
            ],
            [
             0.8,
             "rgb(67,147,195)"
            ],
            [
             0.9,
             "rgb(33,102,172)"
            ],
            [
             1,
             "rgb(5,48,97)"
            ]
           ],
           "sequential": [
            [
             0,
             "#440154"
            ],
            [
             0.1111111111111111,
             "#482878"
            ],
            [
             0.2222222222222222,
             "#3e4989"
            ],
            [
             0.3333333333333333,
             "#31688e"
            ],
            [
             0.4444444444444444,
             "#26828e"
            ],
            [
             0.5555555555555556,
             "#1f9e89"
            ],
            [
             0.6666666666666666,
             "#35b779"
            ],
            [
             0.7777777777777778,
             "#6ece58"
            ],
            [
             0.8888888888888888,
             "#b5de2b"
            ],
            [
             1,
             "#fde725"
            ]
           ],
           "sequentialminus": [
            [
             0,
             "#440154"
            ],
            [
             0.1111111111111111,
             "#482878"
            ],
            [
             0.2222222222222222,
             "#3e4989"
            ],
            [
             0.3333333333333333,
             "#31688e"
            ],
            [
             0.4444444444444444,
             "#26828e"
            ],
            [
             0.5555555555555556,
             "#1f9e89"
            ],
            [
             0.6666666666666666,
             "#35b779"
            ],
            [
             0.7777777777777778,
             "#6ece58"
            ],
            [
             0.8888888888888888,
             "#b5de2b"
            ],
            [
             1,
             "#fde725"
            ]
           ]
          },
          "colorway": [
           "#1F77B4",
           "#FF7F0E",
           "#2CA02C",
           "#D62728",
           "#9467BD",
           "#8C564B",
           "#E377C2",
           "#7F7F7F",
           "#BCBD22",
           "#17BECF"
          ],
          "font": {
           "color": "rgb(36,36,36)"
          },
          "geo": {
           "bgcolor": "white",
           "lakecolor": "white",
           "landcolor": "white",
           "showlakes": true,
           "showland": true,
           "subunitcolor": "white"
          },
          "hoverlabel": {
           "align": "left"
          },
          "hovermode": "closest",
          "mapbox": {
           "style": "light"
          },
          "paper_bgcolor": "white",
          "plot_bgcolor": "white",
          "polar": {
           "angularaxis": {
            "gridcolor": "rgb(232,232,232)",
            "linecolor": "rgb(36,36,36)",
            "showgrid": false,
            "showline": true,
            "ticks": "outside"
           },
           "bgcolor": "white",
           "radialaxis": {
            "gridcolor": "rgb(232,232,232)",
            "linecolor": "rgb(36,36,36)",
            "showgrid": false,
            "showline": true,
            "ticks": "outside"
           }
          },
          "scene": {
           "xaxis": {
            "backgroundcolor": "white",
            "gridcolor": "rgb(232,232,232)",
            "gridwidth": 2,
            "linecolor": "rgb(36,36,36)",
            "showbackground": true,
            "showgrid": false,
            "showline": true,
            "ticks": "outside",
            "zeroline": false,
            "zerolinecolor": "rgb(36,36,36)"
           },
           "yaxis": {
            "backgroundcolor": "white",
            "gridcolor": "rgb(232,232,232)",
            "gridwidth": 2,
            "linecolor": "rgb(36,36,36)",
            "showbackground": true,
            "showgrid": false,
            "showline": true,
            "ticks": "outside",
            "zeroline": false,
            "zerolinecolor": "rgb(36,36,36)"
           },
           "zaxis": {
            "backgroundcolor": "white",
            "gridcolor": "rgb(232,232,232)",
            "gridwidth": 2,
            "linecolor": "rgb(36,36,36)",
            "showbackground": true,
            "showgrid": false,
            "showline": true,
            "ticks": "outside",
            "zeroline": false,
            "zerolinecolor": "rgb(36,36,36)"
           }
          },
          "shapedefaults": {
           "fillcolor": "black",
           "line": {
            "width": 0
           },
           "opacity": 0.3
          },
          "ternary": {
           "aaxis": {
            "gridcolor": "rgb(232,232,232)",
            "linecolor": "rgb(36,36,36)",
            "showgrid": false,
            "showline": true,
            "ticks": "outside"
           },
           "baxis": {
            "gridcolor": "rgb(232,232,232)",
            "linecolor": "rgb(36,36,36)",
            "showgrid": false,
            "showline": true,
            "ticks": "outside"
           },
           "bgcolor": "white",
           "caxis": {
            "gridcolor": "rgb(232,232,232)",
            "linecolor": "rgb(36,36,36)",
            "showgrid": false,
            "showline": true,
            "ticks": "outside"
           }
          },
          "title": {
           "x": 0.05
          },
          "xaxis": {
           "automargin": true,
           "gridcolor": "rgb(232,232,232)",
           "linecolor": "rgb(36,36,36)",
           "showgrid": false,
           "showline": true,
           "ticks": "outside",
           "title": {
            "standoff": 15
           },
           "zeroline": false,
           "zerolinecolor": "rgb(36,36,36)"
          },
          "yaxis": {
           "automargin": true,
           "gridcolor": "rgb(232,232,232)",
           "linecolor": "rgb(36,36,36)",
           "showgrid": false,
           "showline": true,
           "ticks": "outside",
           "title": {
            "standoff": 15
           },
           "zeroline": false,
           "zerolinecolor": "rgb(36,36,36)"
          }
         }
        },
        "title": {
         "font": {
          "color": "Black",
          "size": 22
         },
         "text": "<b>Topics per Class",
         "x": 0.4,
         "xanchor": "center",
         "y": 0.95,
         "yanchor": "top"
        },
        "width": 1250,
        "xaxis": {
         "showgrid": true,
         "title": {
          "text": "Frequency"
         }
        },
        "yaxis": {
         "showgrid": true,
         "title": {
          "text": "Class"
         }
        }
       }
      },
      "text/html": [
       "<div>                            <div id=\"7ebaf76e-a05f-4d01-bad0-ce35a0dd35d2\" class=\"plotly-graph-div\" style=\"height:900px; width:1250px;\"></div>            <script type=\"text/javascript\">                require([\"plotly\"], function(Plotly) {                    window.PLOTLYENV=window.PLOTLYENV || {};                                    if (document.getElementById(\"7ebaf76e-a05f-4d01-bad0-ce35a0dd35d2\")) {                    Plotly.newPlot(                        \"7ebaf76e-a05f-4d01-bad0-ce35a0dd35d2\",                        [{\"hoverinfo\":\"text\",\"hovertext\":[\"<b>Topic 0</b><br>Words: sanitation, hygiene, masks, basic, medical\",\"<b>Topic 0</b><br>Words: correct, errors, adjusted, catch, reported\",\"<b>Topic 0</b><br>Words: incidence, settings, data, mortality, gaps\",\"<b>Topic 0</b><br>Words: basic, hygiene, sanitation, coverage, drinking\",\"<b>Topic 0</b><br>Words: cleancookstoves, 478, html, base, systematic\",\"<b>Topic 0</b><br>Words: sanitation, facilities, retrieved, water, access\",\"<b>Topic 0</b><br>Words: modernising, sewerage, sensors, installation, real\",\"<b>Topic 0</b><br>Words: hygiene, hand, handwashing, facilities, soap\",\"<b>Topic 0</b><br>Words: wrap, uk, the_uk_, household_food_and_drink_waste_in_, banbury\",\"<b>Topic 0</b><br>Words: diarrhea, latrine, contaminated, connection, correct\",\"<b>Topic 0</b><br>Words: readiness, safer, healthier, ensures, promotes\"],\"marker\":{\"color\":\"#E69F00\"},\"name\":\"0_hygiene_hand_basic_handwashing\",\"orientation\":\"h\",\"visible\":true,\"x\":[13,1,1,315,1,7,1,301,3,6,5],\"y\":[\"Blue Skies, Blue Seas : Air Pollution, Marine Plastics, and Coastal Erosion in the Middle East and North Africa\",\"Ecosystems and Human Well-being: Biodiversity Synthesis\",\"Acting on ocean risk : Documenting economic, social and environmental impacts on coastal communities\",\"Progress on household drinking water, sanitation and hygiene, 2000-2020\",\"Gender-based violence and environment linkages : summary for policy makers\",\"Global assessment report on biodiversity and ecosystem services of the Intergovernmental Science-Policy Platform on Biodiversity and Ecosystem Services\",\"Planning and delivering Nature-based Solutions in Mediterranean cities : First assessment of the IUCN NbS Global Standard in Mediterranean urban areas\",\"State of the World's Hand Hygiene\",\"The IPBES assessment report on land degradation and restoration\",\"Ecosystems and Human Well-being: General Synthesis\",\"Women, Business and the Law 2022\"],\"type\":\"bar\"},{\"hoverinfo\":\"text\",\"hovertext\":[\"<b>Topic 1</b><br>Words: green, spaces, space, greening, city\",\"<b>Topic 1</b><br>Words: drr, repeatedly, standardised, cca, aggregation\",\"<b>Topic 1</b><br>Words: ou, dans, des, decantation, quelles\",\"<b>Topic 1</b><br>Words: mathekga, ranger, rangers, dealing, assist\",\"<b>Topic 1</b><br>Words: 20macedonia, 20north, macedonian, 20enhanced, 20of\",\"<b>Topic 1</b><br>Words: urban, infrastructure, green, promoting, planning\",\"<b>Topic 1</b><br>Words: city, green, urban, plan, spaces\",\"<b>Topic 1</b><br>Words: urban, green, planning, de, infrastructure\",\"<b>Topic 1</b><br>Words: placement, todays, housing, settlement, institutions\"],\"marker\":{\"color\":\"#56B4E9\"},\"name\":\"1_green_city_urban_spaces\",\"orientation\":\"h\",\"visible\":\"legendonly\",\"x\":[13,2,1,1,1,9,350,11,2],\"y\":[\"Blue Skies, Blue Seas : Air Pollution, Marine Plastics, and Coastal Erosion in the Middle East and North Africa\",\"Acting on ocean risk : Documenting economic, social and environmental impacts on coastal communities\",\"Progress on household drinking water, sanitation and hygiene, 2000-2020\",\"Gender-based violence and environment linkages : summary for policy makers\",\"Gender and national climate planning\",\"Global assessment report on biodiversity and ecosystem services of the Intergovernmental Science-Policy Platform on Biodiversity and Ecosystem Services\",\"Planning and delivering Nature-based Solutions in Mediterranean cities : First assessment of the IUCN NbS Global Standard in Mediterranean urban areas\",\"The IPBES assessment report on land degradation and restoration\",\"Ecosystems and Human Well-being: General Synthesis\"],\"type\":\"bar\"},{\"hoverinfo\":\"text\",\"hovertext\":[\"<b>Topic 2</b><br>Words: female, literacy, women, economies, inclusion\",\"<b>Topic 2</b><br>Words: women, 20office, robleto, ccdrr_130317, 58th\",\"<b>Topic 2</b><br>Words: labour, force, formal, noteworthy, void\",\"<b>Topic 2</b><br>Words: wipf, forset, evangelical, discourses, encoding\",\"<b>Topic 2</b><br>Words: tecnalias, searching, intelligence, professional, department\",\"<b>Topic 2</b><br>Words: ageing, welfare, moving, voluntary, family\",\"<b>Topic 2</b><br>Words: women, law, laws, legal, score\"],\"marker\":{\"color\":\"#009E73\"},\"name\":\"2_women_law_laws_legal\",\"orientation\":\"h\",\"visible\":\"legendonly\",\"x\":[2,4,2,4,1,1,335],\"y\":[\"Blue Skies, Blue Seas : Air Pollution, Marine Plastics, and Coastal Erosion in the Middle East and North Africa\",\"Gender-based violence and environment linkages : summary for policy makers\",\"Gender and national climate planning\",\"Global assessment report on biodiversity and ecosystem services of the Intergovernmental Science-Policy Platform on Biodiversity and Ecosystem Services\",\"Planning and delivering Nature-based Solutions in Mediterranean cities : First assessment of the IUCN NbS Global Standard in Mediterranean urban areas\",\"The IPBES assessment report on land degradation and restoration\",\"Women, Business and the Law 2022\"],\"type\":\"bar\"},{\"hoverinfo\":\"text\",\"hovertext\":[\"<b>Topic 3</b><br>Words: spnl, fighting, recommendations, lebanon, degradation\",\"<b>Topic 3</b><br>Words: roam, restoration, landscape, database, degradation\",\"<b>Topic 3</b><br>Words: degradation, land, arid, manner, fulfils\",\"<b>Topic 3</b><br>Words: complaints, seems, experiencing, constant, fragile\",\"<b>Topic 3</b><br>Words: degradation, land, restoration, degraded, state\",\"<b>Topic 3</b><br>Words: condition, information, land, accurate, degradation\"],\"marker\":{\"color\":\"#F0E442\"},\"name\":\"3_degradation_land_restoration_degraded\",\"orientation\":\"h\",\"visible\":\"legendonly\",\"x\":[3,5,11,2,322,2],\"y\":[\"Blue Skies, Blue Seas : Air Pollution, Marine Plastics, and Coastal Erosion in the Middle East and North Africa\",\"Using ecosystem risk assessment science in ecosystem restoration : a guide to applying the Red List of Ecosystems to ecosystem restoration\",\"Global assessment report on biodiversity and ecosystem services of the Intergovernmental Science-Policy Platform on Biodiversity and Ecosystem Services\",\"Planning and delivering Nature-based Solutions in Mediterranean cities : First assessment of the IUCN NbS Global Standard in Mediterranean urban areas\",\"The IPBES assessment report on land degradation and restoration\",\"Ecosystems and Human Well-being: General Synthesis\"],\"type\":\"bar\"},{\"hoverinfo\":\"text\",\"hovertext\":[\"<b>Topic 4</b><br>Words: riparian, tamarisk, restoration, goalreduction, habitats\",\"<b>Topic 4</b><br>Words: restoration, ecosystem, red, list, ecosystems\",\"<b>Topic 4</b><br>Words: restoration, ecosystems, ecosystem, passive, recovery\",\"<b>Topic 4</b><br>Words: monitored, hydraulic, monitoring, restoration, stations\",\"<b>Topic 4</b><br>Words: restoration, ecosystem, ecological, success, ecosystems\",\"<b>Topic 4</b><br>Words: technologies, restoration, energy, restored, s98\"],\"marker\":{\"color\":\"#D55E00\"},\"name\":\"4_restoration_ecosystem_red_list\",\"orientation\":\"h\",\"visible\":\"legendonly\",\"x\":[2,278,14,4,41,1],\"y\":[\"Ecosystems and Human Well-being: Biodiversity Synthesis\",\"Using ecosystem risk assessment science in ecosystem restoration : a guide to applying the Red List of Ecosystems to ecosystem restoration\",\"Global assessment report on biodiversity and ecosystem services of the Intergovernmental Science-Policy Platform on Biodiversity and Ecosystem Services\",\"Planning and delivering Nature-based Solutions in Mediterranean cities : First assessment of the IUCN NbS Global Standard in Mediterranean urban areas\",\"The IPBES assessment report on land degradation and restoration\",\"Ecosystems and Human Well-being: General Synthesis\"],\"type\":\"bar\"},{\"hoverinfo\":\"text\",\"hovertext\":[\"<b>Topic 5</b><br>Words: waste, plastic, recycling, plastics, circular\",\"<b>Topic 5</b><br>Words: detoxification, regulation, infectious, hazards, processing\",\"<b>Topic 5</b><br>Words: plastic, guidance, pollution, hotspotting, refund\",\"<b>Topic 5</b><br>Words: bushes, faeces, open, fields, disposal\",\"<b>Topic 5</b><br>Words: policyfor, preempt, wasteful, pioneer, minimizing\",\"<b>Topic 5</b><br>Words: waste, solid, wastes, macarthur, ellen\",\"<b>Topic 5</b><br>Words: reuse, waste, circular, recycling, materials\",\"<b>Topic 5</b><br>Words: paper, chlorinefree, print, recycled, bleached\"],\"marker\":{\"color\":\"#0072B2\"},\"name\":\"5_waste_plastic_recycling_plastics\",\"orientation\":\"h\",\"visible\":\"legendonly\",\"x\":[272,1,1,1,1,4,1,2],\"y\":[\"Blue Skies, Blue Seas : Air Pollution, Marine Plastics, and Coastal Erosion in the Middle East and North Africa\",\"Ecosystems and Human Well-being: Biodiversity Synthesis\",\"Acting on ocean risk : Documenting economic, social and environmental impacts on coastal communities\",\"Progress on household drinking water, sanitation and hygiene, 2000-2020\",\"Living Beyond Our Means: Natural Assets and Human Well-being\",\"Global assessment report on biodiversity and ecosystem services of the Intergovernmental Science-Policy Platform on Biodiversity and Ecosystem Services\",\"The IPBES assessment report on land degradation and restoration\",\"Women, Business and the Law 2022\"],\"type\":\"bar\"},{\"hoverinfo\":\"text\",\"hovertext\":[\"<b>Topic 6</b><br>Words: gender, oxfam, rangers, tea, women\",\"<b>Topic 6</b><br>Words: gender, ndcs, women, responsive, ndc\",\"<b>Topic 6</b><br>Words: agarwal, 27852799, nussbaum, gender, 025\",\"<b>Topic 6</b><br>Words: gender, stereotypes, co, toolkit, inclusive\",\"<b>Topic 6</b><br>Words: gender, foraging, women, amount, sendzimir\",\"<b>Topic 6</b><br>Words: gender, empower, security, explicit, recognition\",\"<b>Topic 6</b><br>Words: bhatkal, tanvi, overseas, want, london\"],\"marker\":{\"color\":\"#CC79A7\"},\"name\":\"6_gender_ndcs_women_responsive\",\"orientation\":\"h\",\"visible\":\"legendonly\",\"x\":[7,206,4,3,2,1,1],\"y\":[\"Gender-based violence and environment linkages : summary for policy makers\",\"Gender and national climate planning\",\"Global assessment report on biodiversity and ecosystem services of the Intergovernmental Science-Policy Platform on Biodiversity and Ecosystem Services\",\"Planning and delivering Nature-based Solutions in Mediterranean cities : First assessment of the IUCN NbS Global Standard in Mediterranean urban areas\",\"The IPBES assessment report on land degradation and restoration\",\"Ecosystems and Human Well-being: General Synthesis\",\"Women, Business and the Law 2022\"],\"type\":\"bar\"},{\"hoverinfo\":\"text\",\"hovertext\":[\"<b>Topic 7</b><br>Words: fishing, gear, fisheries, catch, marine\",\"<b>Topic 7</b><br>Words: fish, fisheries, fishing, aquaculture, trophic\",\"<b>Topic 7</b><br>Words: fisheries, fish, fishing, aquaculture, catch\",\"<b>Topic 7</b><br>Words: fish, stocks, fisheries, fishing, weight\",\"<b>Topic 7</b><br>Words: fisheries, fish, fishing, aquaculture, stocks\",\"<b>Topic 7</b><br>Words: fisheries, trawling, industrial, indian, fishery\",\"<b>Topic 7</b><br>Words: aquaponics, fish, camera, soilless, zagrebs\",\"<b>Topic 7</b><br>Words: dlc, fisheries, fish, dlib, 10535\",\"<b>Topic 7</b><br>Words: fisheries, fish, fishing, fishery, aquaculture\"],\"marker\":{\"color\":\"#E69F00\"},\"name\":\"7_fisheries_fish_fishing_aquaculture\",\"orientation\":\"h\",\"visible\":\"legendonly\",\"x\":[5,12,27,13,89,3,2,6,24],\"y\":[\"Blue Skies, Blue Seas : Air Pollution, Marine Plastics, and Coastal Erosion in the Middle East and North Africa\",\"Ecosystems and Human Well-being: Biodiversity Synthesis\",\"Acting on ocean risk : Documenting economic, social and environmental impacts on coastal communities\",\"Living Beyond Our Means: Natural Assets and Human Well-being\",\"Global assessment report on biodiversity and ecosystem services of the Intergovernmental Science-Policy Platform on Biodiversity and Ecosystem Services\",\"The conservation status of marine biodiversity of the Western Indian Ocean\",\"Planning and delivering Nature-based Solutions in Mediterranean cities : First assessment of the IUCN NbS Global Standard in Mediterranean urban areas\",\"The IPBES assessment report on land degradation and restoration\",\"Ecosystems and Human Well-being: General Synthesis\"],\"type\":\"bar\"},{\"hoverinfo\":\"text\",\"hovertext\":[\"<b>Topic 8</b><br>Words: water, withdrawals, desalination, management, desalinated\",\"<b>Topic 8</b><br>Words: water, withdrawals, freshwater, groundwater, fresh\",\"<b>Topic 8</b><br>Words: berktay, chem, environ, eng, desalination\",\"<b>Topic 8</b><br>Words: water, un, vulnerability, briefs, waters\",\"<b>Topic 8</b><br>Words: 378, transpiration, page, drought, rainfall\",\"<b>Topic 8</b><br>Words: water, rivers, supplies, fresh, dams\",\"<b>Topic 8</b><br>Words: water, freshwater, groundwater, rivers, flow\",\"<b>Topic 8</b><br>Words: water, rainwater, lake, ornamental, separated\",\"<b>Topic 8</b><br>Words: water, groundwater, freshwater, supplies, irrigation\",\"<b>Topic 8</b><br>Words: water, fresh, freshwater, withdrawals, runoff\"],\"marker\":{\"color\":\"#56B4E9\"},\"name\":\"8_water_freshwater_groundwater_withdrawa...\",\"orientation\":\"h\",\"visible\":\"legendonly\",\"x\":[10,9,1,8,1,10,33,5,41,23],\"y\":[\"Blue Skies, Blue Seas : Air Pollution, Marine Plastics, and Coastal Erosion in the Middle East and North Africa\",\"Ecosystems and Human Well-being: Biodiversity Synthesis\",\"Acting on ocean risk : Documenting economic, social and environmental impacts on coastal communities\",\"Progress on household drinking water, sanitation and hygiene, 2000-2020\",\"Global Assessment Reports: Volume 1: Current State & Trends; Chapter 13. Air Quality and Climate\",\"Living Beyond Our Means: Natural Assets and Human Well-being\",\"Global assessment report on biodiversity and ecosystem services of the Intergovernmental Science-Policy Platform on Biodiversity and Ecosystem Services\",\"Planning and delivering Nature-based Solutions in Mediterranean cities : First assessment of the IUCN NbS Global Standard in Mediterranean urban areas\",\"The IPBES assessment report on land degradation and restoration\",\"Ecosystems and Human Well-being: General Synthesis\"],\"type\":\"bar\"},{\"hoverinfo\":\"text\",\"hovertext\":[\"<b>Topic 9</b><br>Words: erosion, coastal, beach, sand, sediment\",\"<b>Topic 9</b><br>Words: cvandyke, shutterstock, fencing, carolina, outer\",\"<b>Topic 9</b><br>Words: remediation, part, determining, transport, bagnolicoroglio\"],\"marker\":{\"color\":\"#009E73\"},\"name\":\"9_erosion_coastal_beach_sand\",\"orientation\":\"h\",\"visible\":\"legendonly\",\"x\":[135,1,1],\"y\":[\"Blue Skies, Blue Seas : Air Pollution, Marine Plastics, and Coastal Erosion in the Middle East and North Africa\",\"Using ecosystem risk assessment science in ecosystem restoration : a guide to applying the Red List of Ecosystems to ecosystem restoration\",\"Planning and delivering Nature-based Solutions in Mediterranean cities : First assessment of the IUCN NbS Global Standard in Mediterranean urban areas\"],\"type\":\"bar\"},{\"hoverinfo\":\"text\",\"hovertext\":[\"<b>Topic 10</b><br>Words: s41893, 722724, 0191, lemos, produce\",\"<b>Topic 10</b><br>Words: ncp, life, quality, good, realized\",\"<b>Topic 10</b><br>Words: ncp, life, padel, conceive, numerically\"],\"marker\":{\"color\":\"#F0E442\"},\"name\":\"10_ncp_life_quality_good\",\"orientation\":\"h\",\"visible\":\"legendonly\",\"x\":[1,132,3],\"y\":[\"Climate Change 2021 The Physical Science Basis\",\"Global assessment report on biodiversity and ecosystem services of the Intergovernmental Science-Policy Platform on Biodiversity and Ecosystem Services\",\"The IPBES assessment report on land degradation and restoration\"],\"type\":\"bar\"},{\"hoverinfo\":\"text\",\"hovertext\":[\"<b>Topic 11</b><br>Words: plastic, microplastics, marine, plastics, debris\",\"<b>Topic 11</b><br>Words: plastic, microplastics, marine, debris, mps\",\"<b>Topic 11</b><br>Words: plastic, debris, marine, oceans, pollution\"],\"marker\":{\"color\":\"#D55E00\"},\"name\":\"11_plastic_microplastics_marine_debris\",\"orientation\":\"h\",\"visible\":\"legendonly\",\"x\":[114,7,9],\"y\":[\"Blue Skies, Blue Seas : Air Pollution, Marine Plastics, and Coastal Erosion in the Middle East and North Africa\",\"Acting on ocean risk : Documenting economic, social and environmental impacts on coastal communities\",\"Global assessment report on biodiversity and ecosystem services of the Intergovernmental Science-Policy Platform on Biodiversity and Ecosystem Services\"],\"type\":\"bar\"},{\"hoverinfo\":\"text\",\"hovertext\":[\"<b>Topic 12</b><br>Words: simenel, adults, taxa, give, attention\",\"<b>Topic 12</b><br>Words: childcare, parents, private, provision, children\"],\"marker\":{\"color\":\"#0072B2\"},\"name\":\"12_childcare_parents_private_provision\",\"orientation\":\"h\",\"visible\":\"legendonly\",\"x\":[1,121],\"y\":[\"Global assessment report on biodiversity and ecosystem services of the Intergovernmental Science-Policy Platform on Biodiversity and Ecosystem Services\",\"Women, Business and the Law 2022\"],\"type\":\"bar\"},{\"hoverinfo\":\"text\",\"hovertext\":[\"<b>Topic 13</b><br>Words: fire, pasture, minutiflora, earthworm, negativeincreases\",\"<b>Topic 13</b><br>Words: fire, doi, chuwah, atmosenv, chuvieco\",\"<b>Topic 13</b><br>Words: fires, fire, burning, biomass, vegetation\",\"<b>Topic 13</b><br>Words: wildfires, fire, fires, intense, baikal\",\"<b>Topic 13</b><br>Words: fire, fires, colonization, wildfires, vegetation\",\"<b>Topic 13</b><br>Words: fire, fires, regimes, burned, suppression\"],\"marker\":{\"color\":\"#CC79A7\"},\"name\":\"13_fire_fires_regimes_wildfires\",\"orientation\":\"h\",\"visible\":\"legendonly\",\"x\":[1,2,21,9,11,70],\"y\":[\"Ecosystems and Human Well-being: Biodiversity Synthesis\",\"Climate Change 2021 The Physical Science Basis\",\"Global Assessment Reports: Volume 1: Current State & Trends; Chapter 13. Air Quality and Climate\",\"World Heritage forests : Carbon sinks under pressure\",\"Global assessment report on biodiversity and ecosystem services of the Intergovernmental Science-Policy Platform on Biodiversity and Ecosystem Services\",\"The IPBES assessment report on land degradation and restoration\"],\"type\":\"bar\"},{\"hoverinfo\":\"text\",\"hovertext\":[\"<b>Topic 14</b><br>Words: ice, antarctic, mass, arctic, sea\",\"<b>Topic 14</b><br>Words: msqkm, ice, cryosphere, arctic, gleick\",\"<b>Topic 14</b><br>Words: pressure, estimates, free, ice, degraded\"],\"marker\":{\"color\":\"#E69F00\"},\"name\":\"14_ice_antarctic_mass_arctic\",\"orientation\":\"h\",\"visible\":\"legendonly\",\"x\":[108,2,1],\"y\":[\"Climate Change 2021 The Physical Science Basis\",\"Global assessment report on biodiversity and ecosystem services of the Intergovernmental Science-Policy Platform on Biodiversity and Ecosystem Services\",\"The IPBES assessment report on land degradation and restoration\"],\"type\":\"bar\"},{\"hoverinfo\":\"text\",\"hovertext\":[\"<b>Topic 15</b><br>Words: gbv, violence, gender, women, sexual\",\"<b>Topic 15</b><br>Words: minds, defences, men, wars, peace\",\"<b>Topic 15</b><br>Words: gbv, violence, sexual, intimate, women\"],\"marker\":{\"color\":\"#56B4E9\"},\"name\":\"15_gbv_violence_gender_women\",\"orientation\":\"h\",\"visible\":\"legendonly\",\"x\":[95,1,3],\"y\":[\"Gender-based violence and environment linkages : summary for policy makers\",\"World Heritage forests : Carbon sinks under pressure\",\"Gender and national climate planning\"],\"type\":\"bar\"},{\"hoverinfo\":\"text\",\"hovertext\":[\"<b>Topic 16</b><br>Words: mics, 99, 98, 91, 2018\"],\"marker\":{\"color\":\"#009E73\"},\"name\":\"16_mics_99_98_91\",\"orientation\":\"h\",\"visible\":\"legendonly\",\"x\":[93],\"y\":[\"Progress on household drinking water, sanitation and hygiene, 2000-2020\"],\"type\":\"bar\"},{\"hoverinfo\":\"text\",\"hovertext\":[\"<b>Topic 17</b><br>Words: unep, sand, geneva, finding, sustainability\",\"<b>Topic 17</b><br>Words: establish, agreements, responses, agreement, financial\",\"<b>Topic 17</b><br>Words: ambitions, believe, negotiations, treaties, urgency\",\"<b>Topic 17</b><br>Words: institutions, governance, collective, commons, common\",\"<b>Topic 17</b><br>Words: government, governance, unbending, agile, powers\",\"<b>Topic 17</b><br>Words: international, common, solidarity, collective, institutions\",\"<b>Topic 17</b><br>Words: agreements, institutions, coordination, international, multilateral\",\"<b>Topic 17</b><br>Words: desired, lacking, norms, alone, systematic\"],\"marker\":{\"color\":\"#F0E442\"},\"name\":\"17_institutions_governance_collective_in...\",\"orientation\":\"h\",\"visible\":\"legendonly\",\"x\":[1,2,2,45,4,32,6,1],\"y\":[\"Blue Skies, Blue Seas : Air Pollution, Marine Plastics, and Coastal Erosion in the Middle East and North Africa\",\"Ecosystems and Human Well-being: Biodiversity Synthesis\",\"Living Beyond Our Means: Natural Assets and Human Well-being\",\"Global assessment report on biodiversity and ecosystem services of the Intergovernmental Science-Policy Platform on Biodiversity and Ecosystem Services\",\"Planning and delivering Nature-based Solutions in Mediterranean cities : First assessment of the IUCN NbS Global Standard in Mediterranean urban areas\",\"The IPBES assessment report on land degradation and restoration\",\"Ecosystems and Human Well-being: General Synthesis\",\"Women, Business and the Law 2022\"],\"type\":\"bar\"},{\"hoverinfo\":\"text\",\"hovertext\":[\"<b>Topic 18</b><br>Words: target, genetic, resources, parties, transferred\",\"<b>Topic 18</b><br>Words: aichi, target, targets, iplcs, progress\",\"<b>Topic 18</b><br>Words: target, aichi, choice, case, achievement\"],\"marker\":{\"color\":\"#D55E00\"},\"name\":\"18_aichi_target_targets_iplcs\",\"orientation\":\"h\",\"visible\":\"legendonly\",\"x\":[12,77,3],\"y\":[\"Ecosystems and Human Well-being: Biodiversity Synthesis\",\"Global assessment report on biodiversity and ecosystem services of the Intergovernmental Science-Policy Platform on Biodiversity and Ecosystem Services\",\"The IPBES assessment report on land degradation and restoration\"],\"type\":\"bar\"},{\"hoverinfo\":\"text\",\"hovertext\":[\"<b>Topic 19</b><br>Words: deltares, 10986, 2168, giardino, openknowledge\",\"<b>Topic 19</b><br>Words: swedish, funding, publication, ministry, possible\",\"<b>Topic 19</b><br>Words: ilo, ed_norm, relconf, thegef, en_gef\",\"<b>Topic 19</b><br>Words: cp, wiley, 1002, agupubs, downlo\",\"<b>Topic 19</b><br>Words: retrieved, http, pdf, org, environmentalevidence\",\"<b>Topic 19</b><br>Words: final_lr, 100resilientcities, 170515, amman_english, 100rc\",\"<b>Topic 19</b><br>Words: retrieved, http, org, com, pdf\"],\"marker\":{\"color\":\"#0072B2\"},\"name\":\"19_http_retrieved_org_pdf\",\"orientation\":\"h\",\"visible\":\"legendonly\",\"x\":[3,1,2,8,10,1,59],\"y\":[\"Blue Skies, Blue Seas : Air Pollution, Marine Plastics, and Coastal Erosion in the Middle East and North Africa\",\"Acting on ocean risk : Documenting economic, social and environmental impacts on coastal communities\",\"Gender-based violence and environment linkages : summary for policy makers\",\"Climate Change 2021 The Physical Science Basis\",\"Global assessment report on biodiversity and ecosystem services of the Intergovernmental Science-Policy Platform on Biodiversity and Ecosystem Services\",\"Planning and delivering Nature-based Solutions in Mediterranean cities : First assessment of the IUCN NbS Global Standard in Mediterranean urban areas\",\"The IPBES assessment report on land degradation and restoration\"],\"type\":\"bar\"},{\"hoverinfo\":\"text\",\"hovertext\":[\"<b>Topic 20</b><br>Words: applying, guide, restoration, ecosystem, list\"],\"marker\":{\"color\":\"#CC79A7\"},\"name\":\"20_applying_guide_restoration_ecosystem\",\"orientation\":\"h\",\"visible\":\"legendonly\",\"x\":[83],\"y\":[\"Using ecosystem risk assessment science in ecosystem restoration : a guide to applying the Red List of Ecosystems to ecosystem restoration\"],\"type\":\"bar\"},{\"hoverinfo\":\"text\",\"hovertext\":[\"<b>Topic 21</b><br>Words: bo, t1356, idb, cambridge, 2007\",\"<b>Topic 21</b><br>Words: dyszynski, watkiss, excell, butterfield, droogers\",\"<b>Topic 21</b><br>Words: srhr, my, arrow, scoping, connection\",\"<b>Topic 21</b><br>Words: cambridge, ipcc, pp, intergovernmental, climate\",\"<b>Topic 21</b><br>Words: cambridge, pp, ipcc, press, 2001\",\"<b>Topic 21</b><br>Words: osipova, whc, 20202030, wettropics, schmidt\",\"<b>Topic 21</b><br>Words: intergovernmental, ipcc, panel, cambridge, science\",\"<b>Topic 21</b><br>Words: garcia, blanco, pilar, karmele, igone\",\"<b>Topic 21</b><br>Words: cambridge, intergovernmental, group, climate, panel\"],\"marker\":{\"color\":\"#E69F00\"},\"name\":\"21_cambridge_ipcc_intergovernmental_pp\",\"orientation\":\"h\",\"visible\":\"legendonly\",\"x\":[2,2,1,55,6,1,5,1,10],\"y\":[\"Blue Skies, Blue Seas : Air Pollution, Marine Plastics, and Coastal Erosion in the Middle East and North Africa\",\"Acting on ocean risk : Documenting economic, social and environmental impacts on coastal communities\",\"Gender-based violence and environment linkages : summary for policy makers\",\"Climate Change 2021 The Physical Science Basis\",\"Global Assessment Reports: Volume 1: Current State & Trends; Chapter 13. Air Quality and Climate\",\"World Heritage forests : Carbon sinks under pressure\",\"Global assessment report on biodiversity and ecosystem services of the Intergovernmental Science-Policy Platform on Biodiversity and Ecosystem Services\",\"Planning and delivering Nature-based Solutions in Mediterranean cities : First assessment of the IUCN NbS Global Standard in Mediterranean urban areas\",\"The IPBES assessment report on land degradation and restoration\"],\"type\":\"bar\"},{\"hoverinfo\":\"text\",\"hovertext\":[\"<b>Topic 22</b><br>Words: livestock, cattle, exotic, growth, goalexplosive\",\"<b>Topic 22</b><br>Words: rangelands, livestock, grasslike, grazed, forbs\",\"<b>Topic 22</b><br>Words: leaf, intercept, evergreen, denser, bred\",\"<b>Topic 22</b><br>Words: livestock, grazing, intensification, lands, production\",\"<b>Topic 22</b><br>Words: grazing, livestock, animal, lands, intensification\",\"<b>Topic 22</b><br>Words: livestock, cropland, c8, pasture, grazing\"],\"marker\":{\"color\":\"#56B4E9\"},\"name\":\"22_grazing_livestock_intensification_lan...\",\"orientation\":\"h\",\"visible\":\"legendonly\",\"x\":[4,1,1,13,59,4],\"y\":[\"Ecosystems and Human Well-being: Biodiversity Synthesis\",\"Using ecosystem risk assessment science in ecosystem restoration : a guide to applying the Red List of Ecosystems to ecosystem restoration\",\"Global Assessment Reports: Volume 1: Current State & Trends; Chapter 13. Air Quality and Climate\",\"Global assessment report on biodiversity and ecosystem services of the Intergovernmental Science-Policy Platform on Biodiversity and Ecosystem Services\",\"The IPBES assessment report on land degradation and restoration\",\"Ecosystems and Human Well-being: General Synthesis\"],\"type\":\"bar\"},{\"hoverinfo\":\"text\",\"hovertext\":[\"<b>Topic 23</b><br>Words: menstrual, menstruation, materials, girls, women\",\"<b>Topic 23</b><br>Words: installs, wow, mom, caregivers, baby\"],\"marker\":{\"color\":\"#009E73\"},\"name\":\"23_menstrual_menstruation_materials_girl...\",\"orientation\":\"h\",\"visible\":\"legendonly\",\"x\":[75,1],\"y\":[\"Progress on household drinking water, sanitation and hygiene, 2000-2020\",\"State of the World's Hand Hygiene\"],\"type\":\"bar\"},{\"hoverinfo\":\"text\",\"hovertext\":[\"<b>Topic 24</b><br>Words: done, 53, what, can, be\",\"<b>Topic 24</b><br>Words: xiii, vii, acronyms, abbreviations, executive\",\"<b>Topic 24</b><br>Words: references, ts, introduction, box, executive\",\"<b>Topic 24</b><br>Words: ix, findings, vii, acronyms, contents\",\"<b>Topic 24</b><br>Words: references, 18, 441, cluster, 136\",\"<b>Topic 24</b><br>Words: acknowledgements, references, vii, acronyms, executive\",\"<b>Topic 24</b><br>Words: references, 232, success, 300, 299\"],\"marker\":{\"color\":\"#F0E442\"},\"name\":\"24_references_232_introduction_ts\",\"orientation\":\"h\",\"visible\":\"legendonly\",\"x\":[1,3,30,1,20,6,15],\"y\":[\"Acting on ocean risk : Documenting economic, social and environmental impacts on coastal communities\",\"Using ecosystem risk assessment science in ecosystem restoration : a guide to applying the Red List of Ecosystems to ecosystem restoration\",\"Climate Change 2021 The Physical Science Basis\",\"Gender and national climate planning\",\"Global assessment report on biodiversity and ecosystem services of the Intergovernmental Science-Policy Platform on Biodiversity and Ecosystem Services\",\"The conservation status of marine biodiversity of the Western Indian Ocean\",\"The IPBES assessment report on land degradation and restoration\"],\"type\":\"bar\"},{\"hoverinfo\":\"text\",\"hovertext\":[\"<b>Topic 25</b><br>Words: wood, c9, fuel, energy, silk\",\"<b>Topic 25</b><br>Words: charcoal, illegal, favours, male, necessity\",\"<b>Topic 25</b><br>Words: hemp, declining, silk, fibers, others\",\"<b>Topic 25</b><br>Words: fuelwood, biomass, energy, wood, timber\",\"<b>Topic 25</b><br>Words: fuelwood, charcoal, wood, biomass, energy\",\"<b>Topic 25</b><br>Words: fuelwood, wood, timber, silk, cotton\"],\"marker\":{\"color\":\"#D55E00\"},\"name\":\"25_fuelwood_wood_biomass_energy\",\"orientation\":\"h\",\"visible\":\"legendonly\",\"x\":[4,1,1,21,37,12],\"y\":[\"Ecosystems and Human Well-being: Biodiversity Synthesis\",\"Gender-based violence and environment linkages : summary for policy makers\",\"Living Beyond Our Means: Natural Assets and Human Well-being\",\"Global assessment report on biodiversity and ecosystem services of the Intergovernmental Science-Policy Platform on Biodiversity and Ecosystem Services\",\"The IPBES assessment report on land degradation and restoration\",\"Ecosystems and Human Well-being: General Synthesis\"],\"type\":\"bar\"},{\"hoverinfo\":\"text\",\"hovertext\":[\"<b>Topic 26</b><br>Words: tax, fuel, subsidies, prices, taxes\",\"<b>Topic 26</b><br>Words: taxes, subsidies, regressive, tax, expenditures\"],\"marker\":{\"color\":\"#0072B2\"},\"name\":\"26_tax_fuel_subsidies_taxes\",\"orientation\":\"h\",\"visible\":\"legendonly\",\"x\":[65,9],\"y\":[\"Blue Skies, Blue Seas : Air Pollution, Marine Plastics, and Coastal Erosion in the Middle East and North Africa\",\"Global assessment report on biodiversity and ecosystem services of the Intergovernmental Science-Policy Platform on Biodiversity and Ecosystem Services\"],\"type\":\"bar\"},{\"hoverinfo\":\"text\",\"hovertext\":[\"<b>Topic 27</b><br>Words: deposits, percent, reserves, coal, remain\",\"<b>Topic 27</b><br>Words: emissions, co2, zero, net, cumulative\",\"<b>Topic 27</b><br>Words: popause, 359, radiative, explanations, absorbing\"],\"marker\":{\"color\":\"#CC79A7\"},\"name\":\"27_emissions_co2_zero_net\",\"orientation\":\"h\",\"visible\":\"legendonly\",\"x\":[1,71,1],\"y\":[\"Blue Skies, Blue Seas : Air Pollution, Marine Plastics, and Coastal Erosion in the Middle East and North Africa\",\"Climate Change 2021 The Physical Science Basis\",\"Global Assessment Reports: Volume 1: Current State & Trends; Chapter 13. Air Quality and Climate\"],\"type\":\"bar\"},{\"hoverinfo\":\"text\",\"hovertext\":[\"<b>Topic 28</b><br>Words: ts, climate, box, variability, halogenated\"],\"marker\":{\"color\":\"#E69F00\"},\"name\":\"28_ts_climate_box_variability\",\"orientation\":\"h\",\"visible\":\"legendonly\",\"x\":[66],\"y\":[\"Climate Change 2021 The Physical Science Basis\"],\"type\":\"bar\"},{\"hoverinfo\":\"text\",\"hovertext\":[\"<b>Topic 29</b><br>Words: conservation, biodiversity, incentives, payments, benefits\",\"<b>Topic 29</b><br>Words: conservation, incentives, businesses, ecotourism, cleaner\",\"<b>Topic 29</b><br>Words: incentives, pes, conservation, private, actors\",\"<b>Topic 29</b><br>Words: attainable, divert, lagoons, biodiversity, valuing\",\"<b>Topic 29</b><br>Words: incentives, payment, economic, perverse, successful\",\"<b>Topic 29</b><br>Words: markets, conservation, services, market, mechanisms\"],\"marker\":{\"color\":\"#56B4E9\"},\"name\":\"29_incentives_conservation_biodiversity_...\",\"orientation\":\"h\",\"visible\":\"legendonly\",\"x\":[20,9,23,2,3,9],\"y\":[\"Ecosystems and Human Well-being: Biodiversity Synthesis\",\"Living Beyond Our Means: Natural Assets and Human Well-being\",\"Global assessment report on biodiversity and ecosystem services of the Intergovernmental Science-Policy Platform on Biodiversity and Ecosystem Services\",\"The conservation status of marine biodiversity of the Western Indian Ocean\",\"The IPBES assessment report on land degradation and restoration\",\"Ecosystems and Human Well-being: General Synthesis\"],\"type\":\"bar\"},{\"hoverinfo\":\"text\",\"hovertext\":[\"<b>Topic 30</b><br>Words: being, well, ma, human, ecosystems\",\"<b>Topic 30</b><br>Words: 384, halides, pounds, aldehydes, 245\",\"<b>Topic 30</b><br>Words: millennium, institute, united, being, well\",\"<b>Topic 30</b><br>Words: ma, being, millennium, well, board\",\"<b>Topic 30</b><br>Words: being, judicious, attractiveness, well, services\",\"<b>Topic 30</b><br>Words: yokohama, institute, safriel, niemeijer, adeel\",\"<b>Topic 30</b><br>Words: being, well, human, ecosystem, ma\"],\"marker\":{\"color\":\"#009E73\"},\"name\":\"30_being_well_human_ma\",\"orientation\":\"h\",\"visible\":\"legendonly\",\"x\":[25,2,5,4,1,2,26],\"y\":[\"Ecosystems and Human Well-being: Biodiversity Synthesis\",\"Global Assessment Reports: Volume 1: Current State & Trends; Chapter 13. Air Quality and Climate\",\"Living Beyond Our Means: Natural Assets and Human Well-being\",\"Global assessment report on biodiversity and ecosystem services of the Intergovernmental Science-Policy Platform on Biodiversity and Ecosystem Services\",\"Planning and delivering Nature-based Solutions in Mediterranean cities : First assessment of the IUCN NbS Global Standard in Mediterranean urban areas\",\"The IPBES assessment report on land degradation and restoration\",\"Ecosystems and Human Well-being: General Synthesis\"],\"type\":\"bar\"},{\"hoverinfo\":\"text\",\"hovertext\":[\"<b>Topic 31</b><br>Words: precipitation, projected, america, over, increase\",\"<b>Topic 31</b><br>Words: precipitation, geomorph, geomorphology, janowiak, luino\"],\"marker\":{\"color\":\"#F0E442\"},\"name\":\"31_precipitation_projected_america_over\",\"orientation\":\"h\",\"visible\":\"legendonly\",\"x\":[59,6],\"y\":[\"Climate Change 2021 The Physical Science Basis\",\"The IPBES assessment report on land degradation and restoration\"],\"type\":\"bar\"},{\"hoverinfo\":\"text\",\"hovertext\":[\"<b>Topic 32</b><br>Words: infectious, diseases, wildlife, disease, pathogens\",\"<b>Topic 32</b><br>Words: interference, suffering, sudden, emergence, pests\",\"<b>Topic 32</b><br>Words: diseases, disease, vector, infectious, borne\",\"<b>Topic 32</b><br>Words: disease, diseases, pathogens, infectious, vector\",\"<b>Topic 32</b><br>Words: disease, diseases, infectious, vector, pathogens\"],\"marker\":{\"color\":\"#D55E00\"},\"name\":\"32_disease_diseases_infectious_pathogens\",\"orientation\":\"h\",\"visible\":\"legendonly\",\"x\":[3,1,18,30,13],\"y\":[\"Ecosystems and Human Well-being: Biodiversity Synthesis\",\"Living Beyond Our Means: Natural Assets and Human Well-being\",\"Global assessment report on biodiversity and ecosystem services of the Intergovernmental Science-Policy Platform on Biodiversity and Ecosystem Services\",\"The IPBES assessment report on land degradation and restoration\",\"Ecosystems and Human Well-being: General Synthesis\"],\"type\":\"bar\"},{\"hoverinfo\":\"text\",\"hovertext\":[\"<b>Topic 33</b><br>Words: invasive, species, alien, native, invasion\",\"<b>Topic 33</b><br>Words: biodiversityfor, mesquite, texas, invasions, encroachment\",\"<b>Topic 33</b><br>Words: baltic, lakes, native, creatures, third\",\"<b>Topic 33</b><br>Words: alien, invasive, species, ias, native\",\"<b>Topic 33</b><br>Words: missing, seem, endemic, encouraging, occurrence\",\"<b>Topic 33</b><br>Words: invasive, invasion, species, alien, native\",\"<b>Topic 33</b><br>Words: ruiz, biological, siguan, ribera, carlton\"],\"marker\":{\"color\":\"#0072B2\"},\"name\":\"33_invasive_alien_invasion_species\",\"orientation\":\"h\",\"visible\":\"legendonly\",\"x\":[6,1,1,24,1,26,2],\"y\":[\"Ecosystems and Human Well-being: Biodiversity Synthesis\",\"Global Assessment Reports: Volume 1: Current State & Trends; Chapter 13. Air Quality and Climate\",\"Living Beyond Our Means: Natural Assets and Human Well-being\",\"Global assessment report on biodiversity and ecosystem services of the Intergovernmental Science-Policy Platform on Biodiversity and Ecosystem Services\",\"Planning and delivering Nature-based Solutions in Mediterranean cities : First assessment of the IUCN NbS Global Standard in Mediterranean urban areas\",\"The IPBES assessment report on land degradation and restoration\",\"Ecosystems and Human Well-being: General Synthesis\"],\"type\":\"bar\"},{\"hoverinfo\":\"text\",\"hovertext\":[\"<b>Topic 34</b><br>Words: rise, sea, mediterranean, 19932020, noncontinuous\",\"<b>Topic 34</b><br>Words: rise, gmsl, sea, level, mean\",\"<b>Topic 34</b><br>Words: rise, imo, sea, publication, slr\",\"<b>Topic 34</b><br>Words: glottolog, levelcurrently, 2050the, hammarstrom, forkel\"],\"marker\":{\"color\":\"#CC79A7\"},\"name\":\"34_rise_gmsl_sea_level\",\"orientation\":\"h\",\"visible\":\"legendonly\",\"x\":[3,54,2,1],\"y\":[\"Blue Skies, Blue Seas : Air Pollution, Marine Plastics, and Coastal Erosion in the Middle East and North Africa\",\"Climate Change 2021 The Physical Science Basis\",\"Global assessment report on biodiversity and ecosystem services of the Intergovernmental Science-Policy Platform on Biodiversity and Ecosystem Services\",\"The IPBES assessment report on land degradation and restoration\"],\"type\":\"bar\"},{\"hoverinfo\":\"text\",\"hovertext\":[\"<b>Topic 35</b><br>Words: karger, muller, fmars, 00211, 3389\",\"<b>Topic 35</b><br>Words: hotspots, diatoms, endemism, species, oceans\",\"<b>Topic 35</b><br>Words: indian, wio, western, marine, species\",\"<b>Topic 35</b><br>Words: date, record, records, native, invertebrate\"],\"marker\":{\"color\":\"#E69F00\"},\"name\":\"35_indian_wio_marine_species\",\"orientation\":\"h\",\"visible\":\"legendonly\",\"x\":[1,11,44,1],\"y\":[\"Climate Change 2021 The Physical Science Basis\",\"Global assessment report on biodiversity and ecosystem services of the Intergovernmental Science-Policy Platform on Biodiversity and Ecosystem Services\",\"The conservation status of marine biodiversity of the Western Indian Ocean\",\"Ecosystems and Human Well-being: General Synthesis\"],\"type\":\"bar\"},{\"hoverinfo\":\"text\",\"hovertext\":[\"<b>Topic 36</b><br>Words: organizado, crimen, globalinitiative, mined, gold\",\"<b>Topic 36</b><br>Words: mining, gold, mercury, minerals, mineral\",\"<b>Topic 36</b><br>Words: mining, mercury, gold, extractive, mine\"],\"marker\":{\"color\":\"#56B4E9\"},\"name\":\"36_mining_mercury_gold_minerals\",\"orientation\":\"h\",\"visible\":\"legendonly\",\"x\":[1,9,47],\"y\":[\"Gender-based violence and environment linkages : summary for policy makers\",\"Global assessment report on biodiversity and ecosystem services of the Intergovernmental Science-Policy Platform on Biodiversity and Ecosystem Services\",\"The IPBES assessment report on land degradation and restoration\"],\"type\":\"bar\"},{\"hoverinfo\":\"text\",\"hovertext\":[\"<b>Topic 37</b><br>Words: tap, decisionmaking, involvement, protecting, ways\",\"<b>Topic 37</b><br>Words: indigenous, equity, inclusiveness, commits, intergenerational\",\"<b>Topic 37</b><br>Words: indigenous, knowledge, local, peoples, communities\",\"<b>Topic 37</b><br>Words: indigenous, knowledge, local, peoples, communities\",\"<b>Topic 37</b><br>Words: knowledge, indigenous, local, contextualize, compensating\"],\"marker\":{\"color\":\"#009E73\"},\"name\":\"37_indigenous_knowledge_local_peoples\",\"orientation\":\"h\",\"visible\":\"legendonly\",\"x\":[1,1,30,23,2],\"y\":[\"Living Beyond Our Means: Natural Assets and Human Well-being\",\"Gender and national climate planning\",\"Global assessment report on biodiversity and ecosystem services of the Intergovernmental Science-Policy Platform on Biodiversity and Ecosystem Services\",\"The IPBES assessment report on land degradation and restoration\",\"Ecosystems and Human Well-being: General Synthesis\"],\"type\":\"bar\"},{\"hoverinfo\":\"text\",\"hovertext\":[\"<b>Topic 38</b><br>Words: erf, aerosol, hfc, ppt, 2011\"],\"marker\":{\"color\":\"#F0E442\"},\"name\":\"38_erf_aerosol_hfc_ppt\",\"orientation\":\"h\",\"visible\":\"legendonly\",\"x\":[57],\"y\":[\"Climate Change 2021 The Physical Science Basis\"],\"type\":\"bar\"},{\"hoverinfo\":\"text\",\"hovertext\":[\"<b>Topic 39</b><br>Words: ppb, ppm, co2, n2o, ch4\",\"<b>Topic 39</b><br>Words: ppb, preindustrial, ppm, 1990s, yr\"],\"marker\":{\"color\":\"#D55E00\"},\"name\":\"39_ppb_ppm_co2_n2o\",\"orientation\":\"h\",\"visible\":\"legendonly\",\"x\":[52,5],\"y\":[\"Climate Change 2021 The Physical Science Basis\",\"Global Assessment Reports: Volume 1: Current State & Trends; Chapter 13. Air Quality and Climate\"],\"type\":\"bar\"},{\"hoverinfo\":\"text\",\"hovertext\":[\"<b>Topic 40</b><br>Words: cmip6, models, cmip5, resolution, mean\"],\"marker\":{\"color\":\"#0072B2\"},\"name\":\"40_cmip6_models_cmip5_resolution\",\"orientation\":\"h\",\"visible\":\"legendonly\",\"x\":[55],\"y\":[\"Climate Change 2021 The Physical Science Basis\"],\"type\":\"bar\"},{\"hoverinfo\":\"text\",\"hovertext\":[\"<b>Topic 41</b><br>Words: damage, environment, feelings, healthy, spiritual\",\"<b>Topic 41</b><br>Words: nature, identity, cultural, spiritual, mental\",\"<b>Topic 41</b><br>Words: enjoyment, references, explicit, point, heritage\",\"<b>Topic 41</b><br>Words: sense, landscapes, mental, nature, place\",\"<b>Topic 41</b><br>Words: spiritual, aesthetic, tourism, values, religious\"],\"marker\":{\"color\":\"#CC79A7\"},\"name\":\"41_nature_spiritual_sense_mental\",\"orientation\":\"h\",\"visible\":\"legendonly\",\"x\":[3,28,1,17,5],\"y\":[\"Ecosystems and Human Well-being: Biodiversity Synthesis\",\"Global assessment report on biodiversity and ecosystem services of the Intergovernmental Science-Policy Platform on Biodiversity and Ecosystem Services\",\"Planning and delivering Nature-based Solutions in Mediterranean cities : First assessment of the IUCN NbS Global Standard in Mediterranean urban areas\",\"The IPBES assessment report on land degradation and restoration\",\"Ecosystems and Human Well-being: General Synthesis\"],\"type\":\"bar\"},{\"hoverinfo\":\"text\",\"hovertext\":[\"<b>Topic 42</b><br>Words: cci, landcover, esas, esa, website\",\"<b>Topic 42</b><br>Words: inferred, taxa, 300, ago, fraction\",\"<b>Topic 42</b><br>Words: synergy, suitability, mitigation, deforestation, low\",\"<b>Topic 42</b><br>Words: predominant, land, fraction, hurtt, cover\",\"<b>Topic 42</b><br>Words: 698700, trenberth, dickinson, cambridge, modeling\",\"<b>Topic 42</b><br>Words: cover, land, bioenergy, cci, afforestation\",\"<b>Topic 42</b><br>Words: explicit, expansion, patterns, four, markedly\",\"<b>Topic 42</b><br>Words: cover, land, built, mod500, 2000\",\"<b>Topic 42</b><br>Words: cover, opinion, expert, 19802000, unspecified\"],\"marker\":{\"color\":\"#E69F00\"},\"name\":\"42_cover_land_built_use\",\"orientation\":\"h\",\"visible\":\"legendonly\",\"x\":[1,1,2,9,1,9,1,25,4],\"y\":[\"Blue Skies, Blue Seas : Air Pollution, Marine Plastics, and Coastal Erosion in the Middle East and North Africa\",\"Ecosystems and Human Well-being: Biodiversity Synthesis\",\"Using ecosystem risk assessment science in ecosystem restoration : a guide to applying the Red List of Ecosystems to ecosystem restoration\",\"Climate Change 2021 The Physical Science Basis\",\"Global Assessment Reports: Volume 1: Current State & Trends; Chapter 13. Air Quality and Climate\",\"Global assessment report on biodiversity and ecosystem services of the Intergovernmental Science-Policy Platform on Biodiversity and Ecosystem Services\",\"Planning and delivering Nature-based Solutions in Mediterranean cities : First assessment of the IUCN NbS Global Standard in Mediterranean urban areas\",\"The IPBES assessment report on land degradation and restoration\",\"Ecosystems and Human Well-being: General Synthesis\"],\"type\":\"bar\"},{\"hoverinfo\":\"text\",\"hovertext\":[\"<b>Topic 43</b><br>Words: protected, areas, protection, lnd, ptld\",\"<b>Topic 43</b><br>Words: protected, areas, pas, conservation, situ\",\"<b>Topic 43</b><br>Words: protected, conservation, recognising, gaining, integrated\",\"<b>Topic 43</b><br>Words: cornered, brief_rri_june, rightsandresources, pas, 2018\",\"<b>Topic 43</b><br>Words: co2e, tonnes, protected, ha, yr\",\"<b>Topic 43</b><br>Words: protected, areas, marine, pas, area\",\"<b>Topic 43</b><br>Words: protected, kbas, marine, areas, mpas\",\"<b>Topic 43</b><br>Words: protected, areas, rica, costa, saura\",\"<b>Topic 43</b><br>Words: pas, protected, strictly, representativeness, areas\"],\"marker\":{\"color\":\"#56B4E9\"},\"name\":\"43_protected_areas_marine_pas\",\"orientation\":\"h\",\"visible\":\"legendonly\",\"x\":[2,7,1,1,1,30,5,3,3],\"y\":[\"Blue Skies, Blue Seas : Air Pollution, Marine Plastics, and Coastal Erosion in the Middle East and North Africa\",\"Ecosystems and Human Well-being: Biodiversity Synthesis\",\"Acting on ocean risk : Documenting economic, social and environmental impacts on coastal communities\",\"Gender-based violence and environment linkages : summary for policy makers\",\"World Heritage forests : Carbon sinks under pressure\",\"Global assessment report on biodiversity and ecosystem services of the Intergovernmental Science-Policy Platform on Biodiversity and Ecosystem Services\",\"The conservation status of marine biodiversity of the Western Indian Ocean\",\"The IPBES assessment report on land degradation and restoration\",\"Ecosystems and Human Well-being: General Synthesis\"],\"type\":\"bar\"},{\"hoverinfo\":\"text\",\"hovertext\":[\"<b>Topic 44</b><br>Words: erosion, soil, c26, tillage, america\",\"<b>Topic 44</b><br>Words: rice, banos, 417430, cheng, paddy\",\"<b>Topic 44</b><br>Words: soil, erosion, tillage, productivity, extent\",\"<b>Topic 44</b><br>Words: puddle, slope, laid, kept, gradients\",\"<b>Topic 44</b><br>Words: soil, erosion, tillage, fallow, bare\",\"<b>Topic 44</b><br>Words: soil, erosion, formation, c26, vegetative\"],\"marker\":{\"color\":\"#009E73\"},\"name\":\"44_soil_erosion_tillage_fallow\",\"orientation\":\"h\",\"visible\":\"legendonly\",\"x\":[1,1,8,1,39,3],\"y\":[\"Ecosystems and Human Well-being: Biodiversity Synthesis\",\"Global Assessment Reports: Volume 1: Current State & Trends; Chapter 13. Air Quality and Climate\",\"Global assessment report on biodiversity and ecosystem services of the Intergovernmental Science-Policy Platform on Biodiversity and Ecosystem Services\",\"Planning and delivering Nature-based Solutions in Mediterranean cities : First assessment of the IUCN NbS Global Standard in Mediterranean urban areas\",\"The IPBES assessment report on land degradation and restoration\",\"Ecosystems and Human Well-being: General Synthesis\"],\"type\":\"bar\"},{\"hoverinfo\":\"text\",\"hovertext\":[\"<b>Topic 45</b><br>Words: megagrams, hectare, per, agroforestry, year\",\"<b>Topic 45</b><br>Words: ____________________________________________________________________, tree, vicinity, wcmc, maximize\",\"<b>Topic 45</b><br>Words: forest, forests, ha, area, cover\",\"<b>Topic 45</b><br>Words: forest, logging, forests, area, tropical\",\"<b>Topic 45</b><br>Words: forest, woodland, glc2000, area, forests\"],\"marker\":{\"color\":\"#F0E442\"},\"name\":\"45_forest_forests_logging_area\",\"orientation\":\"h\",\"visible\":\"legendonly\",\"x\":[1,2,18,30,2],\"y\":[\"Global Assessment Reports: Volume 1: Current State & Trends; Chapter 13. Air Quality and Climate\",\"World Heritage forests : Carbon sinks under pressure\",\"Global assessment report on biodiversity and ecosystem services of the Intergovernmental Science-Policy Platform on Biodiversity and Ecosystem Services\",\"The IPBES assessment report on land degradation and restoration\",\"Ecosystems and Human Well-being: General Synthesis\"],\"type\":\"bar\"},{\"hoverinfo\":\"text\",\"hovertext\":[\"<b>Topic 46</b><br>Words: species, habitat, kelp, loss, homogenization\",\"<b>Topic 46</b><br>Words: outcome, whole, variety, planet, significantly\",\"<b>Topic 46</b><br>Words: assemblages, species, traits, diversity, habitat\",\"<b>Topic 46</b><br>Words: patches, habitat, species, fragmentation, patch\",\"<b>Topic 46</b><br>Words: species, homogenous, native, diversity, extinction\"],\"marker\":{\"color\":\"#D55E00\"},\"name\":\"46_species_habitat_patches_assemblages\",\"orientation\":\"h\",\"visible\":\"legendonly\",\"x\":[10,1,25,13,4],\"y\":[\"Ecosystems and Human Well-being: Biodiversity Synthesis\",\"Living Beyond Our Means: Natural Assets and Human Well-being\",\"Global assessment report on biodiversity and ecosystem services of the Intergovernmental Science-Policy Platform on Biodiversity and Ecosystem Services\",\"The IPBES assessment report on land degradation and restoration\",\"Ecosystems and Human Well-being: General Synthesis\"],\"type\":\"bar\"},{\"hoverinfo\":\"text\",\"hovertext\":[\"<b>Topic 47</b><br>Words: wind, extratropical, poleward, cyclones, tracks\"],\"marker\":{\"color\":\"#0072B2\"},\"name\":\"47_wind_extratropical_poleward_cyclones\",\"orientation\":\"h\",\"visible\":\"legendonly\",\"x\":[53],\"y\":[\"Climate Change 2021 The Physical Science Basis\"],\"type\":\"bar\"},{\"hoverinfo\":\"text\",\"hovertext\":[\"<b>Topic 48</b><br>Words: 2020, 96, 98, 97, 94\"],\"marker\":{\"color\":\"#CC79A7\"},\"name\":\"48_2020_96_98_97\",\"orientation\":\"h\",\"visible\":\"legendonly\",\"x\":[52],\"y\":[\"Progress on household drinking water, sanitation and hygiene, 2000-2020\"],\"type\":\"bar\"},{\"hoverinfo\":\"text\",\"hovertext\":[\"<b>Topic 49</b><br>Words: extinction, extinctions, species, extinct, certainty\",\"<b>Topic 49</b><br>Words: extinction, rate, leap, history, extinctions\",\"<b>Topic 49</b><br>Words: extinction, species, extinctions, threatened, extinct\",\"<b>Topic 49</b><br>Words: extinction, species, extinct, trigger, extinctions\",\"<b>Topic 49</b><br>Words: extinction, extinctions, species, extinct, bound\"],\"marker\":{\"color\":\"#E69F00\"},\"name\":\"49_extinction_species_extinctions_extinc...\",\"orientation\":\"h\",\"visible\":\"legendonly\",\"x\":[10,3,28,5,5],\"y\":[\"Ecosystems and Human Well-being: Biodiversity Synthesis\",\"Living Beyond Our Means: Natural Assets and Human Well-being\",\"Global assessment report on biodiversity and ecosystem services of the Intergovernmental Science-Policy Platform on Biodiversity and Ecosystem Services\",\"The IPBES assessment report on land degradation and restoration\",\"Ecosystems and Human Well-being: General Synthesis\"],\"type\":\"bar\"}],                        {\"template\":{\"data\":{\"barpolar\":[{\"marker\":{\"line\":{\"color\":\"white\",\"width\":0.5},\"pattern\":{\"fillmode\":\"overlay\",\"size\":10,\"solidity\":0.2}},\"type\":\"barpolar\"}],\"bar\":[{\"error_x\":{\"color\":\"rgb(36,36,36)\"},\"error_y\":{\"color\":\"rgb(36,36,36)\"},\"marker\":{\"line\":{\"color\":\"white\",\"width\":0.5},\"pattern\":{\"fillmode\":\"overlay\",\"size\":10,\"solidity\":0.2}},\"type\":\"bar\"}],\"carpet\":[{\"aaxis\":{\"endlinecolor\":\"rgb(36,36,36)\",\"gridcolor\":\"white\",\"linecolor\":\"white\",\"minorgridcolor\":\"white\",\"startlinecolor\":\"rgb(36,36,36)\"},\"baxis\":{\"endlinecolor\":\"rgb(36,36,36)\",\"gridcolor\":\"white\",\"linecolor\":\"white\",\"minorgridcolor\":\"white\",\"startlinecolor\":\"rgb(36,36,36)\"},\"type\":\"carpet\"}],\"choropleth\":[{\"colorbar\":{\"outlinewidth\":1,\"tickcolor\":\"rgb(36,36,36)\",\"ticks\":\"outside\"},\"type\":\"choropleth\"}],\"contourcarpet\":[{\"colorbar\":{\"outlinewidth\":1,\"tickcolor\":\"rgb(36,36,36)\",\"ticks\":\"outside\"},\"type\":\"contourcarpet\"}],\"contour\":[{\"colorbar\":{\"outlinewidth\":1,\"tickcolor\":\"rgb(36,36,36)\",\"ticks\":\"outside\"},\"colorscale\":[[0.0,\"#440154\"],[0.1111111111111111,\"#482878\"],[0.2222222222222222,\"#3e4989\"],[0.3333333333333333,\"#31688e\"],[0.4444444444444444,\"#26828e\"],[0.5555555555555556,\"#1f9e89\"],[0.6666666666666666,\"#35b779\"],[0.7777777777777778,\"#6ece58\"],[0.8888888888888888,\"#b5de2b\"],[1.0,\"#fde725\"]],\"type\":\"contour\"}],\"heatmapgl\":[{\"colorbar\":{\"outlinewidth\":1,\"tickcolor\":\"rgb(36,36,36)\",\"ticks\":\"outside\"},\"colorscale\":[[0.0,\"#440154\"],[0.1111111111111111,\"#482878\"],[0.2222222222222222,\"#3e4989\"],[0.3333333333333333,\"#31688e\"],[0.4444444444444444,\"#26828e\"],[0.5555555555555556,\"#1f9e89\"],[0.6666666666666666,\"#35b779\"],[0.7777777777777778,\"#6ece58\"],[0.8888888888888888,\"#b5de2b\"],[1.0,\"#fde725\"]],\"type\":\"heatmapgl\"}],\"heatmap\":[{\"colorbar\":{\"outlinewidth\":1,\"tickcolor\":\"rgb(36,36,36)\",\"ticks\":\"outside\"},\"colorscale\":[[0.0,\"#440154\"],[0.1111111111111111,\"#482878\"],[0.2222222222222222,\"#3e4989\"],[0.3333333333333333,\"#31688e\"],[0.4444444444444444,\"#26828e\"],[0.5555555555555556,\"#1f9e89\"],[0.6666666666666666,\"#35b779\"],[0.7777777777777778,\"#6ece58\"],[0.8888888888888888,\"#b5de2b\"],[1.0,\"#fde725\"]],\"type\":\"heatmap\"}],\"histogram2dcontour\":[{\"colorbar\":{\"outlinewidth\":1,\"tickcolor\":\"rgb(36,36,36)\",\"ticks\":\"outside\"},\"colorscale\":[[0.0,\"#440154\"],[0.1111111111111111,\"#482878\"],[0.2222222222222222,\"#3e4989\"],[0.3333333333333333,\"#31688e\"],[0.4444444444444444,\"#26828e\"],[0.5555555555555556,\"#1f9e89\"],[0.6666666666666666,\"#35b779\"],[0.7777777777777778,\"#6ece58\"],[0.8888888888888888,\"#b5de2b\"],[1.0,\"#fde725\"]],\"type\":\"histogram2dcontour\"}],\"histogram2d\":[{\"colorbar\":{\"outlinewidth\":1,\"tickcolor\":\"rgb(36,36,36)\",\"ticks\":\"outside\"},\"colorscale\":[[0.0,\"#440154\"],[0.1111111111111111,\"#482878\"],[0.2222222222222222,\"#3e4989\"],[0.3333333333333333,\"#31688e\"],[0.4444444444444444,\"#26828e\"],[0.5555555555555556,\"#1f9e89\"],[0.6666666666666666,\"#35b779\"],[0.7777777777777778,\"#6ece58\"],[0.8888888888888888,\"#b5de2b\"],[1.0,\"#fde725\"]],\"type\":\"histogram2d\"}],\"histogram\":[{\"marker\":{\"line\":{\"color\":\"white\",\"width\":0.6}},\"type\":\"histogram\"}],\"mesh3d\":[{\"colorbar\":{\"outlinewidth\":1,\"tickcolor\":\"rgb(36,36,36)\",\"ticks\":\"outside\"},\"type\":\"mesh3d\"}],\"parcoords\":[{\"line\":{\"colorbar\":{\"outlinewidth\":1,\"tickcolor\":\"rgb(36,36,36)\",\"ticks\":\"outside\"}},\"type\":\"parcoords\"}],\"pie\":[{\"automargin\":true,\"type\":\"pie\"}],\"scatter3d\":[{\"line\":{\"colorbar\":{\"outlinewidth\":1,\"tickcolor\":\"rgb(36,36,36)\",\"ticks\":\"outside\"}},\"marker\":{\"colorbar\":{\"outlinewidth\":1,\"tickcolor\":\"rgb(36,36,36)\",\"ticks\":\"outside\"}},\"type\":\"scatter3d\"}],\"scattercarpet\":[{\"marker\":{\"colorbar\":{\"outlinewidth\":1,\"tickcolor\":\"rgb(36,36,36)\",\"ticks\":\"outside\"}},\"type\":\"scattercarpet\"}],\"scattergeo\":[{\"marker\":{\"colorbar\":{\"outlinewidth\":1,\"tickcolor\":\"rgb(36,36,36)\",\"ticks\":\"outside\"}},\"type\":\"scattergeo\"}],\"scattergl\":[{\"marker\":{\"colorbar\":{\"outlinewidth\":1,\"tickcolor\":\"rgb(36,36,36)\",\"ticks\":\"outside\"}},\"type\":\"scattergl\"}],\"scattermapbox\":[{\"marker\":{\"colorbar\":{\"outlinewidth\":1,\"tickcolor\":\"rgb(36,36,36)\",\"ticks\":\"outside\"}},\"type\":\"scattermapbox\"}],\"scatterpolargl\":[{\"marker\":{\"colorbar\":{\"outlinewidth\":1,\"tickcolor\":\"rgb(36,36,36)\",\"ticks\":\"outside\"}},\"type\":\"scatterpolargl\"}],\"scatterpolar\":[{\"marker\":{\"colorbar\":{\"outlinewidth\":1,\"tickcolor\":\"rgb(36,36,36)\",\"ticks\":\"outside\"}},\"type\":\"scatterpolar\"}],\"scatter\":[{\"marker\":{\"colorbar\":{\"outlinewidth\":1,\"tickcolor\":\"rgb(36,36,36)\",\"ticks\":\"outside\"}},\"type\":\"scatter\"}],\"scatterternary\":[{\"marker\":{\"colorbar\":{\"outlinewidth\":1,\"tickcolor\":\"rgb(36,36,36)\",\"ticks\":\"outside\"}},\"type\":\"scatterternary\"}],\"surface\":[{\"colorbar\":{\"outlinewidth\":1,\"tickcolor\":\"rgb(36,36,36)\",\"ticks\":\"outside\"},\"colorscale\":[[0.0,\"#440154\"],[0.1111111111111111,\"#482878\"],[0.2222222222222222,\"#3e4989\"],[0.3333333333333333,\"#31688e\"],[0.4444444444444444,\"#26828e\"],[0.5555555555555556,\"#1f9e89\"],[0.6666666666666666,\"#35b779\"],[0.7777777777777778,\"#6ece58\"],[0.8888888888888888,\"#b5de2b\"],[1.0,\"#fde725\"]],\"type\":\"surface\"}],\"table\":[{\"cells\":{\"fill\":{\"color\":\"rgb(237,237,237)\"},\"line\":{\"color\":\"white\"}},\"header\":{\"fill\":{\"color\":\"rgb(217,217,217)\"},\"line\":{\"color\":\"white\"}},\"type\":\"table\"}]},\"layout\":{\"annotationdefaults\":{\"arrowhead\":0,\"arrowwidth\":1},\"autotypenumbers\":\"strict\",\"coloraxis\":{\"colorbar\":{\"outlinewidth\":1,\"tickcolor\":\"rgb(36,36,36)\",\"ticks\":\"outside\"}},\"colorscale\":{\"diverging\":[[0.0,\"rgb(103,0,31)\"],[0.1,\"rgb(178,24,43)\"],[0.2,\"rgb(214,96,77)\"],[0.3,\"rgb(244,165,130)\"],[0.4,\"rgb(253,219,199)\"],[0.5,\"rgb(247,247,247)\"],[0.6,\"rgb(209,229,240)\"],[0.7,\"rgb(146,197,222)\"],[0.8,\"rgb(67,147,195)\"],[0.9,\"rgb(33,102,172)\"],[1.0,\"rgb(5,48,97)\"]],\"sequential\":[[0.0,\"#440154\"],[0.1111111111111111,\"#482878\"],[0.2222222222222222,\"#3e4989\"],[0.3333333333333333,\"#31688e\"],[0.4444444444444444,\"#26828e\"],[0.5555555555555556,\"#1f9e89\"],[0.6666666666666666,\"#35b779\"],[0.7777777777777778,\"#6ece58\"],[0.8888888888888888,\"#b5de2b\"],[1.0,\"#fde725\"]],\"sequentialminus\":[[0.0,\"#440154\"],[0.1111111111111111,\"#482878\"],[0.2222222222222222,\"#3e4989\"],[0.3333333333333333,\"#31688e\"],[0.4444444444444444,\"#26828e\"],[0.5555555555555556,\"#1f9e89\"],[0.6666666666666666,\"#35b779\"],[0.7777777777777778,\"#6ece58\"],[0.8888888888888888,\"#b5de2b\"],[1.0,\"#fde725\"]]},\"colorway\":[\"#1F77B4\",\"#FF7F0E\",\"#2CA02C\",\"#D62728\",\"#9467BD\",\"#8C564B\",\"#E377C2\",\"#7F7F7F\",\"#BCBD22\",\"#17BECF\"],\"font\":{\"color\":\"rgb(36,36,36)\"},\"geo\":{\"bgcolor\":\"white\",\"lakecolor\":\"white\",\"landcolor\":\"white\",\"showlakes\":true,\"showland\":true,\"subunitcolor\":\"white\"},\"hoverlabel\":{\"align\":\"left\"},\"hovermode\":\"closest\",\"mapbox\":{\"style\":\"light\"},\"paper_bgcolor\":\"white\",\"plot_bgcolor\":\"white\",\"polar\":{\"angularaxis\":{\"gridcolor\":\"rgb(232,232,232)\",\"linecolor\":\"rgb(36,36,36)\",\"showgrid\":false,\"showline\":true,\"ticks\":\"outside\"},\"bgcolor\":\"white\",\"radialaxis\":{\"gridcolor\":\"rgb(232,232,232)\",\"linecolor\":\"rgb(36,36,36)\",\"showgrid\":false,\"showline\":true,\"ticks\":\"outside\"}},\"scene\":{\"xaxis\":{\"backgroundcolor\":\"white\",\"gridcolor\":\"rgb(232,232,232)\",\"gridwidth\":2,\"linecolor\":\"rgb(36,36,36)\",\"showbackground\":true,\"showgrid\":false,\"showline\":true,\"ticks\":\"outside\",\"zeroline\":false,\"zerolinecolor\":\"rgb(36,36,36)\"},\"yaxis\":{\"backgroundcolor\":\"white\",\"gridcolor\":\"rgb(232,232,232)\",\"gridwidth\":2,\"linecolor\":\"rgb(36,36,36)\",\"showbackground\":true,\"showgrid\":false,\"showline\":true,\"ticks\":\"outside\",\"zeroline\":false,\"zerolinecolor\":\"rgb(36,36,36)\"},\"zaxis\":{\"backgroundcolor\":\"white\",\"gridcolor\":\"rgb(232,232,232)\",\"gridwidth\":2,\"linecolor\":\"rgb(36,36,36)\",\"showbackground\":true,\"showgrid\":false,\"showline\":true,\"ticks\":\"outside\",\"zeroline\":false,\"zerolinecolor\":\"rgb(36,36,36)\"}},\"shapedefaults\":{\"fillcolor\":\"black\",\"line\":{\"width\":0},\"opacity\":0.3},\"ternary\":{\"aaxis\":{\"gridcolor\":\"rgb(232,232,232)\",\"linecolor\":\"rgb(36,36,36)\",\"showgrid\":false,\"showline\":true,\"ticks\":\"outside\"},\"baxis\":{\"gridcolor\":\"rgb(232,232,232)\",\"linecolor\":\"rgb(36,36,36)\",\"showgrid\":false,\"showline\":true,\"ticks\":\"outside\"},\"bgcolor\":\"white\",\"caxis\":{\"gridcolor\":\"rgb(232,232,232)\",\"linecolor\":\"rgb(36,36,36)\",\"showgrid\":false,\"showline\":true,\"ticks\":\"outside\"}},\"title\":{\"x\":0.05},\"xaxis\":{\"automargin\":true,\"gridcolor\":\"rgb(232,232,232)\",\"linecolor\":\"rgb(36,36,36)\",\"showgrid\":false,\"showline\":true,\"ticks\":\"outside\",\"title\":{\"standoff\":15},\"zeroline\":false,\"zerolinecolor\":\"rgb(36,36,36)\"},\"yaxis\":{\"automargin\":true,\"gridcolor\":\"rgb(232,232,232)\",\"linecolor\":\"rgb(36,36,36)\",\"showgrid\":false,\"showline\":true,\"ticks\":\"outside\",\"title\":{\"standoff\":15},\"zeroline\":false,\"zerolinecolor\":\"rgb(36,36,36)\"}}},\"xaxis\":{\"showgrid\":true,\"title\":{\"text\":\"Frequency\"}},\"yaxis\":{\"showgrid\":true,\"title\":{\"text\":\"Class\"}},\"title\":{\"font\":{\"size\":22,\"color\":\"Black\"},\"text\":\"<b>Topics per Class\",\"y\":0.95,\"x\":0.4,\"xanchor\":\"center\",\"yanchor\":\"top\"},\"hoverlabel\":{\"font\":{\"size\":16,\"family\":\"Rockwell\"},\"bgcolor\":\"white\"},\"width\":1250,\"height\":900,\"legend\":{\"title\":{\"text\":\"<b>Global Topic Representation\"}}},                        {\"responsive\": true}                    ).then(function(){\n",
       "                            \n",
       "var gd = document.getElementById('7ebaf76e-a05f-4d01-bad0-ce35a0dd35d2');\n",
       "var x = new MutationObserver(function (mutations, observer) {{\n",
       "        var display = window.getComputedStyle(gd).display;\n",
       "        if (!display || display === 'none') {{\n",
       "            console.log([gd, 'removed!']);\n",
       "            Plotly.purge(gd);\n",
       "            observer.disconnect();\n",
       "        }}\n",
       "}});\n",
       "\n",
       "// Listen for the removal of the full notebook cells\n",
       "var notebookContainer = gd.closest('#notebook-container');\n",
       "if (notebookContainer) {{\n",
       "    x.observe(notebookContainer, {childList: true});\n",
       "}}\n",
       "\n",
       "// Listen for the clearing of the current output cell\n",
       "var outputEl = gd.closest('.output');\n",
       "if (outputEl) {{\n",
       "    x.observe(outputEl, {childList: true});\n",
       "}}\n",
       "\n",
       "                        })                };                });            </script>        </div>"
      ]
     },
     "metadata": {},
     "output_type": "display_data"
    }
   ],
   "source": [
    "classes = [p[0].title for p in paragraph_corpus]\n",
    "docs = [p[1].clean_text for p in paragraph_corpus]\n",
    "topics_per_class = model.topics_per_class(docs, topics, classes=classes)\n",
    "\n",
    "model.visualize_topics_per_class(topics_per_class, top_n_topics=50)"
   ]
  },
  {
   "cell_type": "code",
   "execution_count": 33,
   "metadata": {},
   "outputs": [
    {
     "data": {
      "text/html": [
       "<div>\n",
       "<style scoped>\n",
       "    .dataframe tbody tr th:only-of-type {\n",
       "        vertical-align: middle;\n",
       "    }\n",
       "\n",
       "    .dataframe tbody tr th {\n",
       "        vertical-align: top;\n",
       "    }\n",
       "\n",
       "    .dataframe thead th {\n",
       "        text-align: right;\n",
       "    }\n",
       "</style>\n",
       "<table border=\"1\" class=\"dataframe\">\n",
       "  <thead>\n",
       "    <tr style=\"text-align: right;\">\n",
       "      <th></th>\n",
       "      <th>0</th>\n",
       "      <th>1</th>\n",
       "      <th>2</th>\n",
       "      <th>3</th>\n",
       "    </tr>\n",
       "  </thead>\n",
       "  <tbody>\n",
       "    <tr>\n",
       "      <th>0</th>\n",
       "      <td>The IPBES assessment report on land degradatio...</td>\n",
       "      <td>6</td>\n",
       "      <td>163</td>\n",
       "      <td>0.954911</td>\n",
       "    </tr>\n",
       "    <tr>\n",
       "      <th>1</th>\n",
       "      <td>The IPBES assessment report on land degradatio...</td>\n",
       "      <td>7</td>\n",
       "      <td>-1</td>\n",
       "      <td>0.000000</td>\n",
       "    </tr>\n",
       "    <tr>\n",
       "      <th>2</th>\n",
       "      <td>The IPBES assessment report on land degradatio...</td>\n",
       "      <td>9</td>\n",
       "      <td>77</td>\n",
       "      <td>0.418910</td>\n",
       "    </tr>\n",
       "    <tr>\n",
       "      <th>3</th>\n",
       "      <td>The IPBES assessment report on land degradatio...</td>\n",
       "      <td>13</td>\n",
       "      <td>3</td>\n",
       "      <td>1.000000</td>\n",
       "    </tr>\n",
       "    <tr>\n",
       "      <th>4</th>\n",
       "      <td>The IPBES assessment report on land degradatio...</td>\n",
       "      <td>24</td>\n",
       "      <td>3</td>\n",
       "      <td>0.911277</td>\n",
       "    </tr>\n",
       "    <tr>\n",
       "      <th>...</th>\n",
       "      <td>...</td>\n",
       "      <td>...</td>\n",
       "      <td>...</td>\n",
       "      <td>...</td>\n",
       "    </tr>\n",
       "    <tr>\n",
       "      <th>15408</th>\n",
       "      <td>Progress on household drinking water, sanitati...</td>\n",
       "      <td>8</td>\n",
       "      <td>8</td>\n",
       "      <td>0.966017</td>\n",
       "    </tr>\n",
       "    <tr>\n",
       "      <th>15409</th>\n",
       "      <td>Progress on household drinking water, sanitati...</td>\n",
       "      <td>9</td>\n",
       "      <td>8</td>\n",
       "      <td>0.676773</td>\n",
       "    </tr>\n",
       "    <tr>\n",
       "      <th>15410</th>\n",
       "      <td>Progress on household drinking water, sanitati...</td>\n",
       "      <td>11</td>\n",
       "      <td>0</td>\n",
       "      <td>1.000000</td>\n",
       "    </tr>\n",
       "    <tr>\n",
       "      <th>15411</th>\n",
       "      <td>Progress on household drinking water, sanitati...</td>\n",
       "      <td>12</td>\n",
       "      <td>0</td>\n",
       "      <td>1.000000</td>\n",
       "    </tr>\n",
       "    <tr>\n",
       "      <th>15412</th>\n",
       "      <td>Progress on household drinking water, sanitati...</td>\n",
       "      <td>20</td>\n",
       "      <td>23</td>\n",
       "      <td>0.829304</td>\n",
       "    </tr>\n",
       "  </tbody>\n",
       "</table>\n",
       "<p>15413 rows × 4 columns</p>\n",
       "</div>"
      ],
      "text/plain": [
       "                                                       0   1    2         3\n",
       "0      The IPBES assessment report on land degradatio...   6  163  0.954911\n",
       "1      The IPBES assessment report on land degradatio...   7   -1  0.000000\n",
       "2      The IPBES assessment report on land degradatio...   9   77  0.418910\n",
       "3      The IPBES assessment report on land degradatio...  13    3  1.000000\n",
       "4      The IPBES assessment report on land degradatio...  24    3  0.911277\n",
       "...                                                  ...  ..  ...       ...\n",
       "15408  Progress on household drinking water, sanitati...   8    8  0.966017\n",
       "15409  Progress on household drinking water, sanitati...   9    8  0.676773\n",
       "15410  Progress on household drinking water, sanitati...  11    0  1.000000\n",
       "15411  Progress on household drinking water, sanitati...  12    0  1.000000\n",
       "15412  Progress on household drinking water, sanitati...  20   23  0.829304\n",
       "\n",
       "[15413 rows x 4 columns]"
      ]
     },
     "execution_count": 33,
     "metadata": {},
     "output_type": "execute_result"
    }
   ],
   "source": [
    "import pandas as pd\n",
    "\n",
    "df = pd.DataFrame(zip(\n",
    "    [p[0].title for p in paragraph_corpus],\n",
    "    [p[1].paragraph_number for p in paragraph_corpus],\n",
    "    topics,\n",
    "    probs))\n",
    "df"
   ]
  },
  {
   "cell_type": "code",
   "execution_count": 40,
   "metadata": {},
   "outputs": [
    {
     "data": {
      "text/plain": [
       "[('urban', 0.05662432045765791),\n",
       " ('urbanization', 0.032408070752082165),\n",
       " ('infrastructure', 0.029760591950267336),\n",
       " ('countriesa', 0.02636790654881125),\n",
       " ('industrial', 0.024609193179964614),\n",
       " ('population', 0.02379736540685975),\n",
       " ('expansion', 0.021646506650837644),\n",
       " ('fastest', 0.019378805867260384),\n",
       " ('areas', 0.017589968655540134),\n",
       " ('rural', 0.016758706717772062)]"
      ]
     },
     "execution_count": 40,
     "metadata": {},
     "output_type": "execute_result"
    }
   ],
   "source": [
    "model.get_topic(108)"
   ]
  },
  {
   "cell_type": "code",
   "execution_count": 39,
   "metadata": {},
   "outputs": [
    {
     "data": {
      "text/plain": [
       "([108, 27, 248, 1, 197],\n",
       " [0.48837225889821007,\n",
       "  0.42385275735492345,\n",
       "  0.4122117454034694,\n",
       "  0.40832755861798375,\n",
       "  0.4069519099064797])"
      ]
     },
     "execution_count": 39,
     "metadata": {},
     "output_type": "execute_result"
    }
   ],
   "source": [
    "model.find_topics('urban emission reduction')"
   ]
  },
  {
   "cell_type": "code",
   "execution_count": null,
   "metadata": {},
   "outputs": [],
   "source": []
  }
 ],
 "metadata": {
  "interpreter": {
   "hash": "49051fa9c97d2208e76c7eb96195ba3e00fefa21bde1e473e14d7eab0c0ffdb2"
  },
  "kernelspec": {
   "display_name": "Python 3.8.3 ('unsdgftw-N0SlpaNg')",
   "language": "python",
   "name": "python3"
  },
  "language_info": {
   "codemirror_mode": {
    "name": "ipython",
    "version": 3
   },
   "file_extension": ".py",
   "mimetype": "text/x-python",
   "name": "python",
   "nbconvert_exporter": "python",
   "pygments_lexer": "ipython3",
   "version": "3.8.3"
  },
  "orig_nbformat": 4
 },
 "nbformat": 4,
 "nbformat_minor": 2
}
