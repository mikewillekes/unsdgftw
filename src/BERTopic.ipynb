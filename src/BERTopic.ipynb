{
 "cells": [
  {
   "cell_type": "code",
   "execution_count": 1,
   "metadata": {},
   "outputs": [
    {
     "name": "stdout",
     "output_type": "stream",
     "text": [
      "Using GPU: True\n"
     ]
    }
   ],
   "source": [
    "import re\n",
    "import time\n",
    "\n",
    "from bertopic import BERTopic\n",
    "from sentence_transformers import SentenceTransformer,util\n",
    "import torch\n",
    "\n",
    "# Local application imports\n",
    "from metadata.document_metadata import *\n",
    "from metadata.paragraph_metadata import *\n",
    "from metadata.nlp_metadata import *\n",
    "from config import config\n",
    "from sdgs.sustainable_development_goals import *\n",
    "from clean.clean_text import normalize_unicode"
   ]
  },
  {
   "cell_type": "code",
   "execution_count": 2,
   "metadata": {},
   "outputs": [],
   "source": [
    "model = BERTopic(embedding_model='all-MiniLM-L6-v2')\n",
    "\n",
    "paragraph_corpus = []\n",
    "\n",
    "def process_document(document_collection_name, document):\n",
    "    # Build a collection of tuples (document, paragraph)\n",
    "    return list(build_paragraph_corpus(document_collection_name, document))\n",
    "\n",
    "\n",
    "def build_paragraph_corpus(document_collection_name, document):\n",
    "    paragraph_metadata_filename = config.get_paragraph_metadata_filename(document_collection_name, document.local_filename)\n",
    "    paragraphs = load_paragraph_metadata(paragraph_metadata_filename)\n",
    "\n",
    "    for paragraph in paragraphs:\n",
    "        yield (document, paragraph)\n",
    "\n",
    "def process_document_collections(document_collections):\n",
    "    \n",
    "    #\n",
    "    # Unlike the SDG --> Sentence semantic similarity, in this case\n",
    "    # we need to process all the docs at once\n",
    "    #\n",
    "    for document_collection_name in document_collections:\n",
    "\n",
    "        print(f'{document_collection_name}')\n",
    "        document_metadata_filename = config.get_document_metadata_filename(document_collection_name)\n",
    "        documents = load_document_metadata(document_metadata_filename)\n",
    "        \n",
    "        for document in documents:\n",
    "            print(f'{document.local_filename}')\n",
    "            \n",
    "            # Process document retuns a list of tuples of (document, paragraph)\n",
    "            paragraph_corpus.extend(process_document(document_collection_name, document))\n",
    "            print(f'{len(paragraph_corpus)} total paragraphs')\n",
    "    \n",
    "    # Build embeddings\n",
    "    print(f'Topic Modelling {len(paragraph_corpus)} paragraphs; Please wait...')"
   ]
  },
  {
   "cell_type": "code",
   "execution_count": 3,
   "metadata": {},
   "outputs": [
    {
     "name": "stdout",
     "output_type": "stream",
     "text": [
      "OKR\n",
      "9781464818127.pdf\n",
      "1642 total paragraphs\n",
      "9781464818172.pdf\n",
      "2210 total paragraphs\n",
      "UNICEF\n",
      "State-of-the-Worlds-Hand-Hygiene-report-2021.pdf\n",
      "2563 total paragraphs\n",
      "jmp-2021-wash-households_3.pdf\n",
      "3558 total paragraphs\n",
      "Topic Modelling 3558 paragraphs; Please wait...\n"
     ]
    }
   ],
   "source": [
    "#process_document_collections(['IPBES', 'IPCC', 'IUCN', 'MA', 'OKR', 'UNICEF'])\n",
    "process_document_collections(['OKR', 'UNICEF'])\n",
    "\n",
    "topics, probs = model.fit_transform([p[1].clean_text for p in paragraph_corpus])"
   ]
  },
  {
   "cell_type": "code",
   "execution_count": null,
   "metadata": {},
   "outputs": [],
   "source": [
    "model.visualize_barchart()"
   ]
  },
  {
   "cell_type": "code",
   "execution_count": null,
   "metadata": {},
   "outputs": [],
   "source": [
    "classes = [p[0].title for p in paragraph_corpus]\n",
    "docs = [p[1].clean_text for p in paragraph_corpus]\n",
    "topics_per_class = model.topics_per_class(docs, topics, classes=classes)\n",
    "\n",
    "model.visualize_topics_per_class(topics_per_class, top_n_topics=50)"
   ]
  },
  {
   "cell_type": "code",
   "execution_count": 4,
   "metadata": {},
   "outputs": [
    {
     "data": {
      "text/html": [
       "<div>\n",
       "<style scoped>\n",
       "    .dataframe tbody tr th:only-of-type {\n",
       "        vertical-align: middle;\n",
       "    }\n",
       "\n",
       "    .dataframe tbody tr th {\n",
       "        vertical-align: top;\n",
       "    }\n",
       "\n",
       "    .dataframe thead th {\n",
       "        text-align: right;\n",
       "    }\n",
       "</style>\n",
       "<table border=\"1\" class=\"dataframe\">\n",
       "  <thead>\n",
       "    <tr style=\"text-align: right;\">\n",
       "      <th></th>\n",
       "      <th>0</th>\n",
       "      <th>1</th>\n",
       "      <th>2</th>\n",
       "      <th>3</th>\n",
       "    </tr>\n",
       "  </thead>\n",
       "  <tbody>\n",
       "    <tr>\n",
       "      <th>0</th>\n",
       "      <td>The IPBES assessment report on land degradatio...</td>\n",
       "      <td>6</td>\n",
       "      <td>176</td>\n",
       "      <td>1.000000</td>\n",
       "    </tr>\n",
       "    <tr>\n",
       "      <th>1</th>\n",
       "      <td>The IPBES assessment report on land degradatio...</td>\n",
       "      <td>7</td>\n",
       "      <td>235</td>\n",
       "      <td>0.305745</td>\n",
       "    </tr>\n",
       "    <tr>\n",
       "      <th>2</th>\n",
       "      <td>The IPBES assessment report on land degradatio...</td>\n",
       "      <td>9</td>\n",
       "      <td>79</td>\n",
       "      <td>0.247212</td>\n",
       "    </tr>\n",
       "    <tr>\n",
       "      <th>3</th>\n",
       "      <td>The IPBES assessment report on land degradatio...</td>\n",
       "      <td>13</td>\n",
       "      <td>0</td>\n",
       "      <td>0.835464</td>\n",
       "    </tr>\n",
       "    <tr>\n",
       "      <th>4</th>\n",
       "      <td>The IPBES assessment report on land degradatio...</td>\n",
       "      <td>24</td>\n",
       "      <td>-1</td>\n",
       "      <td>0.000000</td>\n",
       "    </tr>\n",
       "    <tr>\n",
       "      <th>...</th>\n",
       "      <td>...</td>\n",
       "      <td>...</td>\n",
       "      <td>...</td>\n",
       "      <td>...</td>\n",
       "    </tr>\n",
       "    <tr>\n",
       "      <th>15408</th>\n",
       "      <td>Progress on household drinking water, sanitati...</td>\n",
       "      <td>8</td>\n",
       "      <td>8</td>\n",
       "      <td>0.835230</td>\n",
       "    </tr>\n",
       "    <tr>\n",
       "      <th>15409</th>\n",
       "      <td>Progress on household drinking water, sanitati...</td>\n",
       "      <td>9</td>\n",
       "      <td>8</td>\n",
       "      <td>0.835064</td>\n",
       "    </tr>\n",
       "    <tr>\n",
       "      <th>15410</th>\n",
       "      <td>Progress on household drinking water, sanitati...</td>\n",
       "      <td>11</td>\n",
       "      <td>21</td>\n",
       "      <td>1.000000</td>\n",
       "    </tr>\n",
       "    <tr>\n",
       "      <th>15411</th>\n",
       "      <td>Progress on household drinking water, sanitati...</td>\n",
       "      <td>12</td>\n",
       "      <td>76</td>\n",
       "      <td>0.953132</td>\n",
       "    </tr>\n",
       "    <tr>\n",
       "      <th>15412</th>\n",
       "      <td>Progress on household drinking water, sanitati...</td>\n",
       "      <td>20</td>\n",
       "      <td>25</td>\n",
       "      <td>1.000000</td>\n",
       "    </tr>\n",
       "  </tbody>\n",
       "</table>\n",
       "<p>15413 rows × 4 columns</p>\n",
       "</div>"
      ],
      "text/plain": [
       "                                                       0   1    2         3\n",
       "0      The IPBES assessment report on land degradatio...   6  176  1.000000\n",
       "1      The IPBES assessment report on land degradatio...   7  235  0.305745\n",
       "2      The IPBES assessment report on land degradatio...   9   79  0.247212\n",
       "3      The IPBES assessment report on land degradatio...  13    0  0.835464\n",
       "4      The IPBES assessment report on land degradatio...  24   -1  0.000000\n",
       "...                                                  ...  ..  ...       ...\n",
       "15408  Progress on household drinking water, sanitati...   8    8  0.835230\n",
       "15409  Progress on household drinking water, sanitati...   9    8  0.835064\n",
       "15410  Progress on household drinking water, sanitati...  11   21  1.000000\n",
       "15411  Progress on household drinking water, sanitati...  12   76  0.953132\n",
       "15412  Progress on household drinking water, sanitati...  20   25  1.000000\n",
       "\n",
       "[15413 rows x 4 columns]"
      ]
     },
     "execution_count": 4,
     "metadata": {},
     "output_type": "execute_result"
    }
   ],
   "source": [
    "import pandas as pd\n",
    "\n",
    "df = pd.DataFrame(zip(\n",
    "    [p[0].title for p in paragraph_corpus],\n",
    "    [p[1].paragraph_number for p in paragraph_corpus],\n",
    "    topics,\n",
    "    probs))\n",
    "df"
   ]
  },
  {
   "cell_type": "code",
   "execution_count": 18,
   "metadata": {},
   "outputs": [
    {
     "data": {
      "text/plain": [
       "'3_women_law_business_laws'"
      ]
     },
     "execution_count": 18,
     "metadata": {},
     "output_type": "execute_result"
    }
   ],
   "source": [
    "model.get_topic_info(3)['Name'].item()"
   ]
  },
  {
   "cell_type": "code",
   "execution_count": 25,
   "metadata": {},
   "outputs": [
    {
     "data": {
      "text/plain": [
       "['0/ C an as fective, on par with oral rehydration therapy and most childhood vaccinations.32 A 2012 study by the Organization for Economic Co-operation and Development suggests that, in the organizations member states, investments in hand hygiene in health care facilities generate savings in health expenditure that are, on average, 15 times the implementation costs.33',\n",
       " 'Such results are hard to interpret alone. However, the Disease Control Priorities project provides combined assessments of the cost-effectiveness of health interventions, measured in terms of the extent to which they can avert disability-adjusted life years. DALYs are the sum of years of potential life lost due to premature mortality and the years of productive life lost due to disability. In 2016, drawing on the study in Burkina Faso, the DCP project estimated that the cost for every DALY averted through handwashing was US$88-225. On this basis, the DCP project rated handwashing as a very cost-effective intervention for child health, placing it on a similar level to oral rehydration therapy and most childhood vaccinations. 36',\n",
       " 'A 2002 study considered a hygiene promotion intervention implemented in urban Burkina Faso.35 The success of the intervention was evaluated through a study of handwashing uptake and behaviour by mothers of young children, and the findings from this evaluation were combined with secondary data on health risk reduction in the intervention area. The study examined the direct medical savings for the government and households, due to diarrhoeal disease, plus indirect savings related to caretaker time and lost productivity associated with child death. The authors concluded that the cost to society of the intervention was equal to US$51 per case of diarrhoea averted, falling to US$7.90 if indirect benefits were included. At the time, the annual cost of the pro- gramme was 0.001 per cent of the annual health budget of Burkina Faso.']"
      ]
     },
     "execution_count": 25,
     "metadata": {},
     "output_type": "execute_result"
    }
   ],
   "source": [
    "model.get_representative_docs(3)"
   ]
  },
  {
   "cell_type": "code",
   "execution_count": 16,
   "metadata": {},
   "outputs": [
    {
     "data": {
      "text/plain": [
       "([223, 167, 162, 209, 138],\n",
       " [0.6093231769834813,\n",
       "  0.5233966553222298,\n",
       "  0.4966849238040982,\n",
       "  0.4891034503732047,\n",
       "  0.48801232719004406])"
      ]
     },
     "execution_count": 16,
     "metadata": {},
     "output_type": "execute_result"
    }
   ],
   "source": [
    "model.find_topics(\"Cyprus\")"
   ]
  },
  {
   "cell_type": "code",
   "execution_count": 78,
   "metadata": {},
   "outputs": [
    {
     "data": {
      "text/plain": [
       "[('ice', 0.058086001666427925),\n",
       " ('mass', 0.02671803802367059),\n",
       " ('antarctic', 0.02637503963887775),\n",
       " ('arctic', 0.02578550143288435),\n",
       " ('snow', 0.023676150231618016),\n",
       " ('sea', 0.023338921286116608),\n",
       " ('glaciers', 0.02119118687775453),\n",
       " ('sheet', 0.02080255052706511),\n",
       " ('glacier', 0.014404248857851108),\n",
       " ('since', 0.012866614402918005)]"
      ]
     },
     "execution_count": 78,
     "metadata": {},
     "output_type": "execute_result"
    }
   ],
   "source": [
    "model.get_topic(9)"
   ]
  }
 ],
 "metadata": {
  "interpreter": {
   "hash": "49051fa9c97d2208e76c7eb96195ba3e00fefa21bde1e473e14d7eab0c0ffdb2"
  },
  "kernelspec": {
   "display_name": "Python 3.8.3 ('unsdgftw-N0SlpaNg')",
   "language": "python",
   "name": "python3"
  },
  "language_info": {
   "codemirror_mode": {
    "name": "ipython",
    "version": 3
   },
   "file_extension": ".py",
   "mimetype": "text/x-python",
   "name": "python",
   "nbconvert_exporter": "python",
   "pygments_lexer": "ipython3",
   "version": "3.8.3"
  },
  "orig_nbformat": 4
 },
 "nbformat": 4,
 "nbformat_minor": 2
}
